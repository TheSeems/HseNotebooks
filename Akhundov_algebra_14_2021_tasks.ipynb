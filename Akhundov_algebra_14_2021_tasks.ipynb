{
  "nbformat": 4,
  "nbformat_minor": 0,
  "metadata": {
    "kernelspec": {
      "display_name": "Python 3",
      "language": "python",
      "name": "python3"
    },
    "language_info": {
      "codemirror_mode": {
        "name": "ipython",
        "version": 3
      },
      "file_extension": ".py",
      "mimetype": "text/x-python",
      "name": "python",
      "nbconvert_exporter": "python",
      "pygments_lexer": "ipython3",
      "version": "3.7.3"
    },
    "colab": {
      "name": "Akhundov_algebra_14_2021_tasks.ipynb",
      "provenance": [],
      "collapsed_sections": [],
      "include_colab_link": true
    }
  },
  "cells": [
    {
      "cell_type": "markdown",
      "metadata": {
        "id": "view-in-github",
        "colab_type": "text"
      },
      "source": [
        "<a href=\"https://colab.research.google.com/github/TheSeems/HseNotebooks/blob/main/Akhundov_algebra_14_2021_tasks.ipynb\" target=\"_parent\"><img src=\"https://colab.research.google.com/assets/colab-badge.svg\" alt=\"Open In Colab\"/></a>"
      ]
    },
    {
      "cell_type": "code",
      "metadata": {
        "id": "Z23a9CYdz7Rn"
      },
      "source": [
        "import matplotlib.pyplot as plt\n",
        "import sympy\n",
        "from sympy import Ellipse, Point, Line, S, plot_implicit, Eq, solve"
      ],
      "execution_count": 1,
      "outputs": []
    },
    {
      "cell_type": "markdown",
      "metadata": {
        "id": "Ebk11G65z7Ry"
      },
      "source": [
        "# Занятие 14\n",
        "# Алгебра\n",
        "### Задание 1.\n",
        "Построить эллипс с центром в точке А(1, 2), полуосями 3 и 2. Вычислить и вывести на экран эксцентриситет, площадь и длину дуги полученного эллипса, центр, полуоси, periapsis, apoapsis, межфокусное расстояние и фокусы."
      ]
    },
    {
      "cell_type": "code",
      "metadata": {
        "id": "7GXKI2_K7H2n"
      },
      "source": [
        "def display_ellipse(eq, x_from=-5, x_to=12, y_from=-15, y_to=15, x_var='x', y_var='y', p=None):\n",
        "  symb_free = eq.free_symbols\n",
        "  dict_free = {str(a): a for a in symb_free}\n",
        "  result = plot_implicit(\n",
        "      eq,\n",
        "      (dict_free[x_var], x_from, x_to),\n",
        "      (dict_free[y_var], y_from, y_to),\n",
        "      aspect_ratio=(1, 1), adaptive=False,\n",
        "      show=False\n",
        "  )\n",
        "  if p != None:\n",
        "    p.extend(result)\n",
        "    return p\n",
        "  else:\n",
        "    return result\n",
        "\n",
        "def display_multi(eqs, x_from=-5, x_to=12, y_from=-15, y_to=15, x_var='x', y_var='y'):\n",
        "  if len(eqs) < 1:\n",
        "    return None\n",
        "\n",
        "  plt = display_ellipse(eqs[0], x_from, x_to, y_from, y_to, x_var, y_var)\n",
        "  for eq in eqs[1:]:\n",
        "    plt = display_ellipse(eq, x_from, x_to, y_from, y_to, x_var, y_var, plt)\n",
        "\n",
        "  return plt\n",
        "\n",
        "\n",
        "def find_vertices(ellipse):\n",
        "  foci = ellipse.foci\n",
        "  thru_foci = Line(*foci)\n",
        "\n",
        "  line_eq = thru_foci.equation()\n",
        "  ellipse_eq = ellipse.equation()\n",
        "  solutions = solve([line_eq, ellipse_eq])\n",
        "\n",
        "  horizontal = []\n",
        "  for solution in solutions:\n",
        "    values = list(solution.values())\n",
        "    horizontal += [Point(*values)]\n",
        "\n",
        "  thru_foci_perp = thru_foci.perpendicular_line(El1.center)\n",
        "  line_eq = thru_foci_perp.equation()\n",
        "  solutions = solve([line_eq, ellipse_eq])\n",
        "\n",
        "  vertical = []\n",
        "  for solution in solutions:\n",
        "    values = list(solution.values())\n",
        "    vertical += [Point(*values)]\n",
        "  \n",
        "  return horizontal + vertical"
      ],
      "execution_count": 66,
      "outputs": []
    },
    {
      "cell_type": "code",
      "metadata": {
        "colab": {
          "base_uri": "https://localhost:8080/",
          "height": 578
        },
        "id": "qkXry0hyz7Rz",
        "outputId": "cba7baa1-7d3d-4e60-b950-986fa1a0a72b"
      },
      "source": [
        "A = Point(1, 2)\n",
        "El1 = Ellipse(A, hradius=3, vradius=2)\n",
        "\n",
        "display(El1)\n",
        "display('Эксцентриситент', El1.eccentricity)\n",
        "print()\n",
        "\n",
        "display('Площадь', El1.area)\n",
        "print()\n",
        "\n",
        "display('Длина дуги', El1.circumference)\n",
        "print()\n",
        "\n",
        "display('Центр', El1.center)\n",
        "print()\n",
        "\n",
        "display('Полуоси', El1.hradius, El1.vradius)\n",
        "print()\n",
        "\n",
        "display('Перифокусное расстояние', El1.periapsis)\n",
        "print()\n",
        "\n",
        "display('Апофокусное расстояние', El1.apoapsis)\n",
        "print()\n",
        "\n",
        "display('Межфокусное расстояние', El1.focus_distance)\n",
        "print()\n",
        "\n",
        "display('Фокусы', El1.foci)"
      ],
      "execution_count": 4,
      "outputs": [
        {
          "output_type": "display_data",
          "data": {
            "text/latex": "$\\displaystyle Ellipse\\left(Point2D\\left(1, 2\\right), 3, 2\\right)$",
            "text/plain": [
              "Ellipse(Point2D(1, 2), 3, 2)"
            ],
            "image/svg+xml": "<svg xmlns=\"http://www.w3.org/2000/svg\"\n            xmlns:xlink=\"http://www.w3.org/1999/xlink\"\n            width=\"100.0\" height=\"100.0\" viewBox=\"-2.60000000000000 -0.600000000000000 7.20000000000000 5.20000000000000\"\n            preserveAspectRatio=\"xMinYMin meet\">\n            <defs>\n                <marker id=\"markerCircle\" markerWidth=\"8\" markerHeight=\"8\"\n                    refx=\"5\" refy=\"5\" markerUnits=\"strokeWidth\">\n                    <circle cx=\"5\" cy=\"5\" r=\"1.5\" style=\"stroke: none; fill:#000000;\"/>\n                </marker>\n                <marker id=\"markerArrow\" markerWidth=\"13\" markerHeight=\"13\" refx=\"2\" refy=\"4\"\n                       orient=\"auto\" markerUnits=\"strokeWidth\">\n                    <path d=\"M2,2 L2,6 L6,4\" style=\"fill: #000000;\" />\n                </marker>\n                <marker id=\"markerReverseArrow\" markerWidth=\"13\" markerHeight=\"13\" refx=\"6\" refy=\"4\"\n                       orient=\"auto\" markerUnits=\"strokeWidth\">\n                    <path d=\"M6,2 L6,6 L2,4\" style=\"fill: #000000;\" />\n                </marker>\n            </defs><g transform=\"matrix(1,0,0,-1,0,4.00000000000000)\"><ellipse fill=\"#66cc99\" stroke=\"#555555\" stroke-width=\"0.144000000000000\" opacity=\"0.6\" cx=\"1.00000000000000\" cy=\"2.00000000000000\" rx=\"3.00000000000000\" ry=\"2.00000000000000\"/></g></svg>"
          },
          "metadata": {
            "tags": []
          }
        },
        {
          "output_type": "display_data",
          "data": {
            "application/vnd.google.colaboratory.intrinsic+json": {
              "type": "string"
            },
            "text/plain": [
              "'Эксцентриситент'"
            ]
          },
          "metadata": {
            "tags": []
          }
        },
        {
          "output_type": "display_data",
          "data": {
            "text/latex": "$\\displaystyle \\frac{\\sqrt{5}}{3}$",
            "text/plain": [
              "sqrt(5)/3"
            ]
          },
          "metadata": {
            "tags": []
          }
        },
        {
          "output_type": "stream",
          "text": [
            "\n"
          ],
          "name": "stdout"
        },
        {
          "output_type": "display_data",
          "data": {
            "application/vnd.google.colaboratory.intrinsic+json": {
              "type": "string"
            },
            "text/plain": [
              "'Площадь'"
            ]
          },
          "metadata": {
            "tags": []
          }
        },
        {
          "output_type": "display_data",
          "data": {
            "text/latex": "$\\displaystyle 6 \\pi$",
            "text/plain": [
              "6*pi"
            ]
          },
          "metadata": {
            "tags": []
          }
        },
        {
          "output_type": "stream",
          "text": [
            "\n"
          ],
          "name": "stdout"
        },
        {
          "output_type": "display_data",
          "data": {
            "application/vnd.google.colaboratory.intrinsic+json": {
              "type": "string"
            },
            "text/plain": [
              "'Длина дуги'"
            ]
          },
          "metadata": {
            "tags": []
          }
        },
        {
          "output_type": "display_data",
          "data": {
            "text/latex": "$\\displaystyle 12 E\\left(\\frac{5}{9}\\right)$",
            "text/plain": [
              "12*elliptic_e(5/9)"
            ]
          },
          "metadata": {
            "tags": []
          }
        },
        {
          "output_type": "stream",
          "text": [
            "\n"
          ],
          "name": "stdout"
        },
        {
          "output_type": "display_data",
          "data": {
            "application/vnd.google.colaboratory.intrinsic+json": {
              "type": "string"
            },
            "text/plain": [
              "'Центр'"
            ]
          },
          "metadata": {
            "tags": []
          }
        },
        {
          "output_type": "display_data",
          "data": {
            "text/latex": "$\\displaystyle Point2D\\left(1, 2\\right)$",
            "text/plain": [
              "Point2D(1, 2)"
            ]
          },
          "metadata": {
            "tags": []
          }
        },
        {
          "output_type": "stream",
          "text": [
            "\n"
          ],
          "name": "stdout"
        },
        {
          "output_type": "display_data",
          "data": {
            "application/vnd.google.colaboratory.intrinsic+json": {
              "type": "string"
            },
            "text/plain": [
              "'Полуоси'"
            ]
          },
          "metadata": {
            "tags": []
          }
        },
        {
          "output_type": "display_data",
          "data": {
            "text/latex": "$\\displaystyle 3$",
            "text/plain": [
              "3"
            ]
          },
          "metadata": {
            "tags": []
          }
        },
        {
          "output_type": "display_data",
          "data": {
            "text/latex": "$\\displaystyle 2$",
            "text/plain": [
              "2"
            ]
          },
          "metadata": {
            "tags": []
          }
        },
        {
          "output_type": "stream",
          "text": [
            "\n"
          ],
          "name": "stdout"
        },
        {
          "output_type": "display_data",
          "data": {
            "application/vnd.google.colaboratory.intrinsic+json": {
              "type": "string"
            },
            "text/plain": [
              "'Перифокусное расстояние'"
            ]
          },
          "metadata": {
            "tags": []
          }
        },
        {
          "output_type": "display_data",
          "data": {
            "text/latex": "$\\displaystyle 3 - \\sqrt{5}$",
            "text/plain": [
              "3 - sqrt(5)"
            ]
          },
          "metadata": {
            "tags": []
          }
        },
        {
          "output_type": "stream",
          "text": [
            "\n"
          ],
          "name": "stdout"
        },
        {
          "output_type": "display_data",
          "data": {
            "application/vnd.google.colaboratory.intrinsic+json": {
              "type": "string"
            },
            "text/plain": [
              "'Апофокусное расстояние'"
            ]
          },
          "metadata": {
            "tags": []
          }
        },
        {
          "output_type": "display_data",
          "data": {
            "text/latex": "$\\displaystyle \\sqrt{5} + 3$",
            "text/plain": [
              "sqrt(5) + 3"
            ]
          },
          "metadata": {
            "tags": []
          }
        },
        {
          "output_type": "stream",
          "text": [
            "\n"
          ],
          "name": "stdout"
        },
        {
          "output_type": "display_data",
          "data": {
            "application/vnd.google.colaboratory.intrinsic+json": {
              "type": "string"
            },
            "text/plain": [
              "'Межфокусное расстояние'"
            ]
          },
          "metadata": {
            "tags": []
          }
        },
        {
          "output_type": "display_data",
          "data": {
            "text/latex": "$\\displaystyle \\sqrt{5}$",
            "text/plain": [
              "sqrt(5)"
            ]
          },
          "metadata": {
            "tags": []
          }
        },
        {
          "output_type": "stream",
          "text": [
            "\n"
          ],
          "name": "stdout"
        },
        {
          "output_type": "display_data",
          "data": {
            "application/vnd.google.colaboratory.intrinsic+json": {
              "type": "string"
            },
            "text/plain": [
              "'Фокусы'"
            ]
          },
          "metadata": {
            "tags": []
          }
        },
        {
          "output_type": "display_data",
          "data": {
            "text/plain": [
              "(Point2D(1 - sqrt(5), 2), Point2D(1 + sqrt(5), 2))"
            ]
          },
          "metadata": {
            "tags": []
          }
        }
      ]
    },
    {
      "cell_type": "markdown",
      "metadata": {
        "id": "wEPBYx_Cz7R0"
      },
      "source": [
        "### Задание 2.\n",
        "Вывести на экран уравнение эллипса из задания 1, повернутого на 30 градусов против часовой стрелки относительно его центра,  переменные u и v.\n",
        "\n",
        "Изоразить на графике эллипс и повернутый эллипс."
      ]
    },
    {
      "cell_type": "code",
      "metadata": {
        "colab": {
          "base_uri": "https://localhost:8080/",
          "height": 367
        },
        "id": "WCYZ2Ihdz7R0",
        "outputId": "e50d2c4a-f4be-46a4-8a99-2976c1d0eedc"
      },
      "source": [
        "from sympy.abc import u, v\n",
        "El1_eq = El1.equation(x='u', y='v')\n",
        "El1_rot_eq = El1.equation(x='u', y='v', _slope=sympy.tan(sympy.pi / 6))\n",
        "\n",
        "display(El1_rot_eq)\n",
        "print()\n",
        "\n",
        "display_multi(\n",
        "    [El1_eq, El1_rot_eq],\n",
        "    x_from=-2.5, x_to=4.5,\n",
        "    y_from=-2, y_to=5,\n",
        "    x_var='u', y_var='v'\n",
        ").show()"
      ],
      "execution_count": 33,
      "outputs": [
        {
          "output_type": "display_data",
          "data": {
            "text/latex": "$\\displaystyle \\frac{\\left(u + \\frac{\\sqrt{3} \\left(v - 2\\right)}{3} - 1\\right)^{2}}{12} + \\frac{3 \\left(v - \\frac{\\sqrt{3} \\left(u - 1\\right)}{3} - 2\\right)^{2}}{16} - 1$",
            "text/plain": [
              "(u + sqrt(3)*(v - 2)/3 - 1)**2/12 + 3*(v - sqrt(3)*(u - 1)/3 - 2)**2/16 - 1"
            ]
          },
          "metadata": {
            "tags": []
          }
        },
        {
          "output_type": "stream",
          "text": [
            "\n"
          ],
          "name": "stdout"
        },
        {
          "output_type": "display_data",
          "data": {
            "image/png": "[encoded data removed]",
            "text/plain": [
              "<Figure size 432x288 with 1 Axes>"
            ]
          },
          "metadata": {
            "tags": [],
            "needs_background": "light"
          }
        }
      ]
    },
    {
      "cell_type": "markdown",
      "metadata": {
        "id": "GfA1rfgsz7R1"
      },
      "source": [
        "### Задание 3.\n",
        "Найти вершины эллипса из Задания 1.\n",
        "\n",
        "Указание: вершины эллипса искать как решение системы уравнений, составленной из уравнения эллипса и уравнения прямой, проходящей через форкусы (воспользоваться Line и методом equation()); вторую пару вершин получить как решение системы из уравнения эллипса и прямой, проходящей через центр эллипса перпендикулярно прямой, проходящей через фокусы. "
      ]
    },
    {
      "cell_type": "code",
      "metadata": {
        "colab": {
          "base_uri": "https://localhost:8080/",
          "height": 415
        },
        "id": "tWU_rEoZz7R1",
        "outputId": "f25851c0-1e2f-48c5-b711-ac814b6db529"
      },
      "source": [
        "El1_eq = El1.equation()\n",
        "display_multi(\n",
        "    [El1_eq],\n",
        "    x_from=-2.5, x_to=4.5,\n",
        "    y_from=-1, y_to=4.1\n",
        ").show()\n",
        "\n",
        "print('\\nВершины')\n",
        "display(*find_vertices(El1))"
      ],
      "execution_count": 72,
      "outputs": [
        {
          "output_type": "display_data",
          "data": {
            "image/png": "[encoded data removed]",
            "text/plain": [
              "<Figure size 432x288 with 1 Axes>"
            ]
          },
          "metadata": {
            "tags": [],
            "needs_background": "light"
          }
        },
        {
          "output_type": "stream",
          "text": [
            "\n",
            "Вершины\n"
          ],
          "name": "stdout"
        },
        {
          "output_type": "display_data",
          "data": {
            "text/latex": "$\\displaystyle Point2D\\left(-2, 2\\right)$",
            "text/plain": [
              "Point2D(-2, 2)"
            ]
          },
          "metadata": {
            "tags": []
          }
        },
        {
          "output_type": "display_data",
          "data": {
            "text/latex": "$\\displaystyle Point2D\\left(4, 2\\right)$",
            "text/plain": [
              "Point2D(4, 2)"
            ]
          },
          "metadata": {
            "tags": []
          }
        },
        {
          "output_type": "display_data",
          "data": {
            "text/latex": "$\\displaystyle Point2D\\left(1, 0\\right)$",
            "text/plain": [
              "Point2D(1, 0)"
            ]
          },
          "metadata": {
            "tags": []
          }
        },
        {
          "output_type": "display_data",
          "data": {
            "text/latex": "$\\displaystyle Point2D\\left(1, 4\\right)$",
            "text/plain": [
              "Point2D(1, 4)"
            ]
          },
          "metadata": {
            "tags": []
          }
        }
      ]
    },
    {
      "cell_type": "markdown",
      "metadata": {
        "id": "_SLvb1r8z7R2"
      },
      "source": [
        "###  Индивидуальное задание\n",
        "Построить эллипс с заданными центром, вертикальной полуосью  и эксцентриситетом.\n",
        "Изобразить на графике этот эллипс, а также эллипс, повернутый на угол $\\alpha$ против часовой стрелки. \n",
        "\n",
        "Вывести на экран центр и фокусы эллипса, длины полуосей, уравнение эллипса, вершины эллипса.\n",
        "\n",
        "#### Вариант N4\n",
        "Центр $Point2D\\left(0, -3\\right)$, горизонтальная полуось $75 \\sqrt{11} / 44$, эксцентриситет $7 / 15$, угол поворота $\\pi / 4$, против часовой стрелки.\n"
      ]
    },
    {
      "cell_type": "code",
      "metadata": {
        "colab": {
          "base_uri": "https://localhost:8080/",
          "height": 811
        },
        "id": "Al4uN3Kdz7R2",
        "outputId": "f4b33c83-8041-4097-b44c-9620cf87b862"
      },
      "source": [
        "center = Point(0, -3)\n",
        "hradius = S(75) * sympy.sqrt(11) / 44\n",
        "eccentricity = S(7) / 15\n",
        "angle = sympy.pi / 4\n",
        "\n",
        "El2 = Ellipse(center, hradius=hradius, eccentricity=eccentricity)\n",
        "El2_eq = El2.equation()\n",
        "El2_rot_eq = El2.equation(_slope=sympy.tan(angle))\n",
        "\n",
        "display_multi(\n",
        "    [El2_eq, El2_rot_eq],\n",
        "    x_from=-8, x_to=8,\n",
        "    y_from=-9, y_to=3.5\n",
        ").show()\n",
        "\n",
        "props = {\n",
        "    'Центр': El2.center,\n",
        "    'Фокусы': El2.foci,\n",
        "    'Длины полуосей': [El2.hradius, El2.vradius],\n",
        "    'Уравнение': El2.equation(),\n",
        "    'Вершины': find_vertices(El2)\n",
        "}\n",
        "\n",
        "for name, value in props.items():\n",
        "  print('\\n', name, sep='')\n",
        "  if isinstance(value, list):\n",
        "    display(*value)\n",
        "  else:\n",
        "    display(value)"
      ],
      "execution_count": 82,
      "outputs": [
        {
          "output_type": "display_data",
          "data": {
            "image/png": "[encoded data removed]",
            "text/plain": [
              "<Figure size 432x288 with 1 Axes>"
            ]
          },
          "metadata": {
            "tags": [],
            "needs_background": "light"
          }
        },
        {
          "output_type": "stream",
          "text": [
            "\n",
            "Центр\n"
          ],
          "name": "stdout"
        },
        {
          "output_type": "display_data",
          "data": {
            "text/latex": "$\\displaystyle Point2D\\left(0, -3\\right)$",
            "text/plain": [
              "Point2D(0, -3)"
            ]
          },
          "metadata": {
            "tags": []
          }
        },
        {
          "output_type": "stream",
          "text": [
            "\n",
            "Фокусы\n"
          ],
          "name": "stdout"
        },
        {
          "output_type": "display_data",
          "data": {
            "text/plain": [
              "(Point2D(-35*sqrt(11)/44, -3), Point2D(35*sqrt(11)/44, -3))"
            ]
          },
          "metadata": {
            "tags": []
          }
        },
        {
          "output_type": "stream",
          "text": [
            "\n",
            "Длины полуосей\n"
          ],
          "name": "stdout"
        },
        {
          "output_type": "display_data",
          "data": {
            "text/latex": "$\\displaystyle \\frac{75 \\sqrt{11}}{44}$",
            "text/plain": [
              "75*sqrt(11)/44"
            ]
          },
          "metadata": {
            "tags": []
          }
        },
        {
          "output_type": "display_data",
          "data": {
            "text/latex": "$\\displaystyle 5$",
            "text/plain": [
              "5"
            ]
          },
          "metadata": {
            "tags": []
          }
        },
        {
          "output_type": "stream",
          "text": [
            "\n",
            "Уравнение\n"
          ],
          "name": "stdout"
        },
        {
          "output_type": "display_data",
          "data": {
            "text/latex": "$\\displaystyle \\frac{176 x^{2}}{5625} + \\left(\\frac{y}{5} + \\frac{3}{5}\\right)^{2} - 1$",
            "text/plain": [
              "176*x**2/5625 + (y/5 + 3/5)**2 - 1"
            ]
          },
          "metadata": {
            "tags": []
          }
        },
        {
          "output_type": "stream",
          "text": [
            "\n",
            "Вершины\n"
          ],
          "name": "stdout"
        },
        {
          "output_type": "display_data",
          "data": {
            "text/latex": "$\\displaystyle Point2D\\left(- \\frac{75 \\sqrt{11}}{44}, -3\\right)$",
            "text/plain": [
              "Point2D(-75*sqrt(11)/44, -3)"
            ]
          },
          "metadata": {
            "tags": []
          }
        },
        {
          "output_type": "display_data",
          "data": {
            "text/latex": "$\\displaystyle Point2D\\left(\\frac{75 \\sqrt{11}}{44}, -3\\right)$",
            "text/plain": [
              "Point2D(75*sqrt(11)/44, -3)"
            ]
          },
          "metadata": {
            "tags": []
          }
        },
        {
          "output_type": "display_data",
          "data": {
            "text/latex": "$\\displaystyle Point2D\\left(1, -3 + \\frac{\\sqrt{5449}}{15}\\right)$",
            "text/plain": [
              "Point2D(1, -3 + sqrt(5449)/15)"
            ]
          },
          "metadata": {
            "tags": []
          }
        },
        {
          "output_type": "display_data",
          "data": {
            "text/latex": "$\\displaystyle Point2D\\left(1, - \\frac{\\sqrt{5449}}{15} - 3\\right)$",
            "text/plain": [
              "Point2D(1, -sqrt(5449)/15 - 3)"
            ]
          },
          "metadata": {
            "tags": []
          }
        }
      ]
    },
    {
      "cell_type": "code",
      "metadata": {
        "id": "pD7O7ARIDrmA"
      },
      "source": [
        ""
      ],
      "execution_count": null,
      "outputs": []
    }
  ]
}