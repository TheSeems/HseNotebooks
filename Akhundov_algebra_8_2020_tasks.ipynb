{
  "nbformat": 4,
  "nbformat_minor": 0,
  "metadata": {
    "kernelspec": {
      "display_name": "Python 3",
      "language": "python",
      "name": "python3"
    },
    "language_info": {
      "codemirror_mode": {
        "name": "ipython",
        "version": 3
      },
      "file_extension": ".py",
      "mimetype": "text/x-python",
      "name": "python",
      "nbconvert_exporter": "python",
      "pygments_lexer": "ipython3",
      "version": "3.7.3"
    },
    "colab": {
      "name": "Akhundov_algebra_8_2020_tasks.ipynb",
      "provenance": [],
      "collapsed_sections": [],
      "include_colab_link": true
    }
  },
  "cells": [
    {
      "cell_type": "markdown",
      "metadata": {
        "id": "view-in-github",
        "colab_type": "text"
      },
      "source": [
        "<a href=\"https://colab.research.google.com/github/TheSeems/HseNotebooks/blob/main/Akhundov_algebra_8_2020_tasks.ipynb\" target=\"_parent\"><img src=\"https://colab.research.google.com/assets/colab-badge.svg\" alt=\"Open In Colab\"/></a>"
      ]
    },
    {
      "cell_type": "code",
      "metadata": {
        "colab": {
          "base_uri": "https://localhost:8080/"
        },
        "id": "MnTF3Lbq_AtN",
        "outputId": "d8653ed1-6d77-48cf-ce6a-7c6ea98ba5ba"
      },
      "source": [
        "!python -m pip install sympy --upgrade\r\n",
        "!python -m pip install -U matplotlib"
      ],
      "execution_count": 1,
      "outputs": [
        {
          "output_type": "stream",
          "text": [
            "Requirement already up-to-date: sympy in /usr/local/lib/python3.7/dist-packages (1.7.1)\n",
            "Requirement already satisfied, skipping upgrade: mpmath>=0.19 in /usr/local/lib/python3.7/dist-packages (from sympy) (1.2.1)\n",
            "Requirement already up-to-date: matplotlib in /usr/local/lib/python3.7/dist-packages (3.3.4)\n",
            "Requirement already satisfied, skipping upgrade: pillow>=6.2.0 in /usr/local/lib/python3.7/dist-packages (from matplotlib) (7.0.0)\n",
            "Requirement already satisfied, skipping upgrade: pyparsing!=2.0.4,!=2.1.2,!=2.1.6,>=2.0.3 in /usr/local/lib/python3.7/dist-packages (from matplotlib) (2.4.7)\n",
            "Requirement already satisfied, skipping upgrade: python-dateutil>=2.1 in /usr/local/lib/python3.7/dist-packages (from matplotlib) (2.8.1)\n",
            "Requirement already satisfied, skipping upgrade: cycler>=0.10 in /usr/local/lib/python3.7/dist-packages (from matplotlib) (0.10.0)\n",
            "Requirement already satisfied, skipping upgrade: kiwisolver>=1.0.1 in /usr/local/lib/python3.7/dist-packages (from matplotlib) (1.3.1)\n",
            "Requirement already satisfied, skipping upgrade: numpy>=1.15 in /usr/local/lib/python3.7/dist-packages (from matplotlib) (1.19.5)\n",
            "Requirement already satisfied, skipping upgrade: six>=1.5 in /usr/local/lib/python3.7/dist-packages (from python-dateutil>=2.1->matplotlib) (1.15.0)\n"
          ],
          "name": "stdout"
        }
      ]
    },
    {
      "cell_type": "code",
      "metadata": {
        "id": "xakB6v5rfgFZ"
      },
      "source": [
        "import sympy\n",
        "from sympy import  Point, Line, Plane, Point3D, Segment, Ray, S, latex\n",
        "import matplotlib.pyplot as plt"
      ],
      "execution_count": 2,
      "outputs": []
    },
    {
      "cell_type": "markdown",
      "metadata": {
        "id": "NILK48I4fgFd"
      },
      "source": [
        "# Практическое занятие 8\n",
        "# Алгебра\n",
        "https://docs.sympy.org/latest/search.html?q=geometry\n",
        "\n",
        "## Проекции, сегменты, лучи в модуле Geometry\n",
        "### Задание 1.\n",
        "Даны точки: $A(3, -2, 3)$,  $B(-2, 3, 1)$, \n",
        "$C(1, -8, 6)$, \n",
        "$D(1, 2, 4)$, \n",
        "$F(-7, 8, -1)$.\n",
        "\n",
        "Составить отрезки $АВ$ и $АС$ и лучи $CD$ и $BF$.\n",
        "\n",
        "Найти: \n",
        "\n",
        "угол между лучами $CD и $BF$\n",
        "\n",
        "направления луча $CD$ (xdirection, ydirection, zdirection)\n",
        "\n",
        "длину отрезка $АВ$\n",
        "\n",
        "середину отрезка $АВ$"
      ]
    },
    {
      "cell_type": "code",
      "metadata": {
        "id": "plyL1jWrfgFe",
        "colab": {
          "base_uri": "https://localhost:8080/",
          "height": 281
        },
        "outputId": "517bf221-47cf-483a-9826-5172a607e905"
      },
      "source": [
        "A, B, C, D, F = [\r\n",
        "    Point(3, -2, 3),\r\n",
        "    Point(-2, 3, 1),\r\n",
        "    Point(1, -8, 6),\r\n",
        "    Point(1, 2, 4),\r\n",
        "    Point(-7, 8, -1)\r\n",
        "]\r\n",
        "\r\n",
        "AB_segm = Segment(A, B)\r\n",
        "CD_ray = Ray(C, D)\r\n",
        "BF_ray = Ray(B, F)\r\n",
        "\r\n",
        "display('Angle between CD and BF', CD_ray.angle_between(BF_ray))\r\n",
        "print()\r\n",
        "display('Directions', CD_ray.xdirection, CD_ray.ydirection, CD_ray.zdirection)\r\n",
        "print()\r\n",
        "display('Length and midpoint', AB_segm.length, AB_segm.midpoint)"
      ],
      "execution_count": 58,
      "outputs": [
        {
          "output_type": "display_data",
          "data": {
            "application/vnd.google.colaboratory.intrinsic+json": {
              "type": "string"
            },
            "text/plain": [
              "'Angle between CD and BF'"
            ]
          },
          "metadata": {
            "tags": []
          }
        },
        {
          "output_type": "display_data",
          "data": {
            "text/latex": "$\\displaystyle \\operatorname{acos}{\\left(\\frac{3 \\sqrt{39}}{26} \\right)}$",
            "text/plain": [
              "acos(3*sqrt(39)/26)"
            ]
          },
          "metadata": {
            "tags": []
          }
        },
        {
          "output_type": "stream",
          "text": [
            "\n"
          ],
          "name": "stdout"
        },
        {
          "output_type": "display_data",
          "data": {
            "application/vnd.google.colaboratory.intrinsic+json": {
              "type": "string"
            },
            "text/plain": [
              "'Directions'"
            ]
          },
          "metadata": {
            "tags": []
          }
        },
        {
          "output_type": "display_data",
          "data": {
            "text/latex": "$\\displaystyle 0$",
            "text/plain": [
              "0"
            ]
          },
          "metadata": {
            "tags": []
          }
        },
        {
          "output_type": "display_data",
          "data": {
            "text/latex": "$\\displaystyle \\infty$",
            "text/plain": [
              "oo"
            ]
          },
          "metadata": {
            "tags": []
          }
        },
        {
          "output_type": "display_data",
          "data": {
            "text/latex": "$\\displaystyle -\\infty$",
            "text/plain": [
              "-oo"
            ]
          },
          "metadata": {
            "tags": []
          }
        },
        {
          "output_type": "stream",
          "text": [
            "\n"
          ],
          "name": "stdout"
        },
        {
          "output_type": "display_data",
          "data": {
            "application/vnd.google.colaboratory.intrinsic+json": {
              "type": "string"
            },
            "text/plain": [
              "'Length and midpoint'"
            ]
          },
          "metadata": {
            "tags": []
          }
        },
        {
          "output_type": "display_data",
          "data": {
            "text/latex": "$\\displaystyle 3 \\sqrt{6}$",
            "text/plain": [
              "3*sqrt(6)"
            ]
          },
          "metadata": {
            "tags": []
          }
        },
        {
          "output_type": "display_data",
          "data": {
            "text/latex": "$\\displaystyle Point3D\\left(\\frac{1}{2}, \\frac{1}{2}, 2\\right)$",
            "text/plain": [
              "Point3D(1/2, 1/2, 2)"
            ]
          },
          "metadata": {
            "tags": []
          }
        }
      ]
    },
    {
      "cell_type": "markdown",
      "metadata": {
        "id": "XSbnLkTVfgFe"
      },
      "source": [
        "### Задание 2.\n",
        "Построить прямую $CD$ и проекцию точки $F$ и отрезка $АВ$  на эту прямую."
      ]
    },
    {
      "cell_type": "code",
      "metadata": {
        "id": "tYSNLnZYfgFf",
        "colab": {
          "base_uri": "https://localhost:8080/",
          "height": 120
        },
        "outputId": "9918db0f-c4bb-4353-85db-9e0c48e988be"
      },
      "source": [
        "CD_line = Line(C, D)\r\n",
        "display(CD_line)\r\n",
        "\r\n",
        "F_proj = CD_line.projection(F)\r\n",
        "display(F_proj)\r\n",
        "\r\n",
        "AB_segm = Segment(A, B)\r\n",
        "AB_segm_proj = CD_line.projection(AB_segm)\r\n",
        "display(AB_segm_proj)"
      ],
      "execution_count": 4,
      "outputs": [
        {
          "output_type": "display_data",
          "data": {
            "text/latex": "$\\displaystyle Line3D\\left(Point3D\\left(1, -8, 6\\right), Point3D\\left(1, 2, 4\\right)\\right)$",
            "text/plain": [
              "Line3D(Point3D(1, -8, 6), Point3D(1, 2, 4))"
            ]
          },
          "metadata": {
            "tags": []
          }
        },
        {
          "output_type": "display_data",
          "data": {
            "text/latex": "$\\displaystyle Point3D\\left(1, \\frac{227}{26}, \\frac{69}{26}\\right)$",
            "text/plain": [
              "Point3D(1, 227/26, 69/26)"
            ]
          },
          "metadata": {
            "tags": []
          }
        },
        {
          "output_type": "display_data",
          "data": {
            "text/latex": "$\\displaystyle Segment3D\\left(Point3D\\left(1, - \\frac{43}{26}, \\frac{123}{26}\\right), Point3D\\left(1, \\frac{46}{13}, \\frac{48}{13}\\right)\\right)$",
            "text/plain": [
              "Segment3D(Point3D(1, -43/26, 123/26), Point3D(1, 46/13, 48/13))"
            ]
          },
          "metadata": {
            "tags": []
          }
        }
      ]
    },
    {
      "cell_type": "markdown",
      "metadata": {
        "id": "h5FAbVSrfgFf"
      },
      "source": [
        "### Задание 3.\n",
        "Построить серединный перпендикуляр отрезка $АС$, проходящий через точку $(8, -7, 9/2)$, найти для серединного перпендикуляра уравнение.\n",
        "\n",
        "Указание: должен получиться сегмент, использовать S(9)/2."
      ]
    },
    {
      "cell_type": "code",
      "metadata": {
        "id": "jKul5ebxfgFf",
        "colab": {
          "base_uri": "https://localhost:8080/",
          "height": 98
        },
        "outputId": "d99a58e1-74e4-4297-f23b-cc9c89f9d91e"
      },
      "source": [
        "AC_segm = Segment(A, C)\r\n",
        "AC_midbi = AC_segm.perpendicular_bisector(Point(8, -7, S(9) / 2))\r\n",
        "display(AC_midbi)\r\n",
        "display(\"Equation for perp bisector AC\")\r\n",
        "display(AC_segm.perpendicular_bisector().equation())"
      ],
      "execution_count": 45,
      "outputs": [
        {
          "output_type": "display_data",
          "data": {
            "text/latex": "$\\displaystyle Segment3D\\left(Point3D\\left(8, -7, \\frac{9}{2}\\right), Point3D\\left(2, -5, \\frac{9}{2}\\right)\\right)$",
            "text/plain": [
              "Segment3D(Point3D(8, -7, 9/2), Point3D(2, -5, 9/2))"
            ]
          },
          "metadata": {
            "tags": []
          }
        },
        {
          "output_type": "display_data",
          "data": {
            "application/vnd.google.colaboratory.intrinsic+json": {
              "type": "string"
            },
            "text/plain": [
              "'Equation for perp bisector AC'"
            ]
          },
          "metadata": {
            "tags": []
          }
        },
        {
          "output_type": "display_data",
          "data": {
            "text/latex": "$\\displaystyle \\left( x + 3 y + 13, \\  2 z - 9\\right)$",
            "text/plain": [
              "(x + 3*y + 13, 2*z - 9)"
            ]
          },
          "metadata": {
            "tags": []
          }
        }
      ]
    },
    {
      "cell_type": "markdown",
      "metadata": {
        "id": "fKoPA-TifgFg"
      },
      "source": [
        "### Задание 4\n",
        "Даны точки: $A(3, -2)$, $B(-2, 3)$, $C(1, -8)$.\n",
        "\n",
        "Построить на общем графике отрезки $АВ$ и $АС$, серединный перпендикуляр отрезка  $АС$.\n",
        "\n",
        "Точки $A$, $B$ и $C$ отметить и подписать именами.\n",
        "\n",
        "Для одинакового масштаба по осям использовать \n",
        "ax.set_aspect('equal')"
      ]
    },
    {
      "cell_type": "code",
      "metadata": {
        "id": "wnoWfQI1fgFg",
        "colab": {
          "base_uri": "https://localhost:8080/",
          "height": 283
        },
        "outputId": "b03f6df5-777e-4911-bd40-520b317aad73"
      },
      "source": [
        "def plot_segment(axx, segm, label=''):\r\n",
        "  ax.plot([segm.p1.x, segm.p2.x], [segm.p1.y, segm.p2.y], label = label)\r\n",
        "\r\n",
        "X = []\r\n",
        "Y = []\r\n",
        "ax = plt.gca()\r\n",
        "point_dict = {A: 'A', B: 'B', C: 'C', AC_midbi.p2: 'M'}\r\n",
        "ax.set_aspect('equal')\r\n",
        "\r\n",
        "for point in (point_dict.keys()):\r\n",
        "  x_coord = point.x\r\n",
        "  y_coord = point.y\r\n",
        "  X.append(x_coord)\r\n",
        "  Y.append(y_coord)\r\n",
        "  ax.annotate(point_dict[point],\r\n",
        "    xy=(x_coord, y_coord), xycoords='data',\r\n",
        "    xytext=(x_coord + 0.05, y_coord + 0.05), textcoords='data')\r\n",
        "\r\n",
        "ax.plot([A.x, B.x], [A.y, B.y])\r\n",
        "plot_segment(ax, AB_segm, 'AB')\r\n",
        "plot_segment(ax, AC_segm, 'AC')\r\n",
        "plot_segment(ax, AC_midbi, '$\\perp AC$')\r\n",
        "ax.legend()\r\n",
        "ax.scatter(X, Y)\r\n"
      ],
      "execution_count": 89,
      "outputs": [
        {
          "output_type": "execute_result",
          "data": {
            "text/plain": [
              "<matplotlib.collections.PathCollection at 0x7f21a3e7c850>"
            ]
          },
          "metadata": {
            "tags": []
          },
          "execution_count": 89
        },
        {
          "output_type": "display_data",
          "data": {
            "image/png": "[encoded data removed]",
            "text/plain": [
              "<Figure size 432x288 with 1 Axes>"
            ]
          },
          "metadata": {
            "tags": [],
            "needs_background": "light"
          }
        }
      ]
    },
    {
      "cell_type": "markdown",
      "metadata": {
        "id": "B70hvkAZfgFg"
      },
      "source": [
        "### Индивидуальное задание.\n",
        "Даны точки на плоскости. \n",
        "\n",
        "Построить отрезок $LM$ и луч $MN$, составить уравнения серединного перпендикуляра  к $LM$ и перпендикуляра к $MN$, проходящего через точку $P$, найти точку пересечения перпендикуляров.\n",
        "\n",
        "Построить на графике отрезок, луч (в виде отрезка) и оба перпендикуляра, отметить и подписать концы отрезка и начало луча (точку M), а также точку пересечения перпендикуляров и основания перпендикуляров (точки пересечения перпендикуляров с отрезком и лучом соответственно).\n",
        "\n",
        "В легенду включить уравнения перпендикуляров и уравнения прямых, на которых лежат отрезок и\n",
        " луч.\n",
        "  \n",
        "  \n",
        "Вариант N 4  \n",
        " Точки: $L(0, 2)$, $M(12, 0)$, $N(3, 7)$, $P(21/10, 11/2)$."
      ]
    },
    {
      "cell_type": "code",
      "metadata": {
        "id": "93FuNdCZfgFh",
        "colab": {
          "base_uri": "https://localhost:8080/",
          "height": 383
        },
        "outputId": "7f3da676-dd1a-43ab-a3e1-600ee91c7cf1"
      },
      "source": [
        "L, M, N, P = [\r\n",
        "  Point(0, 2),\r\n",
        "  Point(12, 0),\r\n",
        "  Point(3, 7),\r\n",
        "  Point(S(21) / 10, S(11) / 2)\r\n",
        "]\r\n",
        "\r\n",
        "def plot_line(axx, lin):\r\n",
        "  x_vals = linspace(0, 10, 100)\r\n",
        "  y_vals = [lin.equation().subs(x, )]\r\n",
        "\r\n",
        "\r\n",
        "LM_segm = Segment(L, M)\r\n",
        "MN_ray = Ray(M, N)\r\n",
        "\r\n",
        "LM_midbi = LM_segm.perpendicular_bisector()\r\n",
        "MN_perp = MN_ray.perpendicular_line(P)\r\n",
        "display('Mid perpendicular for LM', LM_midbi)\r\n",
        "display('Perpendicular for MN through P', MN_perp)\r\n",
        "\r\n",
        "X = []\r\n",
        "Y = []\r\n",
        "ax = plt.gca()\r\n",
        "ax.set_aspect('equal')\r\n",
        "\r\n",
        "point_dict = {\r\n",
        "  L: 'L', M: 'M', P: 'P', LM_midbi.p1: 'M\\'',\r\n",
        "  list(LM_midbi.intersect(MN_ray))[0]: 'P\\'',\r\n",
        "  list(MN_perp.intersect(LM_midbi))[0]: 'P\\'\\'',\r\n",
        "  list(MN_ray.intersect(MN_perp))[0]: 'M\\'\\''\r\n",
        "}\r\n",
        "\r\n",
        "for point in (point_dict.keys()):\r\n",
        "  x_coord = point.x\r\n",
        "  y_coord = point.y\r\n",
        "  X.append(x_coord)\r\n",
        "  Y.append(y_coord)\r\n",
        "  ax.annotate(point_dict[point],\r\n",
        "    xy=(x_coord, y_coord), xycoords='data',\r\n",
        "    xytext=(x_coord + 0.05, y_coord + 0.05), textcoords='data')\r\n",
        "\r\n",
        "\r\n",
        "plot_segment(ax, LM_segm, 'LM')\r\n",
        "plot_segment(ax, Segment(MN_ray.p1, MN_ray.p2), 'MN')\r\n",
        "plot_segment(ax, LM_midbi, \"$\" + latex(LM_midbi.equation(x='x', y='y')) + \"$\")\r\n",
        "\r\n",
        "perp_eq = MN_perp.equation()\r\n",
        "plot_segment(ax, Segment(MN_perp.p1 - MN_perp.direction, MN_perp.p2), \"$\" + latex(MN_perp.equation(x='x', y='y')) + \"$\")\r\n",
        "\r\n",
        "ax.legend()\r\n",
        "ax.scatter(X, Y)"
      ],
      "execution_count": 90,
      "outputs": [
        {
          "output_type": "display_data",
          "data": {
            "application/vnd.google.colaboratory.intrinsic+json": {
              "type": "string"
            },
            "text/plain": [
              "'Mid perpendicular for LM'"
            ]
          },
          "metadata": {
            "tags": []
          }
        },
        {
          "output_type": "display_data",
          "data": {
            "text/latex": "$\\displaystyle Line2D\\left(Point2D\\left(6, 1\\right), Point2D\\left(8, 13\\right)\\right)$",
            "text/plain": [
              "Line2D(Point2D(6, 1), Point2D(8, 13))"
            ],
            "image/svg+xml": "<svg xmlns=\"http://www.w3.org/2000/svg\"\n            xmlns:xlink=\"http://www.w3.org/1999/xlink\"\n            width=\"100.0\" height=\"100.0\" viewBox=\"4.80000000000000 -0.200000000000000 4.40000000000000 14.4000000000000\"\n            preserveAspectRatio=\"xMinYMin meet\">\n            <defs>\n                <marker id=\"markerCircle\" markerWidth=\"8\" markerHeight=\"8\"\n                    refx=\"5\" refy=\"5\" markerUnits=\"strokeWidth\">\n                    <circle cx=\"5\" cy=\"5\" r=\"1.5\" style=\"stroke: none; fill:#000000;\"/>\n                </marker>\n                <marker id=\"markerArrow\" markerWidth=\"13\" markerHeight=\"13\" refx=\"2\" refy=\"4\"\n                       orient=\"auto\" markerUnits=\"strokeWidth\">\n                    <path d=\"M2,2 L2,6 L6,4\" style=\"fill: #000000;\" />\n                </marker>\n                <marker id=\"markerReverseArrow\" markerWidth=\"13\" markerHeight=\"13\" refx=\"6\" refy=\"4\"\n                       orient=\"auto\" markerUnits=\"strokeWidth\">\n                    <path d=\"M6,2 L6,6 L2,4\" style=\"fill: #000000;\" />\n                </marker>\n            </defs><g transform=\"matrix(1,0,0,-1,0,14.0000000000000)\"><path fill-rule=\"evenodd\" fill=\"#66cc99\" stroke=\"#555555\" stroke-width=\"0.288000000000000\" opacity=\"0.6\" d=\"M 6.00000000000000,1.00000000000000 L 8.00000000000000,13.0000000000000\" marker-start=\"url(#markerReverseArrow)\" marker-end=\"url(#markerArrow)\"/></g></svg>"
          },
          "metadata": {
            "tags": []
          }
        },
        {
          "output_type": "display_data",
          "data": {
            "application/vnd.google.colaboratory.intrinsic+json": {
              "type": "string"
            },
            "text/plain": [
              "'Perpendicular for MN through P'"
            ]
          },
          "metadata": {
            "tags": []
          }
        },
        {
          "output_type": "display_data",
          "data": {
            "text/latex": "$\\displaystyle Line2D\\left(Point2D\\left(\\frac{21}{10}, \\frac{11}{2}\\right), Point2D\\left(- \\frac{49}{10}, - \\frac{7}{2}\\right)\\right)$",
            "text/plain": [
              "Line2D(Point2D(21/10, 11/2), Point2D(-49/10, -7/2))"
            ],
            "image/svg+xml": "<svg xmlns=\"http://www.w3.org/2000/svg\"\n            xmlns:xlink=\"http://www.w3.org/1999/xlink\"\n            width=\"100.0\" height=\"100.0\" viewBox=\"-5.80000000000000 -4.40000000000000 8.80000000000000 10.8000000000000\"\n            preserveAspectRatio=\"xMinYMin meet\">\n            <defs>\n                <marker id=\"markerCircle\" markerWidth=\"8\" markerHeight=\"8\"\n                    refx=\"5\" refy=\"5\" markerUnits=\"strokeWidth\">\n                    <circle cx=\"5\" cy=\"5\" r=\"1.5\" style=\"stroke: none; fill:#000000;\"/>\n                </marker>\n                <marker id=\"markerArrow\" markerWidth=\"13\" markerHeight=\"13\" refx=\"2\" refy=\"4\"\n                       orient=\"auto\" markerUnits=\"strokeWidth\">\n                    <path d=\"M2,2 L2,6 L6,4\" style=\"fill: #000000;\" />\n                </marker>\n                <marker id=\"markerReverseArrow\" markerWidth=\"13\" markerHeight=\"13\" refx=\"6\" refy=\"4\"\n                       orient=\"auto\" markerUnits=\"strokeWidth\">\n                    <path d=\"M6,2 L6,6 L2,4\" style=\"fill: #000000;\" />\n                </marker>\n            </defs><g transform=\"matrix(1,0,0,-1,0,2.00000000000000)\"><path fill-rule=\"evenodd\" fill=\"#66cc99\" stroke=\"#555555\" stroke-width=\"0.216000000000000\" opacity=\"0.6\" d=\"M 2.10000000000000,5.50000000000000 L -4.90000000000000,-3.50000000000000\" marker-start=\"url(#markerReverseArrow)\" marker-end=\"url(#markerArrow)\"/></g></svg>"
          },
          "metadata": {
            "tags": []
          }
        },
        {
          "output_type": "execute_result",
          "data": {
            "text/plain": [
              "<matplotlib.collections.PathCollection at 0x7f21a3df5c90>"
            ]
          },
          "metadata": {
            "tags": []
          },
          "execution_count": 90
        },
        {
          "output_type": "display_data",
          "data": {
            "image/png": "[encoded data removed]",
            "text/plain": [
              "<Figure size 432x288 with 1 Axes>"
            ]
          },
          "metadata": {
            "tags": [],
            "needs_background": "light"
          }
        }
      ]
    },
    {
      "cell_type": "code",
      "metadata": {
        "id": "OfRqOBc0DYKb"
      },
      "source": [
        ""
      ],
      "execution_count": null,
      "outputs": []
    }
  ]
}