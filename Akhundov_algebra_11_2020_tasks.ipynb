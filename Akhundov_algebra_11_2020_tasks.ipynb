{
  "nbformat": 4,
  "nbformat_minor": 0,
  "metadata": {
    "kernelspec": {
      "display_name": "Python 3",
      "language": "python",
      "name": "python3"
    },
    "language_info": {
      "codemirror_mode": {
        "name": "ipython",
        "version": 3
      },
      "file_extension": ".py",
      "mimetype": "text/x-python",
      "name": "python",
      "nbconvert_exporter": "python",
      "pygments_lexer": "ipython3",
      "version": "3.7.3"
    },
    "colab": {
      "name": "Akhundov_algebra_11_2020_tasks.ipynb",
      "provenance": [],
      "collapsed_sections": [],
      "include_colab_link": true
    }
  },
  "cells": [
    {
      "cell_type": "markdown",
      "metadata": {
        "id": "view-in-github",
        "colab_type": "text"
      },
      "source": [
        "<a href=\"https://colab.research.google.com/github/TheSeems/HseNotebooks/blob/main/Akhundov_algebra_11_2020_tasks.ipynb\" target=\"_parent\"><img src=\"https://colab.research.google.com/assets/colab-badge.svg\" alt=\"Open In Colab\"/></a>"
      ]
    },
    {
      "cell_type": "code",
      "metadata": {
        "id": "i5mTR9_bFUaN"
      },
      "source": [
        "import sympy\n",
        "from sympy import  Matrix, symbols\n",
        "from sympy import sin as Sin\n",
        "from sympy import cos as Cos\n",
        "from sympy import pi as Pi\n",
        "from sympy.vector import CoordSys3D, Vector, matrix_to_vector, AxisOrienter, express"
      ],
      "execution_count": null,
      "outputs": []
    },
    {
      "cell_type": "markdown",
      "metadata": {
        "id": "0M6OpmvAFUaa"
      },
      "source": [
        "# Занятие 11\n",
        "# Алгебра\n",
        "## Векторы\n",
        "### Задание 1.\n",
        "Задать систему координат с именем '1'. \n",
        "Найти скалярное и векторное произведение векторов $a(-\\cos(\\pi/4), \\sin(\\pi/3), 1)$ и $b(2, -1, 3)$."
      ]
    },
    {
      "cell_type": "code",
      "metadata": {
        "id": "STIvjX8MFUab",
        "colab": {
          "base_uri": "https://localhost:8080/",
          "height": 95
        },
        "outputId": "e75c2e30-047f-4b1a-c78b-3d14f6c812b6"
      },
      "source": [
        "One = CoordSys3D('1')\n",
        "a = -sympy.cos(sympy.pi / 4) * One.i + sympy.sin(sympy.pi / 3) * One.j + One.k\n",
        "b = 2 * One.i - One.j + 3 * One.k\n",
        "\n",
        "display(a.dot(b))\n",
        "display(a.cross(b))"
      ],
      "execution_count": null,
      "outputs": [
        {
          "output_type": "display_data",
          "data": {
            "text/latex": "$\\displaystyle - \\sqrt{2} - \\frac{\\sqrt{3}}{2} + 3$",
            "text/plain": [
              "-sqrt(2) - sqrt(3)/2 + 3"
            ]
          },
          "metadata": {
            "tags": []
          }
        },
        {
          "output_type": "display_data",
          "data": {
            "text/latex": "$\\displaystyle (1 + \\frac{3 \\sqrt{3}}{2})\\mathbf{\\hat{i}_{1}} + (2 + \\frac{3 \\sqrt{2}}{2})\\mathbf{\\hat{j}_{1}} + (- \\sqrt{3} + \\frac{\\sqrt{2}}{2})\\mathbf{\\hat{k}_{1}}$",
            "text/plain": [
              "(1 + 3*sqrt(3)/2)*1.i + (2 + 3*sqrt(2)/2)*1.j + (-sqrt(3) + sqrt(2)/2)*1.k"
            ]
          },
          "metadata": {
            "tags": []
          }
        }
      ]
    },
    {
      "cell_type": "markdown",
      "metadata": {
        "id": "UBTS1R4MFUac"
      },
      "source": [
        "### Задание 2\n",
        "Ввести безымянную систему координат M и символы $p$ и $q$.\n",
        "Вычислить $((v + u)\\cdot(v - u)) + (((2v + u)\\times(v - 3u))\\cdot(2v - 3u)) - ((3v - 2u)\\cdot((5v - u)\\times(- u)))$, $u(q, -p, q + p)$, $v(p, 2p - q, 1)$. Скалярное произведение обозначено $\\cdot$, векторное $\\times$.\n",
        "Использовать  & и ^, скобки расставить как в условии, поскольку приоритет у & и ^ ниже, чем у + и -. Упростить полученное выражение."
      ]
    },
    {
      "cell_type": "code",
      "metadata": {
        "id": "qMT0HE_8FUad",
        "colab": {
          "base_uri": "https://localhost:8080/",
          "height": 38
        },
        "outputId": "ffdaf0a4-6dd9-44a5-95c7-f5ce39d9de14"
      },
      "source": [
        "M = CoordSys3D('')\n",
        "p, q = sympy.symbols('p q')\n",
        "\n",
        "u = q * M.i - p * M.j + (q + p) * M.k\n",
        "v = p * M.i + (2*p - q) * M.j + M.k\n",
        "\n",
        "result = ((v + u) & (v - u)) + (((2*v + u) ^ (v - 3*u))&(2*v - 3*u)) - ((3*v - 2*u)&((5*v - u)^(-1 * u)))\n",
        "display(sympy.simplify(result))"
      ],
      "execution_count": null,
      "outputs": [
        {
          "output_type": "display_data",
          "data": {
            "text/latex": "$\\displaystyle 3 p^{2} - 6 p q - q^{2} + 1$",
            "text/plain": [
              "3*p**2 - 6*p*q - q**2 + 1"
            ]
          },
          "metadata": {
            "tags": []
          }
        }
      ]
    },
    {
      "cell_type": "markdown",
      "metadata": {
        "id": "H1xM70VEFUad"
      },
      "source": [
        "### Задание 3\n",
        "Упростить вектор $g(-2p^2 + 5pq - 3q^2), \\cos(q) + 2\\sin(q - \\pi/2), \\sin^2(p) - \\cos^2(p))$.\n",
        "Вывести на экран координаты упрощенного вектора, его длину и проекции на координатные оси"
      ]
    },
    {
      "cell_type": "code",
      "metadata": {
        "id": "KsR3pMqwFUae",
        "colab": {
          "base_uri": "https://localhost:8080/",
          "height": 264
        },
        "outputId": "6c74c168-571e-4040-f970-8e73cddb8590"
      },
      "source": [
        "g = (-2*p**2 + 5*p*q - 3*q**2) * M.i + (sympy.cos(q) + 2*sympy.sin(q - sympy.pi / 2)) * M.j + (sympy.sin(p)**2 - sympy.cos(p)**2) * M.k\n",
        "g_si = g.factor().trigsimp()\n",
        "\n",
        "display(g_si.components)\n",
        "display(g_si.magnitude())\n",
        "\n",
        "print()\n",
        "for basis in [M.i, M.j, M.k]:\n",
        "  display(basis, basis.projection(g_si))\n",
        "  print()"
      ],
      "execution_count": null,
      "outputs": [
        {
          "output_type": "display_data",
          "data": {
            "text/plain": [
              "{.i: -(p - q)*(2*p - 3*q), .j: -cos(q), .k: -cos(2*p)}"
            ]
          },
          "metadata": {
            "tags": []
          }
        },
        {
          "output_type": "display_data",
          "data": {
            "text/latex": "$\\displaystyle \\sqrt{\\left(p - q\\right)^{2} \\left(2 p - 3 q\\right)^{2} + \\cos^{2}{\\left(2 p \\right)} + \\cos^{2}{\\left(q \\right)}}$",
            "text/plain": [
              "sqrt((p - q)**2*(2*p - 3*q)**2 + cos(2*p)**2 + cos(q)**2)"
            ]
          },
          "metadata": {
            "tags": []
          }
        },
        {
          "output_type": "stream",
          "text": [
            "\n"
          ],
          "name": "stdout"
        },
        {
          "output_type": "display_data",
          "data": {
            "text/latex": "$\\displaystyle \\mathbf{\\hat{i}_{}}$",
            "text/plain": [
              ".i"
            ]
          },
          "metadata": {
            "tags": []
          }
        },
        {
          "output_type": "display_data",
          "data": {
            "text/latex": "$\\displaystyle (- \\left(p - q\\right) \\left(2 p - 3 q\\right))\\mathbf{\\hat{i}_{}}$",
            "text/plain": [
              "(-(p - q)*(2*p - 3*q))*.i"
            ]
          },
          "metadata": {
            "tags": []
          }
        },
        {
          "output_type": "stream",
          "text": [
            "\n"
          ],
          "name": "stdout"
        },
        {
          "output_type": "display_data",
          "data": {
            "text/latex": "$\\displaystyle \\mathbf{\\hat{j}_{}}$",
            "text/plain": [
              ".j"
            ]
          },
          "metadata": {
            "tags": []
          }
        },
        {
          "output_type": "display_data",
          "data": {
            "text/latex": "$\\displaystyle (- \\cos{\\left(q \\right)})\\mathbf{\\hat{j}_{}}$",
            "text/plain": [
              "(-cos(q))*.j"
            ]
          },
          "metadata": {
            "tags": []
          }
        },
        {
          "output_type": "stream",
          "text": [
            "\n"
          ],
          "name": "stdout"
        },
        {
          "output_type": "display_data",
          "data": {
            "text/latex": "$\\displaystyle \\mathbf{\\hat{k}_{}}$",
            "text/plain": [
              ".k"
            ]
          },
          "metadata": {
            "tags": []
          }
        },
        {
          "output_type": "display_data",
          "data": {
            "text/latex": "$\\displaystyle (- \\cos{\\left(2 p \\right)})\\mathbf{\\hat{k}_{}}$",
            "text/plain": [
              "(-cos(2*p))*.k"
            ]
          },
          "metadata": {
            "tags": []
          }
        },
        {
          "output_type": "stream",
          "text": [
            "\n"
          ],
          "name": "stdout"
        }
      ]
    },
    {
      "cell_type": "markdown",
      "metadata": {
        "id": "KreOI99QFUae"
      },
      "source": [
        "### Задание  4\n",
        "Преобразовать матрицу $\\left(\\begin{matrix}-q\\\\ p\\\\ q + p\\end{matrix}\\right)$ в вектор в системе координат из Заданий 1 и 2."
      ]
    },
    {
      "cell_type": "code",
      "metadata": {
        "id": "1eputnOPFUae",
        "colab": {
          "base_uri": "https://localhost:8080/",
          "height": 140
        },
        "outputId": "fcf509fb-ee56-414d-d786-de9b79498bcc"
      },
      "source": [
        "matrix = Matrix([-q, p, q + p])\n",
        "display(matrix)\n",
        "print()\n",
        "\n",
        "# Task 1.\n",
        "display(matrix_to_vector(matrix, One))\n",
        "\n",
        "# Task 2.\n",
        "display(matrix_to_vector(matrix, M))"
      ],
      "execution_count": null,
      "outputs": [
        {
          "output_type": "display_data",
          "data": {
            "text/latex": "$\\displaystyle \\left[\\begin{matrix}- q\\\\p\\\\p + q\\end{matrix}\\right]$",
            "text/plain": [
              "Matrix([\n",
              "[   -q],\n",
              "[    p],\n",
              "[p + q]])"
            ]
          },
          "metadata": {
            "tags": []
          }
        },
        {
          "output_type": "stream",
          "text": [
            "\n"
          ],
          "name": "stdout"
        },
        {
          "output_type": "display_data",
          "data": {
            "text/latex": "$\\displaystyle (- q)\\mathbf{\\hat{i}_{1}} + (p)\\mathbf{\\hat{j}_{1}} + (p + q)\\mathbf{\\hat{k}_{1}}$",
            "text/plain": [
              "(-q)*1.i + p*1.j + (p + q)*1.k"
            ]
          },
          "metadata": {
            "tags": []
          }
        },
        {
          "output_type": "display_data",
          "data": {
            "text/latex": "$\\displaystyle (- q)\\mathbf{\\hat{i}_{}} + (p)\\mathbf{\\hat{j}_{}} + (p + q)\\mathbf{\\hat{k}_{}}$",
            "text/plain": [
              "(-q)*.i + p*.j + (p + q)*.k"
            ]
          },
          "metadata": {
            "tags": []
          }
        }
      ]
    },
    {
      "cell_type": "markdown",
      "metadata": {
        "id": "gCx4rT71FUaf"
      },
      "source": [
        "### Задание 5.\n",
        "Ввести новую систему координат S5, которая получается поворотом системы координат M из Задания 2 на угол $\\pi/4$ относительно оси $j$ по часовой стрелке.\n",
        "Определить вектор b5 на основе матрицы из Задания 4 в соответствии с системой координат M, затем получить представление в матричном виде вектора b5_S5 в системе координат S5.  Вывести на экран матрицу поворота, вектор b5 в системе координат M  и S5."
      ]
    },
    {
      "cell_type": "code",
      "metadata": {
        "id": "0EjG7CASFUaf",
        "colab": {
          "base_uri": "https://localhost:8080/",
          "height": 150
        },
        "outputId": "5ee07b10-898b-4161-ca71-b5064359fae5"
      },
      "source": [
        "S5 = M.orient_new_axis('S5', -sympy.pi / 4, M.j)\n",
        "\n",
        "b5 = matrix_to_vector(matrix, M)\n",
        "b5_S5 = sympy.simplify(express(b5, S5))\n",
        "\n",
        "R_matrix = M.rotation_matrix(S5)\n",
        "\n",
        "display(R_matrix, b5, b5_S5)"
      ],
      "execution_count": 29,
      "outputs": [
        {
          "output_type": "display_data",
          "data": {
            "text/latex": "$\\displaystyle \\left[\\begin{matrix}\\frac{\\sqrt{2}}{2} & 0 & - \\frac{\\sqrt{2}}{2}\\\\0 & 1 & 0\\\\\\frac{\\sqrt{2}}{2} & 0 & \\frac{\\sqrt{2}}{2}\\end{matrix}\\right]$",
            "text/plain": [
              "Matrix([\n",
              "[sqrt(2)/2, 0, -sqrt(2)/2],\n",
              "[        0, 1,          0],\n",
              "[sqrt(2)/2, 0,  sqrt(2)/2]])"
            ]
          },
          "metadata": {
            "tags": []
          }
        },
        {
          "output_type": "display_data",
          "data": {
            "text/latex": "$\\displaystyle (- q)\\mathbf{\\hat{i}_{}} + (p)\\mathbf{\\hat{j}_{}} + (p + q)\\mathbf{\\hat{k}_{}}$",
            "text/plain": [
              "(-q)*.i + p*.j + (p + q)*.k"
            ]
          },
          "metadata": {
            "tags": []
          }
        },
        {
          "output_type": "display_data",
          "data": {
            "text/latex": "$\\displaystyle (\\frac{\\sqrt{2} p}{2})\\mathbf{\\hat{i}_{S5}} + (p)\\mathbf{\\hat{j}_{S5}} + (\\sqrt{2} \\left(\\frac{p}{2} + q\\right))\\mathbf{\\hat{k}_{S5}}$",
            "text/plain": [
              "(sqrt(2)*p/2)*S5.i + p*S5.j + (sqrt(2)*(p/2 + q))*S5.k"
            ]
          },
          "metadata": {
            "tags": []
          }
        }
      ]
    },
    {
      "cell_type": "markdown",
      "metadata": {
        "id": "qjdatGywFUaf"
      },
      "source": [
        "### Задание 6.\n",
        "Повернуть систему координат  M  из Задания 2 на $\\pi/4$ по часовой стрелке относительно оси, определяемой вектором $(1, -1, 0)$. Выразить вектор b5 в новой системе координат."
      ]
    },
    {
      "cell_type": "code",
      "metadata": {
        "id": "X5_CJBj0FUag",
        "colab": {
          "base_uri": "https://localhost:8080/",
          "height": 127
        },
        "outputId": "820cacae-1a69-4436-8fb7-ba45e0ae1303"
      },
      "source": [
        "M_new = M.orient_new_axis('M_{new}', -sympy.pi / 4, M.i - M.j)\n",
        "b5_M_new = sympy.simplify(express(b5, M_new))\n",
        "\n",
        "display(M_new, b5_M_new)"
      ],
      "execution_count": 30,
      "outputs": [
        {
          "output_type": "display_data",
          "data": {
            "text/latex": "$\\displaystyle CoordSys3D\\left(M_{new}, \\left( \\left[\\begin{matrix}\\frac{\\sqrt{2}}{4} + \\frac{1}{2} & - \\frac{1}{2} + \\frac{\\sqrt{2}}{4} & - \\frac{1}{2}\\\\- \\frac{1}{2} + \\frac{\\sqrt{2}}{4} & \\frac{\\sqrt{2}}{4} + \\frac{1}{2} & - \\frac{1}{2}\\\\\\frac{1}{2} & \\frac{1}{2} & \\frac{\\sqrt{2}}{2}\\end{matrix}\\right], \\  \\mathbf{\\hat{0}}\\right), CoordSys3D\\left(, \\left( \\left[\\begin{matrix}1 & 0 & 0\\\\0 & 1 & 0\\\\0 & 0 & 1\\end{matrix}\\right], \\  \\mathbf{\\hat{0}}\\right)\\right)\\right)$",
            "text/plain": [
              "M_{new}"
            ]
          },
          "metadata": {
            "tags": []
          }
        },
        {
          "output_type": "display_data",
          "data": {
            "text/latex": "$\\displaystyle (- p + \\frac{\\sqrt{2} p}{4} - q - \\frac{\\sqrt{2} q}{4})\\mathbf{\\hat{i}_{M_{new}}} + (\\frac{\\sqrt{2} \\left(p - q\\right)}{4})\\mathbf{\\hat{j}_{M_{new}}} + (\\frac{p}{2} - \\frac{q}{2} + \\frac{\\sqrt{2} \\left(p + q\\right)}{2})\\mathbf{\\hat{k}_{M_{new}}}$",
            "text/plain": [
              "(-p + sqrt(2)*p/4 - q - sqrt(2)*q/4)*M_{new}.i + (sqrt(2)*(p - q)/4)*M_{new}.j + (p/2 - q/2 + sqrt(2)*(p + q)/2)*M_{new}.k"
            ]
          },
          "metadata": {
            "tags": []
          }
        }
      ]
    },
    {
      "cell_type": "markdown",
      "metadata": {
        "id": "2Sksd5J7FUag"
      },
      "source": [
        "### Индивидуальное задание.\n",
        "Ввести безымянную систему координат XYZ, задать в ней векторы $v_1$ и $v_2$. Построить новую систему координат XYZ1 с именем '1' поворотом  XYZ на $\\alpha$ против часовой стрелки относительно оси, определяемой вектором $v_3$, выразить векторы $v_1$ и $v_2$ в новой системе координат. Найти скалярное и векторное произведение векторов в новой и старой системе координат. Выразить вектор, равный векторному произведению $v_1$ и $v_2$ в старой системе координат через новую систему координат, сравнить с векторным произведением $v_1$ и $v_2$, выраженных в новой системе координат.\n",
        "\n",
        "#### Вариант N 4\n",
        "\n",
        "$v_1 = (-6)\\mathbf{\\hat{i}_{}} + (6)\\mathbf{\\hat{j}_{}} + (3)\\mathbf{\\hat{k}_{}}$, $v_2 = (8)\\mathbf{\\hat{i}_{}} + (-2)\\mathbf{\\hat{j}_{}} + (8)\\mathbf{\\hat{k}_{}}$, Name = 4, угол поворота $- 2 \\pi / 3$, ось $(8)\\mathbf{\\hat{i}_{}} + (-2)\\mathbf{\\hat{j}_{}}$\n"
      ]
    },
    {
      "cell_type": "code",
      "metadata": {
        "id": "CneYKtasFUag",
        "colab": {
          "base_uri": "https://localhost:8080/",
          "height": 275
        },
        "outputId": "4b844ab3-1250-40f8-ad86-b7dc44447eaa"
      },
      "source": [
        "XYZ = CoordSys3D('')\n",
        "\n",
        "v1 = -6 * XYZ.i + 6 * XYZ.j + 3 * XYZ.k\n",
        "v2 = 8 * XYZ.i - 2 * XYZ.j + 8 * XYZ.k\n",
        "\n",
        "alpha = -2 * sympy.pi / 3\n",
        "axis = 8 * XYZ.i - 2 * XYZ.j\n",
        "\n",
        "Four = XYZ.orient_new_axis('4', alpha, axis)\n",
        "\n",
        "v1_4 = sympy.simplify(express(v1, Four))\n",
        "v2_4 = sympy.simplify(express(v2, Four))\n",
        "\n",
        "old_dot = v1.dot(v2)\n",
        "new_dot = sympy.simplify(v1_4.dot(v2_4))\n",
        "\n",
        "old_cross = v1.cross(v2)\n",
        "new_cross = sympy.simplify(v1_4.cross(v2_4))\n",
        "\n",
        "print('Скалярные произведения')\n",
        "display(old_dot, new_dot)\n",
        "print('\\n', 'Векторные произведения v1 ^ v2 и v1_4 ^ v2_4', '\\n')\n",
        "display(old_cross, new_cross)\n",
        "print('\\n', 'Старое векторное произведение в новой системе координат', '\\n')\n",
        "display(sympy.simplify(express(old_cross, Four)))"
      ],
      "execution_count": 35,
      "outputs": [
        {
          "output_type": "stream",
          "text": [
            "Скалярные произведения\n"
          ],
          "name": "stdout"
        },
        {
          "output_type": "display_data",
          "data": {
            "text/latex": "$\\displaystyle -36$",
            "text/plain": [
              "-36"
            ]
          },
          "metadata": {
            "tags": []
          }
        },
        {
          "output_type": "display_data",
          "data": {
            "text/latex": "$\\displaystyle -36$",
            "text/plain": [
              "-36"
            ]
          },
          "metadata": {
            "tags": []
          }
        },
        {
          "output_type": "stream",
          "text": [
            "\n",
            " Векторные произведения v1 ^ v2 и v1_4 ^ v2_4 \n",
            "\n"
          ],
          "name": "stdout"
        },
        {
          "output_type": "display_data",
          "data": {
            "text/latex": "$\\displaystyle (54)\\mathbf{\\hat{i}_{}} + (72)\\mathbf{\\hat{j}_{}} + (-36)\\mathbf{\\hat{k}_{}}$",
            "text/plain": [
              "54*.i + 72*.j + (-36)*.k"
            ]
          },
          "metadata": {
            "tags": []
          }
        },
        {
          "output_type": "display_data",
          "data": {
            "text/latex": "$\\displaystyle (\\frac{18 \\sqrt{51}}{17} + \\frac{405}{17})\\mathbf{\\hat{i}_{4}} + (- \\frac{828}{17} + \\frac{72 \\sqrt{51}}{17})\\mathbf{\\hat{j}_{4}} + (18 + \\frac{171 \\sqrt{51}}{17})\\mathbf{\\hat{k}_{4}}$",
            "text/plain": [
              "(18*sqrt(51)/17 + 405/17)*4.i + (-828/17 + 72*sqrt(51)/17)*4.j + (18 + 171*sqrt(51)/17)*4.k"
            ]
          },
          "metadata": {
            "tags": []
          }
        },
        {
          "output_type": "stream",
          "text": [
            "\n",
            " Старое векторное произведение в новой системе координат \n",
            "\n"
          ],
          "name": "stdout"
        },
        {
          "output_type": "display_data",
          "data": {
            "text/latex": "$\\displaystyle (\\frac{18 \\sqrt{51}}{17} + \\frac{405}{17})\\mathbf{\\hat{i}_{4}} + (- \\frac{828}{17} + \\frac{72 \\sqrt{51}}{17})\\mathbf{\\hat{j}_{4}} + (18 + \\frac{171 \\sqrt{51}}{17})\\mathbf{\\hat{k}_{4}}$",
            "text/plain": [
              "(18*sqrt(51)/17 + 405/17)*4.i + (-828/17 + 72*sqrt(51)/17)*4.j + (18 + 171*sqrt(51)/17)*4.k"
            ]
          },
          "metadata": {
            "tags": []
          }
        }
      ]
    }
  ]
}