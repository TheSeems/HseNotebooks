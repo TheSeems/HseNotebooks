{
  "nbformat": 4,
  "nbformat_minor": 0,
  "metadata": {
    "kernelspec": {
      "display_name": "Python 3",
      "language": "python",
      "name": "python3"
    },
    "language_info": {
      "codemirror_mode": {
        "name": "ipython",
        "version": 3
      },
      "file_extension": ".py",
      "mimetype": "text/x-python",
      "name": "python",
      "nbconvert_exporter": "python",
      "pygments_lexer": "ipython3",
      "version": "3.7.3"
    },
    "colab": {
      "name": "Akhundov_algebra_12_2021_tasks.ipynb",
      "provenance": [],
      "collapsed_sections": [],
      "include_colab_link": true
    }
  },
  "cells": [
    {
      "cell_type": "markdown",
      "metadata": {
        "id": "view-in-github",
        "colab_type": "text"
      },
      "source": [
        "<a href=\"https://colab.research.google.com/github/TheSeems/HseNotebooks/blob/main/Akhundov_algebra_12_2021_tasks.ipynb\" target=\"_parent\"><img src=\"https://colab.research.google.com/assets/colab-badge.svg\" alt=\"Open In Colab\"/></a>"
      ]
    },
    {
      "cell_type": "code",
      "metadata": {
        "id": "Ig822AfTLww6"
      },
      "source": [
        "import sympy\n",
        "import numpy as np\n",
        "from sympy import Expr, Eq, latex, plot_implicit, Matrix, plot, solve, linsolve, nonlinsolve, symbols\n",
        "from sympy import pi as Pi\n",
        "from sympy import cos as Cos\n",
        "from sympy import sin as Sin\n",
        "import matplotlib.pyplot as plt"
      ],
      "execution_count": 1,
      "outputs": []
    },
    {
      "cell_type": "markdown",
      "metadata": {
        "id": "4DENe_H3LwxI"
      },
      "source": [
        "# Занятие 12\n",
        "# Алгебра\n",
        "### Задание 1.\n",
        "Написать функцию, составляющую матрицу линейного оператора поворота на alpha градусов или радиан По или Против часовой стрелки на плоскости. Параметры: обязательные - угол поворота, необязательные - тип меры угла (градусы или радианы), направление поворота (По или Против часовой стрелки). Значения по умолчанию - против часовой стрелки в радианах.\n",
        "\n",
        "Использовать полученную функцию для выведения на экран координат векторов, полученных \n",
        "\n",
        "1) поворотом на 10, 20, 45 градусов По часовой стрелке\n",
        "\n",
        "2) на $\\pi/3$ радиан против часовой стрелки."
      ]
    },
    {
      "cell_type": "code",
      "metadata": {
        "id": "kuLhwIB7LwxJ",
        "colab": {
          "base_uri": "https://localhost:8080/",
          "height": 303
        },
        "outputId": "2b7a5207-f26d-4b1a-af05-88bed1acc9b7"
      },
      "source": [
        "def rotation_matrix(alpha, measure='rad', clockwise=False):\n",
        "  if measure == 'deg':\n",
        "    alpha = alpha * sympy.pi / 180\n",
        "  if clockwise:\n",
        "    alpha = -alpha\n",
        "  return Matrix([[sympy.cos(alpha), -sympy.sin(alpha)], [sympy.sin(alpha), sympy.cos(alpha)]])\n",
        "\n",
        "for deg in [10, 20, 45]:\n",
        "  print('Degree: ', deg)\n",
        "  display(rotation_matrix(deg, 'deg', True))\n",
        "  print()\n",
        "\n",
        "display(rotation_matrix(sympy.pi / 3))"
      ],
      "execution_count": 4,
      "outputs": [
        {
          "output_type": "stream",
          "text": [
            "Degree:  10\n"
          ],
          "name": "stdout"
        },
        {
          "output_type": "display_data",
          "data": {
            "text/latex": "$\\displaystyle \\left[\\begin{matrix}\\cos{\\left(\\frac{\\pi}{18} \\right)} & \\sin{\\left(\\frac{\\pi}{18} \\right)}\\\\- \\sin{\\left(\\frac{\\pi}{18} \\right)} & \\cos{\\left(\\frac{\\pi}{18} \\right)}\\end{matrix}\\right]$",
            "text/plain": [
              "Matrix([\n",
              "[ cos(pi/18), sin(pi/18)],\n",
              "[-sin(pi/18), cos(pi/18)]])"
            ]
          },
          "metadata": {
            "tags": []
          }
        },
        {
          "output_type": "stream",
          "text": [
            "\n",
            "Degree:  20\n"
          ],
          "name": "stdout"
        },
        {
          "output_type": "display_data",
          "data": {
            "text/latex": "$\\displaystyle \\left[\\begin{matrix}\\cos{\\left(\\frac{\\pi}{9} \\right)} & \\sin{\\left(\\frac{\\pi}{9} \\right)}\\\\- \\sin{\\left(\\frac{\\pi}{9} \\right)} & \\cos{\\left(\\frac{\\pi}{9} \\right)}\\end{matrix}\\right]$",
            "text/plain": [
              "Matrix([\n",
              "[ cos(pi/9), sin(pi/9)],\n",
              "[-sin(pi/9), cos(pi/9)]])"
            ]
          },
          "metadata": {
            "tags": []
          }
        },
        {
          "output_type": "stream",
          "text": [
            "\n",
            "Degree:  45\n"
          ],
          "name": "stdout"
        },
        {
          "output_type": "display_data",
          "data": {
            "text/latex": "$\\displaystyle \\left[\\begin{matrix}\\frac{\\sqrt{2}}{2} & \\frac{\\sqrt{2}}{2}\\\\- \\frac{\\sqrt{2}}{2} & \\frac{\\sqrt{2}}{2}\\end{matrix}\\right]$",
            "text/plain": [
              "Matrix([\n",
              "[ sqrt(2)/2, sqrt(2)/2],\n",
              "[-sqrt(2)/2, sqrt(2)/2]])"
            ]
          },
          "metadata": {
            "tags": []
          }
        },
        {
          "output_type": "stream",
          "text": [
            "\n"
          ],
          "name": "stdout"
        },
        {
          "output_type": "display_data",
          "data": {
            "text/latex": "$\\displaystyle \\left[\\begin{matrix}\\frac{1}{2} & - \\frac{\\sqrt{3}}{2}\\\\\\frac{\\sqrt{3}}{2} & \\frac{1}{2}\\end{matrix}\\right]$",
            "text/plain": [
              "Matrix([\n",
              "[      1/2, -sqrt(3)/2],\n",
              "[sqrt(3)/2,        1/2]])"
            ]
          },
          "metadata": {
            "tags": []
          }
        }
      ]
    },
    {
      "cell_type": "markdown",
      "metadata": {
        "id": "nHWJPxVRLwxJ"
      },
      "source": [
        "### Задание 2.\n",
        "Найти собственные числа и собственные векторы линейного оператора, заданного матрицей \n",
        "$$\n",
        "\\left(\\begin{matrix}\n",
        "-34&20&-5\\\\\n",
        "-40&56&-20\\\\\n",
        "20&-8&50\n",
        "\\end{matrix}\\right)\n",
        "$$\n",
        "Воспользоваться eigenvals и eigenvects, проверить выполнение равенства нулю характеристического многочлена $|A-\\lambda E|$ и условия $Ax=\\lambda x$.\n"
      ]
    },
    {
      "cell_type": "code",
      "metadata": {
        "id": "InBHNKqlLwxK",
        "colab": {
          "base_uri": "https://localhost:8080/",
          "height": 567
        },
        "outputId": "3cbf4d32-a859-40c8-eff8-af9e0c025d16"
      },
      "source": [
        "M = Matrix([\n",
        "            [-34, 20, -5],\n",
        "            [-40, 56, -20],\n",
        "            [20, -8, 50]\n",
        "])\n",
        "\n",
        "evals = M.eigenvals()\n",
        "for eival in evals:\n",
        "  print('Eigenvalue:', str(eival) + '.', 'Check:', (M - eival * sympy.eye(3)).det() == 0)\n",
        "\n",
        "evects = M.eigenvects()\n",
        "for evect in evects:\n",
        "  eival = evect[0]\n",
        "  krat = evect[1]\n",
        "  vect = evect[2][0]\n",
        "  print('\\n', 'Eigenvector')\n",
        "  display(vect)\n",
        "  print('With eigenvalue')\n",
        "  display(eival)\n",
        "  print('Check:', (M - eival * sympy.eye(3)).det() == 0, M * vect == eival * vect, '\\n')"
      ],
      "execution_count": 22,
      "outputs": [
        {
          "output_type": "stream",
          "text": [
            "Eigenvalue: 56. Check: True\n",
            "Eigenvalue: 40. Check: True\n",
            "Eigenvalue: -24. Check: True\n",
            "\n",
            " Eigenvector\n"
          ],
          "name": "stdout"
        },
        {
          "output_type": "display_data",
          "data": {
            "text/latex": "$\\displaystyle \\left[\\begin{matrix}- \\frac{9}{2}\\\\-2\\\\1\\end{matrix}\\right]$",
            "text/plain": [
              "Matrix([\n",
              "[-9/2],\n",
              "[  -2],\n",
              "[   1]])"
            ]
          },
          "metadata": {
            "tags": []
          }
        },
        {
          "output_type": "stream",
          "text": [
            "With eigenvalue\n"
          ],
          "name": "stdout"
        },
        {
          "output_type": "display_data",
          "data": {
            "text/latex": "$\\displaystyle -24$",
            "text/plain": [
              "-24"
            ]
          },
          "metadata": {
            "tags": []
          }
        },
        {
          "output_type": "stream",
          "text": [
            "Check: True True \n",
            "\n",
            "\n",
            " Eigenvector\n"
          ],
          "name": "stdout"
        },
        {
          "output_type": "display_data",
          "data": {
            "text/latex": "$\\displaystyle \\left[\\begin{matrix}\\frac{5}{6}\\\\\\frac{10}{3}\\\\1\\end{matrix}\\right]$",
            "text/plain": [
              "Matrix([\n",
              "[ 5/6],\n",
              "[10/3],\n",
              "[   1]])"
            ]
          },
          "metadata": {
            "tags": []
          }
        },
        {
          "output_type": "stream",
          "text": [
            "With eigenvalue\n"
          ],
          "name": "stdout"
        },
        {
          "output_type": "display_data",
          "data": {
            "text/latex": "$\\displaystyle 40$",
            "text/plain": [
              "40"
            ]
          },
          "metadata": {
            "tags": []
          }
        },
        {
          "output_type": "stream",
          "text": [
            "Check: True True \n",
            "\n",
            "\n",
            " Eigenvector\n"
          ],
          "name": "stdout"
        },
        {
          "output_type": "display_data",
          "data": {
            "text/latex": "$\\displaystyle \\left[\\begin{matrix}- \\frac{1}{2}\\\\-2\\\\1\\end{matrix}\\right]$",
            "text/plain": [
              "Matrix([\n",
              "[-1/2],\n",
              "[  -2],\n",
              "[   1]])"
            ]
          },
          "metadata": {
            "tags": []
          }
        },
        {
          "output_type": "stream",
          "text": [
            "With eigenvalue\n"
          ],
          "name": "stdout"
        },
        {
          "output_type": "display_data",
          "data": {
            "text/latex": "$\\displaystyle 56$",
            "text/plain": [
              "56"
            ]
          },
          "metadata": {
            "tags": []
          }
        },
        {
          "output_type": "stream",
          "text": [
            "Check: True True \n",
            "\n"
          ],
          "name": "stdout"
        }
      ]
    },
    {
      "cell_type": "markdown",
      "metadata": {
        "id": "LU9wLIKdLwxK"
      },
      "source": [
        "### Задание 3.\n",
        "Построить матрицу оператора из задания 2 в базисе из векторов $(1,1,1)$, $(0,5,3)$ и $(1,6,0)$.\n"
      ]
    },
    {
      "cell_type": "code",
      "metadata": {
        "id": "DVXbLK3cLwxL",
        "colab": {
          "base_uri": "https://localhost:8080/",
          "height": 78
        },
        "outputId": "ecfb79c7-4af6-4ab7-c145-109fb98de085"
      },
      "source": [
        "P = Matrix([\n",
        "            [1, 0, 1],\n",
        "            [1, 5, 6],\n",
        "            [1, 3, 0]\n",
        "])\n",
        "\n",
        "display(P.inv() * M * P)"
      ],
      "execution_count": 24,
      "outputs": [
        {
          "output_type": "display_data",
          "data": {
            "text/latex": "$\\displaystyle \\left[\\begin{matrix}-1 & 71 & 26\\\\21 & 13 & -18\\\\-18 & 14 & 60\\end{matrix}\\right]$",
            "text/plain": [
              "Matrix([\n",
              "[ -1, 71,  26],\n",
              "[ 21, 13, -18],\n",
              "[-18, 14,  60]])"
            ]
          },
          "metadata": {
            "tags": []
          }
        }
      ]
    },
    {
      "cell_type": "markdown",
      "metadata": {
        "id": "BAb-ROH1LwxL"
      },
      "source": [
        "### Задание 4.\n",
        "Построить матрицу оператора из задания 2 в базисе из собственных векторов с помощью eigenvects и матрицы перехода. Сравнить диагональные элементы с собственными числами."
      ]
    },
    {
      "cell_type": "code",
      "metadata": {
        "id": "wxAsdL3aLwxL",
        "colab": {
          "base_uri": "https://localhost:8080/",
          "height": 140
        },
        "outputId": "409a8368-6274-488e-a5ee-a0aef41bb001"
      },
      "source": [
        "P = evects[0][2][0].row_join(evects[1][2][0]).row_join(evects[2][2][0])\n",
        "display(P)\n",
        "\n",
        "M_alt = P.inv() * M * P\n",
        "display(M_alt)"
      ],
      "execution_count": 29,
      "outputs": [
        {
          "output_type": "display_data",
          "data": {
            "text/latex": "$\\displaystyle \\left[\\begin{matrix}- \\frac{9}{2} & \\frac{5}{6} & - \\frac{1}{2}\\\\-2 & \\frac{10}{3} & -2\\\\1 & 1 & 1\\end{matrix}\\right]$",
            "text/plain": [
              "Matrix([\n",
              "[-9/2,  5/6, -1/2],\n",
              "[  -2, 10/3,   -2],\n",
              "[   1,    1,    1]])"
            ]
          },
          "metadata": {
            "tags": []
          }
        },
        {
          "output_type": "display_data",
          "data": {
            "text/latex": "$\\displaystyle \\left[\\begin{matrix}-24 & 0 & 0\\\\0 & 40 & 0\\\\0 & 0 & 56\\end{matrix}\\right]$",
            "text/plain": [
              "Matrix([\n",
              "[-24,  0,  0],\n",
              "[  0, 40,  0],\n",
              "[  0,  0, 56]])"
            ]
          },
          "metadata": {
            "tags": []
          }
        }
      ]
    },
    {
      "cell_type": "markdown",
      "metadata": {
        "id": "gAH5tIqaLwxM"
      },
      "source": [
        "###  Индивидуальное задание\n",
        "Найти собственные числа и собственные векторы линейного оператора. Построить матрицу оператора в заданном базисе. Построить матрицу оператора в базисе из собственных векторов.\n",
        "\n",
        "Вывести на экран матрицу оператора А, матрицу перехода к базису ($e_1$, $e_2$, $e_3$), матрицу оператора в базисе ($e_1$, $e_2$, $e_3$), матрицу перехода к базису из собственных векторов, матрицу оператора в базисе из собственных векторов.\n",
        "\n",
        "Вариант №4.\n",
        "$$A = \\left[\\begin{matrix}46 & 75 & 30\\\\-56 & -76 & -92\\\\-152 & -134 & -58\\end{matrix}\\right],\\quad e_1 = \\left[\\begin{matrix}4\\\\2\\\\4\\end{matrix}\\right],\\quad e_2 = \\left[\\begin{matrix}1\\\\2\\\\3\\end{matrix}\\right],\\quad e_3 = \\left[\\begin{matrix}2\\\\-1\\\\3\\end{matrix}\\right]$$\n"
      ]
    },
    {
      "cell_type": "code",
      "metadata": {
        "id": "-v5I-4oOLwxM",
        "colab": {
          "base_uri": "https://localhost:8080/",
          "height": 528
        },
        "outputId": "3894c9dd-c9e6-4f9d-87e9-f78d13b3944a"
      },
      "source": [
        "A = Matrix([\n",
        "            [46, 75, 30],\n",
        "            [-56, -76, -92],\n",
        "            [-152, -134, -58]\n",
        "])\n",
        "\n",
        "P = Matrix([\n",
        "            [4, 1, 2],\n",
        "            [2, 2, -1],\n",
        "            [4, 3, 3]\n",
        "])\n",
        "\n",
        "evals = A.eigenvals()\n",
        "evects = A.eigenvects()\n",
        "P_lambda = evects[0][2][0].row_join(evects[1][2][0]).row_join(evects[2][2][0])\n",
        "\n",
        "print('Собственные числа')\n",
        "print(*evals)\n",
        "print()\n",
        "\n",
        "print('Матрица линейного оператора')\n",
        "display(A)\n",
        "print()\n",
        "\n",
        "print('Матрица перехода к новому базису')\n",
        "display(P)\n",
        "print()\n",
        "\n",
        "print('Матрица линейного оператора в новом базисе')\n",
        "display(P.inv() * A * P)\n",
        "print()\n",
        "\n",
        "print('Матрица перехода к базису из собственных векторов')\n",
        "display(P_lambda)\n",
        "print()\n",
        "\n",
        "print('Матрица линейного оператора в базисе из собственных векторов')\n",
        "display(P_lambda.inv() * A * P_lambda)"
      ],
      "execution_count": 32,
      "outputs": [
        {
          "output_type": "stream",
          "text": [
            "Собственные числа\n",
            "66 -44 -110\n",
            "\n",
            "Матрица линейного оператора\n"
          ],
          "name": "stdout"
        },
        {
          "output_type": "display_data",
          "data": {
            "text/latex": "$\\displaystyle \\left[\\begin{matrix}46 & 75 & 30\\\\-56 & -76 & -92\\\\-152 & -134 & -58\\end{matrix}\\right]$",
            "text/plain": [
              "Matrix([\n",
              "[  46,   75,  30],\n",
              "[ -56,  -76, -92],\n",
              "[-152, -134, -58]])"
            ]
          },
          "metadata": {
            "tags": []
          }
        },
        {
          "output_type": "stream",
          "text": [
            "\n",
            "Матрица перехода к новому базису\n"
          ],
          "name": "stdout"
        },
        {
          "output_type": "display_data",
          "data": {
            "text/latex": "$\\displaystyle \\left[\\begin{matrix}4 & 1 & 2\\\\2 & 2 & -1\\\\4 & 3 & 3\\end{matrix}\\right]$",
            "text/plain": [
              "Matrix([\n",
              "[4, 1,  2],\n",
              "[2, 2, -1],\n",
              "[4, 3,  3]])"
            ]
          },
          "metadata": {
            "tags": []
          }
        },
        {
          "output_type": "stream",
          "text": [
            "\n",
            "Матрица линейного оператора в новом базисе\n"
          ],
          "name": "stdout"
        },
        {
          "output_type": "display_data",
          "data": {
            "text/latex": "$\\displaystyle \\left[\\begin{matrix}\\frac{3697}{11} & 186 & \\frac{1747}{22}\\\\- \\frac{8190}{11} & -434 & - \\frac{2535}{11}\\\\- \\frac{802}{11} & -12 & \\frac{109}{11}\\end{matrix}\\right]$",
            "text/plain": [
              "Matrix([\n",
              "[ 3697/11,  186,  1747/22],\n",
              "[-8190/11, -434, -2535/11],\n",
              "[ -802/11,  -12,   109/11]])"
            ]
          },
          "metadata": {
            "tags": []
          }
        },
        {
          "output_type": "stream",
          "text": [
            "\n",
            "Матрица перехода к базису из собственных векторов\n"
          ],
          "name": "stdout"
        },
        {
          "output_type": "display_data",
          "data": {
            "text/latex": "$\\displaystyle \\left[\\begin{matrix}- \\frac{5}{6} & - \\frac{9}{2} & - \\frac{3}{8}\\\\\\frac{4}{3} & 5 & - \\frac{1}{2}\\\\1 & 1 & 1\\end{matrix}\\right]$",
            "text/plain": [
              "Matrix([\n",
              "[-5/6, -9/2, -3/8],\n",
              "[ 4/3,    5, -1/2],\n",
              "[   1,    1,    1]])"
            ]
          },
          "metadata": {
            "tags": []
          }
        },
        {
          "output_type": "stream",
          "text": [
            "\n",
            "Матрица линейного оператора в базисе из собственных векторов\n"
          ],
          "name": "stdout"
        },
        {
          "output_type": "display_data",
          "data": {
            "text/latex": "$\\displaystyle \\left[\\begin{matrix}-110 & 0 & 0\\\\0 & -44 & 0\\\\0 & 0 & 66\\end{matrix}\\right]$",
            "text/plain": [
              "Matrix([\n",
              "[-110,   0,  0],\n",
              "[   0, -44,  0],\n",
              "[   0,   0, 66]])"
            ]
          },
          "metadata": {
            "tags": []
          }
        }
      ]
    }
  ]
}