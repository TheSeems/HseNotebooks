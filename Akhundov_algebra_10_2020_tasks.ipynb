{
  "nbformat": 4,
  "nbformat_minor": 0,
  "metadata": {
    "kernelspec": {
      "display_name": "Python 3",
      "language": "python",
      "name": "python3"
    },
    "language_info": {
      "codemirror_mode": {
        "name": "ipython",
        "version": 3
      },
      "file_extension": ".py",
      "mimetype": "text/x-python",
      "name": "python",
      "nbconvert_exporter": "python",
      "pygments_lexer": "ipython3",
      "version": "3.7.3"
    },
    "colab": {
      "name": "Akhundov_algebra_10_2020_tasks.ipynb",
      "provenance": [],
      "collapsed_sections": [],
      "include_colab_link": true
    }
  },
  "cells": [
    {
      "cell_type": "markdown",
      "metadata": {
        "id": "view-in-github",
        "colab_type": "text"
      },
      "source": [
        "<a href=\"https://colab.research.google.com/github/TheSeems/HseNotebooks/blob/main/Akhundov_algebra_10_2020_tasks.ipynb\" target=\"_parent\"><img src=\"https://colab.research.google.com/assets/colab-badge.svg\" alt=\"Open In Colab\"/></a>"
      ]
    },
    {
      "cell_type": "code",
      "metadata": {
        "id": "NVUXxZaqtqSD"
      },
      "source": [
        "import sympy\n",
        "from sympy import I, S\n",
        "import numpy as np\n",
        "import matplotlib.pyplot as plt"
      ],
      "execution_count": 11,
      "outputs": []
    },
    {
      "cell_type": "markdown",
      "metadata": {
        "id": "SwO4PIzAtqSJ"
      },
      "source": [
        "# Занятие 10\n",
        "# Алгебра\n",
        "## Комплексные числа в sympy\n",
        "### Задание 1.\n",
        "Даны комплексные числа\n",
        "$$\n",
        "z_1 = 5\\sqrt{3} + 5i,\\quad z_2 = -3 + 3i,\\quad z_3 = - 1 + i,\\quad z_4 = i,\\quad z_5 = \\frac{12}{13} + \\frac{5}{13}i,\n",
        "$$\n",
        "вычислить (представить в алгебраической форме) с помощью sympy\n",
        "$$\n",
        "z_1 \\cdot z_2,\\quad (z_2 - 5z_3)^6,\\quad \\sqrt{\\frac{z_4}{z_3}},\\quad \\frac{z_1^2 + z_3}{13z_5 - 2z_2}.\n",
        "$$"
      ]
    },
    {
      "cell_type": "code",
      "metadata": {
        "colab": {
          "base_uri": "https://localhost:8080/",
          "height": 159
        },
        "id": "X00FzOdXtqSL",
        "outputId": "d224fe1b-9a79-46e8-c901-727e36b0e857"
      },
      "source": [
        "z1 = 5 * sympy.sqrt(3) + 5 * I\n",
        "z2 = -3 + 3 * I\n",
        "z3 = -1 + I\n",
        "z4 = I\n",
        "z5 = S(12) / 13 + S(5) / 13 * I\n",
        "\n",
        "display(z1 * z2)\n",
        "display((z2 - 5 * z3)**6)\n",
        "display(sympy.sqrt(z4 / z3))\n",
        "display((z1 ** 2 + z3) / (13 * z5 - 2 * z2))"
      ],
      "execution_count": 12,
      "outputs": [
        {
          "output_type": "display_data",
          "data": {
            "text/latex": "$\\displaystyle \\left(-3 + 3 i\\right) \\left(5 \\sqrt{3} + 5 i\\right)$",
            "text/plain": [
              "(-3 + 3*I)*(5*sqrt(3) + 5*I)"
            ]
          },
          "metadata": {
            "tags": []
          }
        },
        {
          "output_type": "display_data",
          "data": {
            "text/latex": "$\\displaystyle \\left(2 - 2 i\\right)^{6}$",
            "text/plain": [
              "(2 - 2*I)**6"
            ]
          },
          "metadata": {
            "tags": []
          }
        },
        {
          "output_type": "display_data",
          "data": {
            "text/latex": "$\\displaystyle \\frac{\\sqrt{2} \\sqrt{i \\left(-1 - i\\right)}}{2}$",
            "text/plain": [
              "sqrt(2)*sqrt(I*(-1 - I))/2"
            ]
          },
          "metadata": {
            "tags": []
          }
        },
        {
          "output_type": "display_data",
          "data": {
            "text/latex": "$\\displaystyle \\frac{\\left(18 + i\\right) \\left(-1 + i + \\left(5 \\sqrt{3} + 5 i\\right)^{2}\\right)}{325}$",
            "text/plain": [
              "(18 + I)*(-1 + I + (5*sqrt(3) + 5*I)**2)/325"
            ]
          },
          "metadata": {
            "tags": []
          }
        }
      ]
    },
    {
      "cell_type": "markdown",
      "metadata": {
        "id": "l0pxisCMtqSL"
      },
      "source": [
        "### Задание  2.\n",
        "Вычисления Примера 1 проделать для мнимой единицы из python (использовать встроенную функцию complex)."
      ]
    },
    {
      "cell_type": "code",
      "metadata": {
        "colab": {
          "base_uri": "https://localhost:8080/",
          "height": 89
        },
        "id": "XWL5IgtRtqSM",
        "outputId": "27e3411a-172c-4bfc-f74a-0115ac6f7b26"
      },
      "source": [
        "import math\n",
        "z1 = complex(5 * math.sqrt(3), 5)\n",
        "z2 = complex(-3, 3)\n",
        "z3 = complex(-1, 1)\n",
        "z4 = complex(0, 1)\n",
        "z5 = complex(12 / 13, 5 / 13)\n",
        "\n",
        "display(z1 * z2)\n",
        "display((z2 - 5 * z3)**6)\n",
        "display(sympy.sqrt(z4 / z3))\n",
        "display((z1**2 + z3) / (13*z5 - 2*z2))"
      ],
      "execution_count": 13,
      "outputs": [
        {
          "output_type": "display_data",
          "data": {
            "text/plain": [
              "(-40.98076211353316+10.980762113533157j)"
            ]
          },
          "metadata": {
            "tags": []
          }
        },
        {
          "output_type": "display_data",
          "data": {
            "text/plain": [
              "(-0+512j)"
            ]
          },
          "metadata": {
            "tags": []
          }
        },
        {
          "output_type": "display_data",
          "data": {
            "text/latex": "$\\displaystyle \\sqrt{0.5 - 0.5 i}$",
            "text/plain": [
              "sqrt(0.5 - 0.5*I)"
            ]
          },
          "metadata": {
            "tags": []
          }
        },
        {
          "output_type": "display_data",
          "data": {
            "text/plain": [
              "(2.4442998757586336+5.002602236344583j)"
            ]
          },
          "metadata": {
            "tags": []
          }
        }
      ]
    },
    {
      "cell_type": "markdown",
      "metadata": {
        "id": "Cm1O-mxStqSM"
      },
      "source": [
        "### Задание  3.\n",
        "Изобразить на координатной плоскости точки, соответствующие корням  $7$-й степени комплексного числа $z = \\frac{3}{5} + i\\frac{3}{5}$. Подписать точки $Ak$, где $k$  - номер корня."
      ]
    },
    {
      "cell_type": "code",
      "metadata": {
        "colab": {
          "base_uri": "https://localhost:8080/",
          "height": 714
        },
        "id": "cwu0GAwmtqSM",
        "outputId": "c495004d-4e07-46a8-f7f2-6e8ecb4424cd"
      },
      "source": [
        "z = S(3) / 5 + I * S(3) / 5\n",
        "roots = [sympy.root(z, 7, k) for k in range(7)]\n",
        "\n",
        "print('Roots')\n",
        "for k, root in enumerate(roots):\n",
        "  display('A' + str(k) + \"=\", root)\n",
        "\n",
        "def draw_complexes(complexes, labels=['$A_' + str(i) + \"$\" for i in range(50)]):\n",
        "  xs = [sympy.re(item) for item in complexes]\n",
        "  ys = [sympy.im(item) for item in complexes]\n",
        "  plt.scatter(xs, ys)\n",
        "  for k, x_coord in enumerate(xs):\n",
        "    plt.annotate(labels[k], xy=(x_coord, ys[k]), xytext=(x_coord + 0.05, ys[k] - 0.05))\n",
        "  plt.axis('equal')\n",
        "  plt.xlabel(\"Re\")\n",
        "  plt.ylabel(\"Im\")\n",
        "\n",
        "draw_complexes(roots)"
      ],
      "execution_count": 14,
      "outputs": [
        {
          "output_type": "stream",
          "text": [
            "Roots\n"
          ],
          "name": "stdout"
        },
        {
          "output_type": "display_data",
          "data": {
            "application/vnd.google.colaboratory.intrinsic+json": {
              "type": "string"
            },
            "text/plain": [
              "'A0='"
            ]
          },
          "metadata": {
            "tags": []
          }
        },
        {
          "output_type": "display_data",
          "data": {
            "text/latex": "$\\displaystyle \\sqrt[7]{\\frac{3}{5} + \\frac{3 i}{5}}$",
            "text/plain": [
              "(3/5 + 3*I/5)**(1/7)"
            ]
          },
          "metadata": {
            "tags": []
          }
        },
        {
          "output_type": "display_data",
          "data": {
            "application/vnd.google.colaboratory.intrinsic+json": {
              "type": "string"
            },
            "text/plain": [
              "'A1='"
            ]
          },
          "metadata": {
            "tags": []
          }
        },
        {
          "output_type": "display_data",
          "data": {
            "text/latex": "$\\displaystyle \\left(-1\\right)^{\\frac{2}{7}} \\sqrt[7]{\\frac{3}{5} + \\frac{3 i}{5}}$",
            "text/plain": [
              "(-1)**(2/7)*(3/5 + 3*I/5)**(1/7)"
            ]
          },
          "metadata": {
            "tags": []
          }
        },
        {
          "output_type": "display_data",
          "data": {
            "application/vnd.google.colaboratory.intrinsic+json": {
              "type": "string"
            },
            "text/plain": [
              "'A2='"
            ]
          },
          "metadata": {
            "tags": []
          }
        },
        {
          "output_type": "display_data",
          "data": {
            "text/latex": "$\\displaystyle \\left(-1\\right)^{\\frac{4}{7}} \\sqrt[7]{\\frac{3}{5} + \\frac{3 i}{5}}$",
            "text/plain": [
              "(-1)**(4/7)*(3/5 + 3*I/5)**(1/7)"
            ]
          },
          "metadata": {
            "tags": []
          }
        },
        {
          "output_type": "display_data",
          "data": {
            "application/vnd.google.colaboratory.intrinsic+json": {
              "type": "string"
            },
            "text/plain": [
              "'A3='"
            ]
          },
          "metadata": {
            "tags": []
          }
        },
        {
          "output_type": "display_data",
          "data": {
            "text/latex": "$\\displaystyle \\left(-1\\right)^{\\frac{6}{7}} \\sqrt[7]{\\frac{3}{5} + \\frac{3 i}{5}}$",
            "text/plain": [
              "(-1)**(6/7)*(3/5 + 3*I/5)**(1/7)"
            ]
          },
          "metadata": {
            "tags": []
          }
        },
        {
          "output_type": "display_data",
          "data": {
            "application/vnd.google.colaboratory.intrinsic+json": {
              "type": "string"
            },
            "text/plain": [
              "'A4='"
            ]
          },
          "metadata": {
            "tags": []
          }
        },
        {
          "output_type": "display_data",
          "data": {
            "text/latex": "$\\displaystyle - \\sqrt[7]{-1} \\sqrt[7]{\\frac{3}{5} + \\frac{3 i}{5}}$",
            "text/plain": [
              "-(-1)**(1/7)*(3/5 + 3*I/5)**(1/7)"
            ]
          },
          "metadata": {
            "tags": []
          }
        },
        {
          "output_type": "display_data",
          "data": {
            "application/vnd.google.colaboratory.intrinsic+json": {
              "type": "string"
            },
            "text/plain": [
              "'A5='"
            ]
          },
          "metadata": {
            "tags": []
          }
        },
        {
          "output_type": "display_data",
          "data": {
            "text/latex": "$\\displaystyle - \\left(-1\\right)^{\\frac{3}{7}} \\sqrt[7]{\\frac{3}{5} + \\frac{3 i}{5}}$",
            "text/plain": [
              "-(-1)**(3/7)*(3/5 + 3*I/5)**(1/7)"
            ]
          },
          "metadata": {
            "tags": []
          }
        },
        {
          "output_type": "display_data",
          "data": {
            "application/vnd.google.colaboratory.intrinsic+json": {
              "type": "string"
            },
            "text/plain": [
              "'A6='"
            ]
          },
          "metadata": {
            "tags": []
          }
        },
        {
          "output_type": "display_data",
          "data": {
            "text/latex": "$\\displaystyle - \\left(-1\\right)^{\\frac{5}{7}} \\sqrt[7]{\\frac{3}{5} + \\frac{3 i}{5}}$",
            "text/plain": [
              "-(-1)**(5/7)*(3/5 + 3*I/5)**(1/7)"
            ]
          },
          "metadata": {
            "tags": []
          }
        },
        {
          "output_type": "display_data",
          "data": {
            "image/png": "[encoded data removed]",
            "text/plain": [
              "<Figure size 432x288 with 1 Axes>"
            ]
          },
          "metadata": {
            "tags": [],
            "needs_background": "light"
          }
        }
      ]
    },
    {
      "cell_type": "markdown",
      "metadata": {
        "id": "Vo_qx0E4tqSN"
      },
      "source": [
        "### Задание  4.\n",
        "Изобразить на координатной плоскости точки, соответствующие $z_4 = - \\frac{3}{5} + \\frac{4}{5}i$ и $\\bar{z_4}$, подписать $z_4$ тригонометрической формой, $\\bar{z_4}$ - экспоненциальной ($z = r e^{i\\varphi}$, $r$ и $\\varphi$ такие же, как в тригонометрической форме)."
      ]
    },
    {
      "cell_type": "code",
      "metadata": {
        "colab": {
          "base_uri": "https://localhost:8080/",
          "height": 279
        },
        "id": "fQyuJiEStqSN",
        "outputId": "5ca13714-ae45-4d80-a886-7ee6462009c8"
      },
      "source": [
        "def get_polar(compl):\n",
        "  r = sympy.functions.Abs(compl)\n",
        "  phi = sympy.functions.arg(compl)\n",
        "  return [sympy.simplify(r), sympy.simplify(phi)]\n",
        "\n",
        "def get_trig(compl):\n",
        "  r, phi = get_polar(compl)\n",
        "  with sympy.evaluate(False):\n",
        "    return r * (sympy.cos(phi) + I * sympy.sin(phi))\n",
        "\n",
        "def get_exp(compl):\n",
        "  r, phi = get_polar(compl)\n",
        "  with sympy.evaluate(False):\n",
        "    return r * sympy.exp(I * phi)\n",
        "\n",
        "z4 = -S(3) / 5 + S(4) / 5 * I\n",
        "nz4 = sympy.conjugate(z4)\n",
        "\n",
        "draw_complexes([z4, nz4], [\n",
        "  sympy.latex(get_trig(z4), mode='inline'), sympy.latex(get_exp(nz4), mode='inline')\n",
        "])"
      ],
      "execution_count": 15,
      "outputs": [
        {
          "output_type": "display_data",
          "data": {
            "image/png": "[encoded data removed]",
            "text/plain": [
              "<Figure size 432x288 with 1 Axes>"
            ]
          },
          "metadata": {
            "tags": [],
            "needs_background": "light"
          }
        }
      ]
    },
    {
      "cell_type": "markdown",
      "metadata": {
        "id": "YgmXsHcNtqSN"
      },
      "source": [
        "#### Задание  5.\n",
        "Изобразить корни 4 степени числа $5e^{\\frac{i\\pi}{8}}$, в полярной системе координат, подписи к точкам - аргументы (углы) сответствующих комплексных чисел. \n",
        "\n",
        "Число вводить в тригонометрической форме, для получения корней комплексного числа $z = r(\\cos(\\varphi) + \\sin(\\varphi))$ использовать формулу \n",
        "$\\sqrt[n]{z} = \\sqrt[n]{r}(\\cos(\\varphi_k) + i \\sin(\\varphi_k))$, \n",
        "$\\varphi_k = \\frac{\\varphi + 2\\pi k}{n}$, $k = 0, ..., n$. \n",
        "\n",
        "Вывести алгебраическую форму полученных корней на экран и сравнить с результатом, полученным с помощью sympy.root (с использованием sympy.expand_complex для упрощения выражения). Аналитическое представление оказывается разным.\n",
        "\n",
        "Для каждого корня найти разность в формате float модуля разности корней, полученных двумя способами (т.е. нужно для каждой пары одинаковых корней, полученных двумя способами находить разность корней, вычислять модуль sympy.Abs этой разности и преобразовывать результат в формат float)."
      ]
    },
    {
      "cell_type": "code",
      "metadata": {
        "colab": {
          "base_uri": "https://localhost:8080/",
          "height": 629
        },
        "id": "hlQshHuLtqSO",
        "outputId": "585bac1d-d904-40c0-d181-22ecee067373"
      },
      "source": [
        "from IPython.display import Math\n",
        "\n",
        "z = 5 * sympy.exp(I * sympy.pi / 8)\n",
        "r, phi = 5, sympy.pi / 8\n",
        "n = 4\n",
        "\n",
        "rs = [sympy.root(r, n)] * n\n",
        "args = [(phi + 2 * sympy.pi * k) / n for k in range(n)]\n",
        "zs = [rs[i] * (sympy.cos(args[i]) + I * sympy.sin(args[i])) for i in range(n)]\n",
        "\n",
        "print('\\n Formula roots algebraic forms: \\n')\n",
        "for i in zs:\n",
        "  display(sympy.expand_complex(i))\n",
        "\n",
        "plt.polar(args, rs, 'go')\n",
        "roots = [sympy.root(z, n, k) for k in range(n)]\n",
        "\n",
        "print('\\n Differences: \\n')\n",
        "for i in range(n):\n",
        "  diff = (zs[i] - roots[i]).evalf() \n",
        "  display(sympy.Abs(diff).evalf())\n",
        "\n",
        "print()"
      ],
      "execution_count": 16,
      "outputs": [
        {
          "output_type": "stream",
          "text": [
            "\n",
            " Formula roots algebraic forms: \n",
            "\n"
          ],
          "name": "stdout"
        },
        {
          "output_type": "display_data",
          "data": {
            "text/latex": "$\\displaystyle \\sqrt[4]{5} \\cos{\\left(\\frac{\\pi}{32} \\right)} + \\sqrt[4]{5} i \\sin{\\left(\\frac{\\pi}{32} \\right)}$",
            "text/plain": [
              "5**(1/4)*cos(pi/32) + 5**(1/4)*I*sin(pi/32)"
            ]
          },
          "metadata": {
            "tags": []
          }
        },
        {
          "output_type": "display_data",
          "data": {
            "text/latex": "$\\displaystyle - \\sqrt[4]{5} \\cos{\\left(\\frac{15 \\pi}{32} \\right)} + \\sqrt[4]{5} i \\sin{\\left(\\frac{15 \\pi}{32} \\right)}$",
            "text/plain": [
              "-5**(1/4)*cos(15*pi/32) + 5**(1/4)*I*sin(15*pi/32)"
            ]
          },
          "metadata": {
            "tags": []
          }
        },
        {
          "output_type": "display_data",
          "data": {
            "text/latex": "$\\displaystyle - \\sqrt[4]{5} \\cos{\\left(\\frac{\\pi}{32} \\right)} - \\sqrt[4]{5} i \\sin{\\left(\\frac{\\pi}{32} \\right)}$",
            "text/plain": [
              "-5**(1/4)*cos(pi/32) - 5**(1/4)*I*sin(pi/32)"
            ]
          },
          "metadata": {
            "tags": []
          }
        },
        {
          "output_type": "display_data",
          "data": {
            "text/latex": "$\\displaystyle \\sqrt[4]{5} \\cos{\\left(\\frac{15 \\pi}{32} \\right)} - \\sqrt[4]{5} i \\sin{\\left(\\frac{15 \\pi}{32} \\right)}$",
            "text/plain": [
              "5**(1/4)*cos(15*pi/32) - 5**(1/4)*I*sin(15*pi/32)"
            ]
          },
          "metadata": {
            "tags": []
          }
        },
        {
          "output_type": "stream",
          "text": [
            "\n",
            " Differences: \n",
            "\n"
          ],
          "name": "stdout"
        },
        {
          "output_type": "display_data",
          "data": {
            "text/latex": "$\\displaystyle 1.71977628353717 \\cdot 10^{-136}$",
            "text/plain": [
              "1.71977628353717e-136"
            ]
          },
          "metadata": {
            "tags": []
          }
        },
        {
          "output_type": "display_data",
          "data": {
            "text/latex": "$\\displaystyle 6.8791051341487 \\cdot 10^{-136}$",
            "text/plain": [
              "6.87910513414870e-136"
            ]
          },
          "metadata": {
            "tags": []
          }
        },
        {
          "output_type": "display_data",
          "data": {
            "text/latex": "$\\displaystyle 2.36364252615315 \\cdot 10^{-125}$",
            "text/plain": [
              "2.36364252615315e-125"
            ]
          },
          "metadata": {
            "tags": []
          }
        },
        {
          "output_type": "display_data",
          "data": {
            "text/latex": "$\\displaystyle 1.71977628353717 \\cdot 10^{-136}$",
            "text/plain": [
              "1.71977628353717e-136"
            ]
          },
          "metadata": {
            "tags": []
          }
        },
        {
          "output_type": "stream",
          "text": [
            "\n"
          ],
          "name": "stdout"
        },
        {
          "output_type": "display_data",
          "data": {
            "image/png": "[encoded data removed]",
            "text/plain": [
              "<Figure size 432x288 with 1 Axes>"
            ]
          },
          "metadata": {
            "tags": [],
            "needs_background": "light"
          }
        }
      ]
    },
    {
      "cell_type": "markdown",
      "metadata": {
        "id": "Yxcd33fitqSO"
      },
      "source": [
        "\n",
        "### Индивидуальное задание.\n",
        "Решить уравнение.\n",
        "Для получения корней использовать sympy.roots.\n",
        "Корни уравнения вывести на экран в алгебраической, тригонометрической и экспоненциальной форме.\n",
        "\n",
        "#### Вариант N 4\n",
        "$(5 - 8 i)x^2 + (15 - 24 i)x + -346 - 728 i = 0$"
      ]
    },
    {
      "cell_type": "code",
      "metadata": {
        "colab": {
          "base_uri": "https://localhost:8080/",
          "height": 615
        },
        "id": "H0VBdI6htqSO",
        "outputId": "23c76f8d-e1ae-47fc-9a5c-8b390efd0678"
      },
      "source": [
        "x = sympy.Symbol('x')\n",
        "equation = sympy.Eq(\n",
        "    (5 - 8 * I) * x**2 + (15 - 24 * I) * x - 346 - 728 * I, 0\n",
        ")\n",
        "\n",
        "print()\n",
        "for solution in sympy.roots(equation):\n",
        "  print('\\n', 'Algebraic form', '\\n')\n",
        "  display(sympy.expand_complex(solution))\n",
        "\n",
        "  print('\\n', 'Trigonometric form', '\\n')\n",
        "  display(get_trig(solution))\n",
        "\n",
        "  print('\\n', 'Exponential form', '\\n')\n",
        "  display(get_exp(solution))\n",
        "\n",
        "  print('\\n\\n')"
      ],
      "execution_count": 17,
      "outputs": [
        {
          "output_type": "stream",
          "text": [
            "\n",
            "\n",
            " Algebraic form \n",
            "\n"
          ],
          "name": "stdout"
        },
        {
          "output_type": "display_data",
          "data": {
            "text/latex": "$\\displaystyle 3 + 8 i$",
            "text/plain": [
              "3 + 8*I"
            ]
          },
          "metadata": {
            "tags": []
          }
        },
        {
          "output_type": "stream",
          "text": [
            "\n",
            " Trigonometric form \n",
            "\n"
          ],
          "name": "stdout"
        },
        {
          "output_type": "display_data",
          "data": {
            "text/latex": "$\\displaystyle \\sqrt{73} \\left(\\cos{\\left(\\operatorname{atan}{\\left(\\frac{8}{3} \\right)} \\right)} + i \\sin{\\left(\\operatorname{atan}{\\left(\\frac{8}{3} \\right)} \\right)}\\right)$",
            "text/plain": [
              "sqrt(73)*(cos(atan(8/3)) + I*sin(atan(8/3)))"
            ]
          },
          "metadata": {
            "tags": []
          }
        },
        {
          "output_type": "stream",
          "text": [
            "\n",
            " Exponential form \n",
            "\n"
          ],
          "name": "stdout"
        },
        {
          "output_type": "display_data",
          "data": {
            "text/latex": "$\\displaystyle \\sqrt{73} e^{i \\operatorname{atan}{\\left(\\frac{8}{3} \\right)}}$",
            "text/plain": [
              "sqrt(73)*exp(I*atan(8/3))"
            ]
          },
          "metadata": {
            "tags": []
          }
        },
        {
          "output_type": "stream",
          "text": [
            "\n",
            "\n",
            "\n",
            "\n",
            " Algebraic form \n",
            "\n"
          ],
          "name": "stdout"
        },
        {
          "output_type": "display_data",
          "data": {
            "text/latex": "$\\displaystyle -6 - 8 i$",
            "text/plain": [
              "-6 - 8*I"
            ]
          },
          "metadata": {
            "tags": []
          }
        },
        {
          "output_type": "stream",
          "text": [
            "\n",
            " Trigonometric form \n",
            "\n"
          ],
          "name": "stdout"
        },
        {
          "output_type": "display_data",
          "data": {
            "text/latex": "$\\displaystyle 10 \\left(\\cos{\\left(- \\pi + \\operatorname{atan}{\\left(\\frac{4}{3} \\right)} \\right)} + i \\sin{\\left(- \\pi + \\operatorname{atan}{\\left(\\frac{4}{3} \\right)} \\right)}\\right)$",
            "text/plain": [
              "10*(cos(-pi + atan(4/3)) + I*sin(-pi + atan(4/3)))"
            ]
          },
          "metadata": {
            "tags": []
          }
        },
        {
          "output_type": "stream",
          "text": [
            "\n",
            " Exponential form \n",
            "\n"
          ],
          "name": "stdout"
        },
        {
          "output_type": "display_data",
          "data": {
            "text/latex": "$\\displaystyle 10 e^{i \\left(- \\pi + \\operatorname{atan}{\\left(\\frac{4}{3} \\right)}\\right)}$",
            "text/plain": [
              "10*exp(I*(-pi + atan(4/3)))"
            ]
          },
          "metadata": {
            "tags": []
          }
        },
        {
          "output_type": "stream",
          "text": [
            "\n",
            "\n",
            "\n"
          ],
          "name": "stdout"
        }
      ]
    },
    {
      "cell_type": "code",
      "metadata": {
        "id": "P2nOf6f3LvTn"
      },
      "source": [
        ""
      ],
      "execution_count": 17,
      "outputs": []
    }
  ]
}