{
  "nbformat": 4,
  "nbformat_minor": 0,
  "metadata": {
    "kernelspec": {
      "display_name": "Python 3",
      "language": "python",
      "name": "python3"
    },
    "language_info": {
      "codemirror_mode": {
        "name": "ipython",
        "version": 3
      },
      "file_extension": ".py",
      "mimetype": "text/x-python",
      "name": "python",
      "nbconvert_exporter": "python",
      "pygments_lexer": "ipython3",
      "version": "3.7.3"
    },
    "colab": {
      "name": "Akhundov_calculus_15_2021_tasks.ipynb",
      "provenance": [],
      "collapsed_sections": [],
      "include_colab_link": true
    }
  },
  "cells": [
    {
      "cell_type": "markdown",
      "metadata": {
        "id": "view-in-github",
        "colab_type": "text"
      },
      "source": [
        "<a href=\"https://colab.research.google.com/github/TheSeems/HseNotebooks/blob/main/Akhundov_calculus_15_2021_tasks.ipynb\" target=\"_parent\"><img src=\"https://colab.research.google.com/assets/colab-badge.svg\" alt=\"Open In Colab\"/></a>"
      ]
    },
    {
      "cell_type": "code",
      "metadata": {
        "id": "yVl3CJ1S7knb"
      },
      "source": [
        "import sympy\n",
        "from sympy import S, Symbol, symbols, simplify, nonlinsolve, Matrix, diff, factor"
      ],
      "execution_count": 1,
      "outputs": []
    },
    {
      "cell_type": "markdown",
      "metadata": {
        "id": "na-zvsWh7knc"
      },
      "source": [
        "## Занятие 15\n",
        "## Математический анализ\n",
        "## Экстремум функции нескольких переменных \n",
        "### Задание 1\n",
        "Найти точки экстремума:\n",
        "\n",
        "1) $z = x^2 + xy + y^2 - 2x - y$\n",
        "\n",
        "2) $z = x^3y^2(6 - x - y)$, $(x, y > 0)$\n",
        "\n",
        "3) $z = \\frac{8}{x} + \\frac{x}{y} + y$\n",
        "\n",
        "4) $z = \\frac{1 + x - y}{\\sqrt{1 + x^2 + y^2}}$\n",
        "###### Указание.\n",
        "Вначале найти стационарные точки. Составить определитель из вторых производных в произвольной точке. Подставляя найденные (вещественные) стационарные точки, решить вопрос о наличии экстремума."
      ]
    },
    {
      "cell_type": "code",
      "metadata": {
        "colab": {
          "base_uri": "https://localhost:8080/",
          "height": 393
        },
        "id": "A0WjqQWz7knd",
        "outputId": "b25851f2-4645-4312-d85d-364a9b7e8812"
      },
      "source": [
        "from sympy import ask, Q, pi\n",
        "\n",
        "x, y, z = symbols('x y z')\n",
        "funcs = [\n",
        "  x**2 + x*y + y**2 - 2*x - y,\n",
        "  8/x + x/y + y,\n",
        "  (1 + x - y) / sympy.sqrt(1 + x**2 + y**2)\n",
        "]\n",
        "\n",
        "def check_func(f):\n",
        "  stat_points = nonlinsolve([f.diff(x), f.diff(y)], [x, y])\n",
        "  Delta = Matrix([[f.diff(x, 2), f.diff(x, y)], [f.diff(x, y), f.diff(y, 2)]]).det()\n",
        "\n",
        "  flag = False\n",
        "  for result in list(stat_points):\n",
        "    x0, y0 = result\n",
        "    if not sympy.ask(Q.real(x0) & Q.real(x0)):\n",
        "      continue\n",
        "\n",
        "    det = sympy.simplify(Delta.subs({x: x0, y: y0}))\n",
        "    if det == 0:\n",
        "      continue\n",
        "\n",
        "    if det > 0:\n",
        "      print('Экстремум у функции')\n",
        "      display(sympy.Eq(z, f))\n",
        "      print('в точке')\n",
        "      display((x0, y0))\n",
        "      flag = True\n",
        "  \n",
        "  if not flag:\n",
        "    print('У функции')\n",
        "    display(sympy.Eq(z, f))\n",
        "    print('нет экстремумов')\n",
        "  print()\n",
        "\n",
        "\n",
        "check_func(funcs[0])\n",
        "\n",
        "f = x**3*y**2*(6 - x - y)\n",
        "x, y = symbols('x y', positive=True)\n",
        "check_func(f)\n",
        "\n",
        "x, y = symbols('x y')\n",
        "check_func(funcs[1])\n",
        "check_func(funcs[2])\n"
      ],
      "execution_count": 2,
      "outputs": [
        {
          "output_type": "stream",
          "text": [
            "Экстремум у функции\n"
          ],
          "name": "stdout"
        },
        {
          "output_type": "display_data",
          "data": {
            "text/latex": "$\\displaystyle z = x^{2} + x y - 2 x + y^{2} - y$",
            "text/plain": [
              "Eq(z, x**2 + x*y - 2*x + y**2 - y)"
            ]
          },
          "metadata": {
            "tags": []
          }
        },
        {
          "output_type": "stream",
          "text": [
            "в точке\n"
          ],
          "name": "stdout"
        },
        {
          "output_type": "display_data",
          "data": {
            "text/plain": [
              "(1, 0)"
            ]
          },
          "metadata": {
            "tags": []
          }
        },
        {
          "output_type": "stream",
          "text": [
            "\n",
            "У функции\n"
          ],
          "name": "stdout"
        },
        {
          "output_type": "display_data",
          "data": {
            "text/latex": "$\\displaystyle z = x^{3} y^{2} \\left(- x - y + 6\\right)$",
            "text/plain": [
              "Eq(z, x**3*y**2*(-x - y + 6))"
            ]
          },
          "metadata": {
            "tags": []
          }
        },
        {
          "output_type": "stream",
          "text": [
            "нет экстремумов\n",
            "\n",
            "Экстремум у функции\n"
          ],
          "name": "stdout"
        },
        {
          "output_type": "display_data",
          "data": {
            "text/latex": "$\\displaystyle z = \\frac{x}{y} + y + \\frac{8}{x}$",
            "text/plain": [
              "Eq(z, x/y + y + 8/x)"
            ]
          },
          "metadata": {
            "tags": []
          }
        },
        {
          "output_type": "stream",
          "text": [
            "в точке\n"
          ],
          "name": "stdout"
        },
        {
          "output_type": "display_data",
          "data": {
            "text/plain": [
              "(4, 2)"
            ]
          },
          "metadata": {
            "tags": []
          }
        },
        {
          "output_type": "stream",
          "text": [
            "\n",
            "Экстремум у функции\n"
          ],
          "name": "stdout"
        },
        {
          "output_type": "display_data",
          "data": {
            "text/latex": "$\\displaystyle z = \\frac{x - y + 1}{\\sqrt{x^{2} + y^{2} + 1}}$",
            "text/plain": [
              "Eq(z, (x - y + 1)/sqrt(x**2 + y**2 + 1))"
            ]
          },
          "metadata": {
            "tags": []
          }
        },
        {
          "output_type": "stream",
          "text": [
            "в точке\n"
          ],
          "name": "stdout"
        },
        {
          "output_type": "display_data",
          "data": {
            "text/plain": [
              "(1, -1)"
            ]
          },
          "metadata": {
            "tags": []
          }
        },
        {
          "output_type": "stream",
          "text": [
            "\n"
          ],
          "name": "stdout"
        }
      ]
    },
    {
      "cell_type": "markdown",
      "metadata": {
        "id": "1P7oNC0b7knd"
      },
      "source": [
        "### Задание 2.\n",
        "С помощью метода Лагранжа найти условный экстремум функции\n",
        "$z = x + 2y$ при условии $x^2 + y^2 = 5$."
      ]
    },
    {
      "cell_type": "code",
      "metadata": {
        "colab": {
          "base_uri": "https://localhost:8080/",
          "height": 55
        },
        "id": "DALgdsCX7knd",
        "outputId": "ab2759ba-d346-407a-f3fc-4679fafa21db"
      },
      "source": [
        "def lag2(func, cond):\n",
        "  x, y, lamb = symbols('x y \\lambda')\n",
        "  L = func + lamb * cond\n",
        "  variables = [x, y, lamb]\n",
        "\n",
        "  stat_points = nonlinsolve([L.diff(var) for var in variables], variables)\n",
        "  dx, dy, dx2, dy2 = symbols('dx dy dx^2 dy^2')\n",
        "  d2L = L.diff(x,2)*dx2 + 2*L.diff(x,y)*dx*dy + L.diff(y,2)*dy2\n",
        "  \n",
        "  display(factor(d2L))\n",
        "  ff = Symbol('f')\n",
        "  result = []\n",
        "  for point in stat_points:\n",
        "    result += (point[:-1], func.subs({var: point[j] for j, var in enumerate(variables)}))\n",
        "\n",
        "  return result\n",
        "\n",
        "def lag3(func, cond):\n",
        "  x, y, z, lamb = symbols('x y z \\lambda')\n",
        "  L = func + lamb * cond\n",
        "  variables = [x, y, z, lamb]\n",
        "\n",
        "  stat_points = nonlinsolve([L.diff(var) for var in variables], variables)\n",
        "  dx, dy, dz, dx2, dy2, dz2 = symbols('dx dy dz dx^2 dy^2 dz^2')\n",
        "  d2L = 0\n",
        "  diffs = {x: (dx, dx2), y: (dy, dy2), z: (dz, dz2)}\n",
        "  for i, var in enumerate(variables[:-1]):\n",
        "    d2L += L.diff(var, 2)*diffs[var][1]\n",
        "    for j in range(i + 1, 3):\n",
        "      d2L += 2*L.diff(var, variables[j])*diffs[var][0]*diffs[variables[j]][0]\n",
        "\n",
        "  display(factor(d2L))\n",
        "  result = []\n",
        "  for point in stat_points:\n",
        "    result += (point[:-1], func.subs({var: point[j] for j, var in enumerate(variables)}))\n",
        "  return result\n",
        "\n",
        "func = x + 2*y\n",
        "cond = x**2 + y**2 - 5\n",
        "display(lag2(func, cond))"
      ],
      "execution_count": 27,
      "outputs": [
        {
          "output_type": "display_data",
          "data": {
            "text/latex": "$\\displaystyle 2 \\lambda \\left(dx^{2} + dy^{2}\\right)$",
            "text/plain": [
              "2*\\lambda*(dx^2 + dy^2)"
            ]
          },
          "metadata": {
            "tags": []
          }
        },
        {
          "output_type": "display_data",
          "data": {
            "text/plain": [
              "[(-1, -2), -5, (1, 2), 5]"
            ]
          },
          "metadata": {
            "tags": []
          }
        }
      ]
    },
    {
      "cell_type": "markdown",
      "metadata": {
        "id": "pjFsJ79k7kne"
      },
      "source": [
        "### Задание 3.\n",
        "С помощью метода Лагранжа найти условный экстремум функции\n",
        "$z=x^2+y^2$ при условии $\\frac{x}{2}+\\frac{y}{3}=1$."
      ]
    },
    {
      "cell_type": "code",
      "metadata": {
        "colab": {
          "base_uri": "https://localhost:8080/",
          "height": 72
        },
        "id": "NH1wBewy7kne",
        "outputId": "2491912a-6460-475e-aa16-b39e32cd1bf6"
      },
      "source": [
        "func = x**2 + y**2\n",
        "cond = x/2 + y/3 - 1\n",
        "\n",
        "print('Минимум')\n",
        "display(lag2(func, cond))"
      ],
      "execution_count": 28,
      "outputs": [
        {
          "output_type": "stream",
          "text": [
            "Минимум\n"
          ],
          "name": "stdout"
        },
        {
          "output_type": "display_data",
          "data": {
            "text/latex": "$\\displaystyle 2 \\left(dx^{2} + dy^{2}\\right)$",
            "text/plain": [
              "2*(dx^2 + dy^2)"
            ]
          },
          "metadata": {
            "tags": []
          }
        },
        {
          "output_type": "display_data",
          "data": {
            "text/plain": [
              "[(18/13, 12/13), 36/13]"
            ]
          },
          "metadata": {
            "tags": []
          }
        }
      ]
    },
    {
      "cell_type": "markdown",
      "metadata": {
        "id": "qIfIDPcd7kne"
      },
      "source": [
        "### Задание 4.\n",
        "С помощью метода Лагранжа найти экстремум функции $u = x - 2y + 2z$ при условии $x^2 + y^2 + z^2 = 9$."
      ]
    },
    {
      "cell_type": "code",
      "metadata": {
        "colab": {
          "base_uri": "https://localhost:8080/",
          "height": 135
        },
        "id": "iOcF3GmA7knf",
        "outputId": "95a946d8-feed-4a54-d77e-6f712dd6ed90"
      },
      "source": [
        "func = x - 2*y + 2*z\n",
        "cond = x**2 + y**2 + z**2 - 9\n",
        "\n",
        "print('Минимум и максимум')\n",
        "display(*lag3(func, cond))"
      ],
      "execution_count": 30,
      "outputs": [
        {
          "output_type": "stream",
          "text": [
            "Минимум и максимум\n"
          ],
          "name": "stdout"
        },
        {
          "output_type": "display_data",
          "data": {
            "text/latex": "$\\displaystyle 2 \\lambda \\left(dx^{2} + dy^{2} + dz^{2}\\right)$",
            "text/plain": [
              "2*\\lambda*(dx^2 + dy^2 + dz^2)"
            ]
          },
          "metadata": {
            "tags": []
          }
        },
        {
          "output_type": "display_data",
          "data": {
            "text/latex": "$\\displaystyle \\left( -1, \\  2, \\  -2\\right)$",
            "text/plain": [
              "(-1, 2, -2)"
            ]
          },
          "metadata": {
            "tags": []
          }
        },
        {
          "output_type": "display_data",
          "data": {
            "text/latex": "$\\displaystyle -9$",
            "text/plain": [
              "-9"
            ]
          },
          "metadata": {
            "tags": []
          }
        },
        {
          "output_type": "display_data",
          "data": {
            "text/latex": "$\\displaystyle \\left( 1, \\  -2, \\  2\\right)$",
            "text/plain": [
              "(1, -2, 2)"
            ]
          },
          "metadata": {
            "tags": []
          }
        },
        {
          "output_type": "display_data",
          "data": {
            "text/latex": "$\\displaystyle 9$",
            "text/plain": [
              "9"
            ]
          },
          "metadata": {
            "tags": []
          }
        }
      ]
    },
    {
      "cell_type": "markdown",
      "metadata": {
        "id": "aK4KH3uR7knf"
      },
      "source": [
        "### Индивидуальное задание\n",
        "Найти точки экстремума функции $\n",
        "f(x, y, z) = 4x^2 - 4xy - 2xz - 4x - 4y^2 + 5yz + 3y - 2z^2 + z\n",
        "$"
      ]
    },
    {
      "cell_type": "code",
      "metadata": {
        "colab": {
          "base_uri": "https://localhost:8080/",
          "height": 177
        },
        "id": "basrXC-u7knf",
        "outputId": "2ff70503-09f1-4891-bfd6-9d3503252102"
      },
      "source": [
        "func = 4*x**2 - 4*x*y - 2*x*z - 4*x - 4*y**2 + 5*y*z + 3*y - 2*z**2 + z\n",
        "def check_func3(f):\n",
        "  stat_points = nonlinsolve([f.diff(x), f.diff(y), f.diff(z)], [x, y, z])\n",
        "  Delta = Matrix(\n",
        "      [[f.diff(x, 2), f.diff(x, y), f.diff(x, z)],\n",
        "       [f.diff(y, x), f.diff(y, 2), f.diff(y, z)],\n",
        "       [f.diff(z, x), f.diff(z, y), f.diff(z, 2)]\n",
        "      ]).det()\n",
        "\n",
        "  flag = False\n",
        "  for result in list(stat_points):\n",
        "    x0, y0, z0 = result\n",
        "    if not sympy.ask(Q.real(x0) & Q.real(y0) & Q.real(z0)):\n",
        "      continue\n",
        "\n",
        "    det = sympy.simplify(Delta.subs({x: x0, y: y0, z: z0}))\n",
        "    if det <= 0:\n",
        "      continue\n",
        "\n",
        "    if det > 0:\n",
        "      print('Экстремум у функции')\n",
        "      display(f)\n",
        "      print('в точке')\n",
        "      display((x0, y0, z0), f.subs({x: x0, y: y0, z: z0}))\n",
        "      flag = True\n",
        "      print('Определитель')\n",
        "      display(det)\n",
        "  \n",
        "  if not flag:\n",
        "    print('У функции')\n",
        "    display(f)\n",
        "    print('нет экстремумов')\n",
        "  print()\n",
        "\n",
        "check_func3(func)"
      ],
      "execution_count": 40,
      "outputs": [
        {
          "output_type": "stream",
          "text": [
            "Экстремум у функции\n"
          ],
          "name": "stdout"
        },
        {
          "output_type": "display_data",
          "data": {
            "text/latex": "$\\displaystyle 4 x^{2} - 4 x y - 2 x z - 4 x - 4 y^{2} + 5 y z + 3 y - 2 z^{2} + z$",
            "text/plain": [
              "4*x**2 - 4*x*y - 2*x*z - 4*x - 4*y**2 + 5*y*z + 3*y - 2*z**2 + z"
            ]
          },
          "metadata": {
            "tags": []
          }
        },
        {
          "output_type": "stream",
          "text": [
            "в точке\n"
          ],
          "name": "stdout"
        },
        {
          "output_type": "display_data",
          "data": {
            "text/plain": [
              "(71/116, 9/58, 4/29)"
            ]
          },
          "metadata": {
            "tags": []
          }
        },
        {
          "output_type": "display_data",
          "data": {
            "text/latex": "$\\displaystyle - \\frac{107}{116}$",
            "text/plain": [
              "-107/116"
            ]
          },
          "metadata": {
            "tags": []
          }
        },
        {
          "output_type": "stream",
          "text": [
            "Определитель\n"
          ],
          "name": "stdout"
        },
        {
          "output_type": "display_data",
          "data": {
            "text/latex": "$\\displaystyle 232$",
            "text/plain": [
              "232"
            ]
          },
          "metadata": {
            "tags": []
          }
        },
        {
          "output_type": "stream",
          "text": [
            "\n"
          ],
          "name": "stdout"
        }
      ]
    }
  ]
}