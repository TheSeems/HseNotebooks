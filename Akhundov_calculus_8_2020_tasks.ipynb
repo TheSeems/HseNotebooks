{
  "nbformat": 4,
  "nbformat_minor": 0,
  "metadata": {
    "kernelspec": {
      "display_name": "Python 3",
      "language": "python",
      "name": "python3"
    },
    "language_info": {
      "codemirror_mode": {
        "name": "ipython",
        "version": 3
      },
      "file_extension": ".py",
      "mimetype": "text/x-python",
      "name": "python",
      "nbconvert_exporter": "python",
      "pygments_lexer": "ipython3",
      "version": "3.7.3"
    },
    "colab": {
      "name": "Akhundov_calculus_8_2020_tasks.ipynb",
      "provenance": [],
      "collapsed_sections": [],
      "include_colab_link": true
    }
  },
  "cells": [
    {
      "cell_type": "markdown",
      "metadata": {
        "id": "view-in-github",
        "colab_type": "text"
      },
      "source": [
        "<a href=\"https://colab.research.google.com/github/TheSeems/HseNotebooks/blob/main/Akhundov_calculus_8_2020_tasks.ipynb\" target=\"_parent\"><img src=\"https://colab.research.google.com/assets/colab-badge.svg\" alt=\"Open In Colab\"/></a>"
      ]
    },
    {
      "cell_type": "code",
      "metadata": {
        "id": "z-WLSGSfDhN7"
      },
      "source": [
        "import numpy as np\n",
        "import matplotlib.pyplot as plt\n",
        "import sympy\n",
        "from sympy import Symbol, diff, solve, nsolve, solveset, latex, S, simplify, fraction, Union, Interval, intersection, limit\n",
        "from sympy.calculus.util import continuous_domain\n",
        "from sympy import sin as Sin\n",
        "from sympy import cos as Cos\n",
        "from sympy import pi as Pi\n",
        "%matplotlib inline"
      ],
      "execution_count": 62,
      "outputs": []
    },
    {
      "cell_type": "markdown",
      "metadata": {
        "id": "efdcIwBhDhN-"
      },
      "source": [
        "## Занятие 8\n",
        "## Математический анализ\n",
        "## Дифференцирование функции, заданной параметрически\n",
        "Пусть зависимость $y$ от $x$ задана параметрически:\n",
        "$$\n",
        "\\left\\{\n",
        "\\begin{matrix}\n",
        "x = \\varphi(t)\\\\\n",
        "y = \\psi(t)\n",
        "\\end{matrix}\n",
        "\\right.\n",
        "$$\n",
        "тогда производная $y$ по $x$  находится по формуле\n",
        "$$\n",
        "y'_x = \\frac{y'_t}{x'_t} = \\frac{\\psi'_t}{\\varphi'_t}\n",
        "$$\n",
        "Вторая производная:\n",
        "$$\n",
        "y''_{xx} = \\frac{x'_t y''_{tt}-x''_{tt}y'_t}{(x'_t)^3}  = \\frac{\\varphi'_t \\psi''_{tt}-\\varphi''_{tt}\\psi'_t}{(\\varphi'_t)^3}\n",
        "$$\n",
        "### Задание 1\n",
        "Найти производные 1 и 2 порядка функции \n",
        "$$\n",
        "\\left\\{\n",
        "\\begin{matrix}\n",
        "x = \\sin(t) - t\\cos(t)\\\\\n",
        "y = \\cos(t) + t\\sin(t)\n",
        "\\end{matrix}\n",
        "\\right.\n",
        "$$"
      ]
    },
    {
      "cell_type": "code",
      "metadata": {
        "colab": {
          "base_uri": "https://localhost:8080/",
          "height": 95
        },
        "id": "PiVvEKnODhN-",
        "outputId": "16f2f898-c775-4426-d485-46c8e8b2d4f8"
      },
      "source": [
        "t = Symbol('t')\r\n",
        "x = Sin(t) - t*Cos(t)\r\n",
        "y = Cos(t) + t*Sin(t)\r\n",
        "\r\n",
        "dx = diff(x, t)\r\n",
        "dy = diff(y, t)\r\n",
        "dy_x = simplify(dy/dx)\r\n",
        "\r\n",
        "dy2_xx = simplify((dx*diff(y, t, 2) - diff(x, t, 2)*dy)/dx**3)\r\n",
        "\r\n",
        "display(dy_x, dy2_xx)"
      ],
      "execution_count": 10,
      "outputs": [
        {
          "output_type": "display_data",
          "data": {
            "text/latex": "$\\displaystyle \\frac{1}{\\tan{\\left(t \\right)}}$",
            "text/plain": [
              "1/tan(t)"
            ]
          },
          "metadata": {
            "tags": []
          }
        },
        {
          "output_type": "display_data",
          "data": {
            "text/latex": "$\\displaystyle - \\frac{1}{t \\sin^{3}{\\left(t \\right)}}$",
            "text/plain": [
              "-1/(t*sin(t)**3)"
            ]
          },
          "metadata": {
            "tags": []
          }
        }
      ]
    },
    {
      "cell_type": "markdown",
      "metadata": {
        "id": "5oTC3JjmDhN_"
      },
      "source": [
        "### Задание 2.\n",
        "Найти нули производных первого и второго порядка, а также точки, в которых эти производные не существуют, для функции\n",
        "$$\n",
        "\\left\\{\n",
        "\\begin{matrix}\n",
        "x = t^2 - 2t\\\\\n",
        "y = t^2 + 2t\n",
        "\\end{matrix}\n",
        "\\right.\n",
        "$$"
      ]
    },
    {
      "cell_type": "code",
      "metadata": {
        "colab": {
          "base_uri": "https://localhost:8080/",
          "height": 248
        },
        "id": "2Jf3FiD1DhN_",
        "outputId": "7f0cf205-9f20-4326-a6df-d79639f7ba7c"
      },
      "source": [
        "x = t**2 - 2*t\r\n",
        "y = t**2 + 2*t\r\n",
        "\r\n",
        "dx = diff(x, t)\r\n",
        "dy = diff(y, t)\r\n",
        "dy_x = simplify(dy/dx)\r\n",
        "dy2_xx = simplify((dx*diff(y, t, 2) - diff(x, t, 2)*dy)/dx**3)\r\n",
        "display(dy_x, dy2_xx)\r\n",
        "\r\n",
        "dy_x_num, dy_x_den = simplify(fraction(dy_x))\r\n",
        "\r\n",
        "dy_x_num_nul = solveset(dy_x_num)\r\n",
        "dy_x_den_nul = solveset(dy_x_den)\r\n",
        "display('Первая производная, нули числителя:', dy_x_num_nul, 'нули знаменателя:', dy_x_den_nul)\r\n",
        "\r\n",
        "dy2_xx_num,dy2_xx_den = fraction(dy2_xx)\r\n",
        "dy2_xx_num_nul = solveset(dy2_xx_num)\r\n",
        "dy2_xx_den_nul = solveset(dy2_xx_den)\r\n",
        "display('Вторая производная, нули числителя:', dy2_xx_num_nul, 'нули знаменателя:', dy2_xx_den_nul)"
      ],
      "execution_count": 12,
      "outputs": [
        {
          "output_type": "display_data",
          "data": {
            "text/latex": "$\\displaystyle \\frac{t + 1}{t - 1}$",
            "text/plain": [
              "(t + 1)/(t - 1)"
            ]
          },
          "metadata": {
            "tags": []
          }
        },
        {
          "output_type": "display_data",
          "data": {
            "text/latex": "$\\displaystyle - \\frac{1}{\\left(t - 1\\right)^{3}}$",
            "text/plain": [
              "-1/(t - 1)**3"
            ]
          },
          "metadata": {
            "tags": []
          }
        },
        {
          "output_type": "display_data",
          "data": {
            "application/vnd.google.colaboratory.intrinsic+json": {
              "type": "string"
            },
            "text/plain": [
              "'Первая производная, нули числителя:'"
            ]
          },
          "metadata": {
            "tags": []
          }
        },
        {
          "output_type": "display_data",
          "data": {
            "text/latex": "$\\displaystyle \\left\\{-1\\right\\}$",
            "text/plain": [
              "FiniteSet(-1)"
            ]
          },
          "metadata": {
            "tags": []
          }
        },
        {
          "output_type": "display_data",
          "data": {
            "application/vnd.google.colaboratory.intrinsic+json": {
              "type": "string"
            },
            "text/plain": [
              "'нули знаменателя:'"
            ]
          },
          "metadata": {
            "tags": []
          }
        },
        {
          "output_type": "display_data",
          "data": {
            "text/latex": "$\\displaystyle \\left\\{1\\right\\}$",
            "text/plain": [
              "FiniteSet(1)"
            ]
          },
          "metadata": {
            "tags": []
          }
        },
        {
          "output_type": "display_data",
          "data": {
            "application/vnd.google.colaboratory.intrinsic+json": {
              "type": "string"
            },
            "text/plain": [
              "'Вторая производная, нули числителя:'"
            ]
          },
          "metadata": {
            "tags": []
          }
        },
        {
          "output_type": "display_data",
          "data": {
            "text/latex": "$\\displaystyle \\emptyset$",
            "text/plain": [
              "EmptySet"
            ]
          },
          "metadata": {
            "tags": []
          }
        },
        {
          "output_type": "display_data",
          "data": {
            "application/vnd.google.colaboratory.intrinsic+json": {
              "type": "string"
            },
            "text/plain": [
              "'нули знаменателя:'"
            ]
          },
          "metadata": {
            "tags": []
          }
        },
        {
          "output_type": "display_data",
          "data": {
            "text/latex": "$\\displaystyle \\left\\{1\\right\\}$",
            "text/plain": [
              "FiniteSet(1)"
            ]
          },
          "metadata": {
            "tags": []
          }
        }
      ]
    },
    {
      "cell_type": "markdown",
      "metadata": {
        "id": "RM6-oWMwDhN_"
      },
      "source": [
        "### Задание 3. \n",
        "Найти точки экстремума и точки перегиба функции Задания 2."
      ]
    },
    {
      "cell_type": "code",
      "metadata": {
        "colab": {
          "base_uri": "https://localhost:8080/",
          "height": 127
        },
        "id": "TQcgRlkpDhOA",
        "outputId": "5f9d9981-dc33-43b7-aa54-9005f5f688e7"
      },
      "source": [
        "def extrem(x, y, step=0.00001):\r\n",
        "  maxi = []\r\n",
        "  mini = []\r\n",
        "\r\n",
        "  dx = diff(x, t)\r\n",
        "  dy = diff(y, t)\r\n",
        "  dy_x = dy/dx\r\n",
        "\r\n",
        "  for ti in list(solveset(dy_x)):\r\n",
        "    leftie = dy_x.subs(t, ti - step)\r\n",
        "    rightie = dy_x.subs(t, ti + step)\r\n",
        "\r\n",
        "    left_side = x.subs(t, ti - step)\r\n",
        "    right_side = x.subs(t, ti + step)\r\n",
        "\r\n",
        "    if ((leftie < 0 and rightie > 0 and left_side < right_side) or (leftie > 0 and rightie < 0 and left_side > right_side)):\r\n",
        "      mini.append(x.subs(t, ti))\r\n",
        "\r\n",
        "    if ((leftie > 0 and rightie < 0 and left_side < right_side) or (leftie < 0 and rightie > 0 and left_side > right_side)):\r\n",
        "      maxi.append(x.subs(t, ti))\r\n",
        "\r\n",
        "  return maxi, mini\r\n",
        "\r\n",
        "def inflect(x, y, step=0.00001):\r\n",
        "  pts = []\r\n",
        "  dx = diff(x, t)\r\n",
        "  dy = diff(y, t)\r\n",
        "  dy_x = dy/dx\r\n",
        "  dy2_x = simplify((dx*diff(y, t, 2) - diff(x, t, 2)*dy)/dx**3)\r\n",
        "\r\n",
        "  for ti in list(solveset(dy2_x)):\r\n",
        "    left_side = dy2_x.subs(t, ti - step)\r\n",
        "    right_side = dy2_x.subs(t, ti + step)\r\n",
        "\r\n",
        "    if left_side != right_side:\r\n",
        "      pts.append(x.subs(t, ti))\r\n",
        "  \r\n",
        "  return pts\r\n",
        "\r\n",
        "\r\n",
        "maxi, mini = extrem(x, y)\r\n",
        "infli = inflect(x, y)\r\n",
        "\r\n",
        "display('Maximum', maxi)\r\n",
        "display('Minimum', mini)\r\n",
        "display('Inflection points', infli)"
      ],
      "execution_count": 5,
      "outputs": [
        {
          "output_type": "display_data",
          "data": {
            "application/vnd.google.colaboratory.intrinsic+json": {
              "type": "string"
            },
            "text/plain": [
              "'Maximum'"
            ]
          },
          "metadata": {
            "tags": []
          }
        },
        {
          "output_type": "display_data",
          "data": {
            "text/plain": [
              "[]"
            ]
          },
          "metadata": {
            "tags": []
          }
        },
        {
          "output_type": "display_data",
          "data": {
            "application/vnd.google.colaboratory.intrinsic+json": {
              "type": "string"
            },
            "text/plain": [
              "'Minimum'"
            ]
          },
          "metadata": {
            "tags": []
          }
        },
        {
          "output_type": "display_data",
          "data": {
            "text/plain": [
              "[3]"
            ]
          },
          "metadata": {
            "tags": []
          }
        },
        {
          "output_type": "display_data",
          "data": {
            "application/vnd.google.colaboratory.intrinsic+json": {
              "type": "string"
            },
            "text/plain": [
              "'Inflection points'"
            ]
          },
          "metadata": {
            "tags": []
          }
        },
        {
          "output_type": "display_data",
          "data": {
            "text/plain": [
              "[]"
            ]
          },
          "metadata": {
            "tags": []
          }
        }
      ]
    },
    {
      "cell_type": "markdown",
      "metadata": {
        "id": "wckBaFwRDhOA"
      },
      "source": [
        "### Задание 4. Точки перегиба\n",
        "Найти точки перегиба функции, график строить не нужно. \n",
        "$$\n",
        "\\left\\{\n",
        "\\begin{matrix}\n",
        "x = e^t\\\\\n",
        "y = te^{2t}\n",
        "\\end{matrix}\n",
        "\\right.\n",
        "$$"
      ]
    },
    {
      "cell_type": "code",
      "metadata": {
        "id": "1l8AVgwIDhOA",
        "colab": {
          "base_uri": "https://localhost:8080/",
          "height": 54
        },
        "outputId": "81b5711f-4989-4042-de21-37ce6f3c3c5d"
      },
      "source": [
        "x = sympy.exp(t)\r\n",
        "y = t * sympy.exp(2 * t)\r\n",
        "\r\n",
        "display('Inflection points', inflect(x, y))"
      ],
      "execution_count": 8,
      "outputs": [
        {
          "output_type": "display_data",
          "data": {
            "application/vnd.google.colaboratory.intrinsic+json": {
              "type": "string"
            },
            "text/plain": [
              "'Inflection points'"
            ]
          },
          "metadata": {
            "tags": []
          }
        },
        {
          "output_type": "display_data",
          "data": {
            "text/plain": [
              "[exp(-3/2)]"
            ]
          },
          "metadata": {
            "tags": []
          }
        }
      ]
    },
    {
      "cell_type": "markdown",
      "metadata": {
        "id": "HsqjanY2DhOA"
      },
      "source": [
        "## Асимптоты параметрически заданной функции\n",
        "Пусть зависимость $y$ от $x$ задана параметрически:\n",
        "$$\n",
        "\\left\\{\n",
        "\\begin{matrix}\n",
        "x = \\varphi(t)\\\\\n",
        "y = \\psi(t)\n",
        "\\end{matrix}\n",
        "\\right.\n",
        "$$\n",
        "Сначала нужно определить, нет ли таких значений параметра $t$, при которых одна из функций $\\varphi(t)$ или $\\psi(t)$ обращается в бесконечность, а другая остается конечной. При $\\varphi(t_0) = \\infty$, а $\\psi(t_0) = c$ кривая имеет горизонтальную асимптоту  $y = c$. При  $\\psi(t_0) = \\infty$, а $\\varphi(t_0) = c$ кривая имеет вертикальную асимптоту $x = c$. \n",
        "\n",
        "Если $\\varphi(t_0) = \\psi(t_0) = \\infty$ и \n",
        "$$\n",
        "\\lim_{t\\to t_0} \\frac{\\psi(t)}{\\varphi(t)} = k;\\qquad \\lim_{t\\to t_0} [\\psi(t) - k\\varphi(t)] = b,\n",
        "$$\n",
        "то   кривая имеет наклонную асимптоту  $y = kx + b$. \n",
        "\n",
        "### Индивидуальное задание.\n",
        "Найти асимптоты параметрически заданной функции и изобразить на графике функцию и ее асимптоты."
      ]
    },
    {
      "cell_type": "markdown",
      "metadata": {
        "id": "rIBIeM6lXeJw"
      },
      "source": [
        "Вариант 4\r\n",
        "\r\n",
        "Найти асимптоты функции, заданной параметрически, изобразить на графике функцию и ее асимптоты разными цветами.\r\n",
        "\r\n",
        "$x = \\sqrt{4 t + 6}$\r\n",
        "\r\n",
        "$y = 2 + 3 / t$"
      ]
    },
    {
      "cell_type": "code",
      "metadata": {
        "id": "txQrvxgwDhOB",
        "colab": {
          "base_uri": "https://localhost:8080/",
          "height": 305
        },
        "outputId": "76edd41c-f0eb-469e-af61-9c166b2e57a6"
      },
      "source": [
        "x = sympy.sqrt(4 * t + 6)\r\n",
        "y = 2 + 3 / t\r\n",
        "\r\n",
        "# t -> oo\r\n",
        "k1 = limit(y / x, t, sympy.oo)\r\n",
        "b1 = limit(y - k1 * x, t, sympy.oo)\r\n",
        "\r\n",
        "print('y =', b1) # horizontal assymp.\r\n",
        "\r\n",
        "b2 = limit(x, t, 0) # vertical assymp.\r\n",
        "print('x =', b2)\r\n",
        "\r\n",
        "import matplotlib.pyplot as plt\r\n",
        "\r\n",
        "T1 = np.linspace(-10, -0.1, 100)\r\n",
        "T2 = np.linspace(0.1, 10, 100)\r\n",
        "for T in [T1, T2]:\r\n",
        "  plt.plot(1/T, np.exp(T), color='green')\r\n",
        "\r\n",
        "plt.axhline(y=1, color='black', linestyle='--')\r\n",
        "plt.axvline(x=0, color='red', linestyle='--')\r\n",
        "plt.ylim(-0.5, 5)\r\n",
        "\r\n",
        "plt.show()"
      ],
      "execution_count": 68,
      "outputs": [
        {
          "output_type": "stream",
          "text": [
            "y = 2\n",
            "x = sqrt(6)\n"
          ],
          "name": "stdout"
        },
        {
          "output_type": "display_data",
          "data": {
            "image/png": "[encoded data removed]",
            "text/plain": [
              "<Figure size 432x288 with 1 Axes>"
            ]
          },
          "metadata": {
            "tags": [],
            "needs_background": "light"
          }
        }
      ]
    },
    {
      "cell_type": "code",
      "metadata": {
        "id": "GOd5K6ZxYJDV"
      },
      "source": [
        ""
      ],
      "execution_count": null,
      "outputs": []
    }
  ]
}