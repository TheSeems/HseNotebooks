{
  "nbformat": 4,
  "nbformat_minor": 0,
  "metadata": {
    "kernelspec": {
      "display_name": "Python 3",
      "language": "python",
      "name": "python3"
    },
    "language_info": {
      "codemirror_mode": {
        "name": "ipython",
        "version": 3
      },
      "file_extension": ".py",
      "mimetype": "text/x-python",
      "name": "python",
      "nbconvert_exporter": "python",
      "pygments_lexer": "ipython3",
      "version": "3.7.3"
    },
    "colab": {
      "name": "Akhundov_calculus_8_2020_tasks.ipynb",
      "provenance": [],
      "collapsed_sections": [],
      "include_colab_link": true
    }
  },
  "cells": [
    {
      "cell_type": "markdown",
      "metadata": {
        "id": "view-in-github",
        "colab_type": "text"
      },
      "source": [
        "<a href=\"https://colab.research.google.com/github/TheSeems/HseNotebooks/blob/main/Akhundov_calculus_8_2020_tasks.ipynb\" target=\"_parent\"><img src=\"https://colab.research.google.com/assets/colab-badge.svg\" alt=\"Open In Colab\"/></a>"
      ]
    },
    {
      "cell_type": "code",
      "metadata": {
        "id": "z-WLSGSfDhN7"
      },
      "source": [
        "import numpy as np\n",
        "import matplotlib.pyplot as plt\n",
        "import sympy\n",
        "from sympy import Symbol, diff, solve, nsolve, solveset, latex, S, simplify, fraction, Union, Interval, intersection, limit\n",
        "from sympy.calculus.util import continuous_domain\n",
        "from sympy import sin as Sin\n",
        "from sympy import cos as Cos\n",
        "from sympy import pi as Pi\n",
        "%matplotlib inline"
      ],
      "execution_count": null,
      "outputs": []
    },
    {
      "cell_type": "markdown",
      "metadata": {
        "id": "efdcIwBhDhN-"
      },
      "source": [
        "## Занятие 8\n",
        "## Математический анализ\n",
        "## Дифференцирование функции, заданной параметрически\n",
        "Пусть зависимость $y$ от $x$ задана параметрически:\n",
        "$$\n",
        "\\left\\{\n",
        "\\begin{matrix}\n",
        "x = \\varphi(t)\\\\\n",
        "y = \\psi(t)\n",
        "\\end{matrix}\n",
        "\\right.\n",
        "$$\n",
        "тогда производная $y$ по $x$  находится по формуле\n",
        "$$\n",
        "y'_x = \\frac{y'_t}{x'_t} = \\frac{\\psi'_t}{\\varphi'_t}\n",
        "$$\n",
        "Вторая производная:\n",
        "$$\n",
        "y''_{xx} = \\frac{x'_t y''_{tt}-x''_{tt}y'_t}{(x'_t)^3}  = \\frac{\\varphi'_t \\psi''_{tt}-\\varphi''_{tt}\\psi'_t}{(\\varphi'_t)^3}\n",
        "$$\n",
        "### Задание 1\n",
        "Найти производные 1 и 2 порядка функции \n",
        "$$\n",
        "\\left\\{\n",
        "\\begin{matrix}\n",
        "x = \\sin(t) - t\\cos(t)\\\\\n",
        "y = \\cos(t) + t\\sin(t)\n",
        "\\end{matrix}\n",
        "\\right.\n",
        "$$"
      ]
    },
    {
      "cell_type": "code",
      "metadata": {
        "colab": {
          "base_uri": "https://localhost:8080/",
          "height": 97
        },
        "id": "PiVvEKnODhN-",
        "outputId": "353e58c4-9ba0-48f4-8272-f06f34999ef3"
      },
      "source": [
        "t = Symbol('t')\r\n",
        "x = Sin(t) - t*Cos(t)\r\n",
        "y = Cos(t) + t*Sin(t)\r\n",
        "\r\n",
        "dx = diff(x, t)\r\n",
        "dy = diff(y, t)\r\n",
        "dy_x = dy/dx\r\n",
        "\r\n",
        "dy2_xx = (dx*diff(y, t, 2) - diff(x, t, 2)*dy)/dx**3\r\n",
        "dy2_xx = simplify(dy2_xx)\r\n",
        "\r\n",
        "display(dy_x, dy2_xx)"
      ],
      "execution_count": null,
      "outputs": [
        {
          "output_type": "display_data",
          "data": {
            "text/latex": "$\\displaystyle \\frac{\\cos{\\left(t \\right)}}{\\sin{\\left(t \\right)}}$",
            "text/plain": [
              "cos(t)/sin(t)"
            ]
          },
          "metadata": {
            "tags": []
          }
        },
        {
          "output_type": "display_data",
          "data": {
            "text/latex": "$\\displaystyle - \\frac{1}{t \\sin^{3}{\\left(t \\right)}}$",
            "text/plain": [
              "-1/(t*sin(t)**3)"
            ]
          },
          "metadata": {
            "tags": []
          }
        }
      ]
    },
    {
      "cell_type": "markdown",
      "metadata": {
        "id": "5oTC3JjmDhN_"
      },
      "source": [
        "### Задание 2.\n",
        "Найти нули производных первого и второго порядка, а также точки, в которых эти производные не существуют, для функции\n",
        "$$\n",
        "\\left\\{\n",
        "\\begin{matrix}\n",
        "x = t^2 - 2t\\\\\n",
        "y = t^2 + 2t\n",
        "\\end{matrix}\n",
        "\\right.\n",
        "$$"
      ]
    },
    {
      "cell_type": "code",
      "metadata": {
        "colab": {
          "base_uri": "https://localhost:8080/",
          "height": 248
        },
        "id": "2Jf3FiD1DhN_",
        "outputId": "46ae7378-5413-4cf8-c1c7-490b879e9114"
      },
      "source": [
        "x = t**2 - 2*t\r\n",
        "y = t**2 + 2*t\r\n",
        "\r\n",
        "dx = diff(x, t)\r\n",
        "dy = diff(y, t)\r\n",
        "dy_x = dy/dx\r\n",
        "dy2_xx = simplify((dx*diff(y, t, 2) - diff(x, t, 2)*dy)/dx**3)\r\n",
        "display(dy_x, dy2_xx)\r\n",
        "\r\n",
        "dy_x_num, dy_x_den = fraction(dy_x)\r\n",
        "\r\n",
        "dy_x_num_nul = solveset(dy_x_num)\r\n",
        "dy_x_den_nul = solveset(dy_x_den)\r\n",
        "display('Первая производная, нули числителя:', dy_x_num_nul, 'нули знаменателя:', dy_x_den_nul)\r\n",
        "\r\n",
        "dy2_xx_num,dy2_xx_den = fraction(dy2_xx)\r\n",
        "dy2_xx_num_nul = solveset(dy2_xx_num)\r\n",
        "dy2_xx_den_nul = solveset(dy2_xx_den)\r\n",
        "display('Вторая производная, нули числителя:', dy2_xx_num_nul, 'нули знаменателя:', dy2_xx_den_nul)"
      ],
      "execution_count": null,
      "outputs": [
        {
          "output_type": "display_data",
          "data": {
            "text/latex": "$\\displaystyle \\frac{2 t + 2}{2 t - 2}$",
            "text/plain": [
              "(2*t + 2)/(2*t - 2)"
            ]
          },
          "metadata": {
            "tags": []
          }
        },
        {
          "output_type": "display_data",
          "data": {
            "text/latex": "$\\displaystyle - \\frac{1}{\\left(t - 1\\right)^{3}}$",
            "text/plain": [
              "-1/(t - 1)**3"
            ]
          },
          "metadata": {
            "tags": []
          }
        },
        {
          "output_type": "display_data",
          "data": {
            "application/vnd.google.colaboratory.intrinsic+json": {
              "type": "string"
            },
            "text/plain": [
              "'Первая производная, нули числителя:'"
            ]
          },
          "metadata": {
            "tags": []
          }
        },
        {
          "output_type": "display_data",
          "data": {
            "text/latex": "$\\displaystyle \\left\\{-1\\right\\}$",
            "text/plain": [
              "FiniteSet(-1)"
            ]
          },
          "metadata": {
            "tags": []
          }
        },
        {
          "output_type": "display_data",
          "data": {
            "application/vnd.google.colaboratory.intrinsic+json": {
              "type": "string"
            },
            "text/plain": [
              "'нули знаменателя:'"
            ]
          },
          "metadata": {
            "tags": []
          }
        },
        {
          "output_type": "display_data",
          "data": {
            "text/latex": "$\\displaystyle \\left\\{1\\right\\}$",
            "text/plain": [
              "FiniteSet(1)"
            ]
          },
          "metadata": {
            "tags": []
          }
        },
        {
          "output_type": "display_data",
          "data": {
            "application/vnd.google.colaboratory.intrinsic+json": {
              "type": "string"
            },
            "text/plain": [
              "'Вторая производная, нули числителя:'"
            ]
          },
          "metadata": {
            "tags": []
          }
        },
        {
          "output_type": "display_data",
          "data": {
            "text/latex": "$\\displaystyle \\emptyset$",
            "text/plain": [
              "EmptySet"
            ]
          },
          "metadata": {
            "tags": []
          }
        },
        {
          "output_type": "display_data",
          "data": {
            "application/vnd.google.colaboratory.intrinsic+json": {
              "type": "string"
            },
            "text/plain": [
              "'нули знаменателя:'"
            ]
          },
          "metadata": {
            "tags": []
          }
        },
        {
          "output_type": "display_data",
          "data": {
            "text/latex": "$\\displaystyle \\left\\{1\\right\\}$",
            "text/plain": [
              "FiniteSet(1)"
            ]
          },
          "metadata": {
            "tags": []
          }
        }
      ]
    },
    {
      "cell_type": "markdown",
      "metadata": {
        "id": "RM6-oWMwDhN_"
      },
      "source": [
        "### Задание 3. \n",
        "Найти точки экстремума и точки перегиба функции Задания 2."
      ]
    },
    {
      "cell_type": "code",
      "metadata": {
        "colab": {
          "base_uri": "https://localhost:8080/",
          "height": 182
        },
        "id": "TQcgRlkpDhOA",
        "outputId": "61f8d4c2-feac-42ad-ae78-d4b538ed88fc"
      },
      "source": [
        "crit_points = Union(dy_x_num_nul, dy_x_den_nul)\r\n",
        "crit_points_interval = list(crit_points)\r\n",
        "crit_points_interval.sort()\r\n",
        "display(crit_points_interval)\r\n",
        "\r\n",
        "points = [-1.5, 0.3, 0.5, 1.5]\r\n",
        "display(points)\r\n",
        "\r\n",
        "max_arr=[]\r\n",
        "min_arr=[]\r\n",
        "for i, item in enumerate(crit_points_interval):\r\n",
        "  if item in dy_x_num_nul:\r\n",
        "    df_left = dy_x.subs(t, points[i])\r\n",
        "    df_right = dy_x.subs(t, points[i + 1])\r\n",
        "    x_left = float(x.subs(t, points[i]))\r\n",
        "    x_right = float(x.subs(t, points[i + 1]))\r\n",
        "    if df_left < 0 and df_right > 0 and x_left < x_right or df_left >= 0 and df_right < 0 and x_left > x_right:\r\n",
        "      min_arr.append(item)\r\n",
        "    elif df_left < 0 and df_right > 0 and x_left > x_right or df_left > 0 and df_right < 0 and x_left < x_right:\r\n",
        "      max_arr.append(item)\r\n",
        "\r\n",
        "display('максимум', max_arr, 'минимум', min_arr)\r\n",
        "dy2_xx_points = list((dy2_xx_num_nul.union(dy2_xx_den_nul)))\r\n",
        "dy2_xx_points.sort()\r\n",
        "\r\n",
        "inflection = []\r\n",
        "for i, item in enumerate(dy2_xx_points):\r\n",
        "  if points[i] < points[i + 1]:\r\n",
        "    points[i], points[i + 1] = points[i + 1], points[i]\r\n",
        "  df_left = dy2_xx.subs(t, points[i])\r\n",
        "  df_right = dy2_xx.subs(t, points[i + 1])\r\n",
        "  print(item, df_left, df_right, ' so ', points[i], points[i + 1])\r\n",
        "  if df_left * df_right < 0:\r\n",
        "    inflection.append(item)\r\n",
        "\r\n",
        "display('перегиб', inflection)"
      ],
      "execution_count": 65,
      "outputs": [
        {
          "output_type": "display_data",
          "data": {
            "text/plain": [
              "[-1, 1]"
            ]
          },
          "metadata": {
            "tags": []
          }
        },
        {
          "output_type": "display_data",
          "data": {
            "text/plain": [
              "[-1.5, 0.3, 0.5, 1.5]"
            ]
          },
          "metadata": {
            "tags": []
          }
        },
        {
          "output_type": "display_data",
          "data": {
            "application/vnd.google.colaboratory.intrinsic+json": {
              "type": "string"
            },
            "text/plain": [
              "'максимум'"
            ]
          },
          "metadata": {
            "tags": []
          }
        },
        {
          "output_type": "display_data",
          "data": {
            "text/plain": [
              "[]"
            ]
          },
          "metadata": {
            "tags": []
          }
        },
        {
          "output_type": "display_data",
          "data": {
            "application/vnd.google.colaboratory.intrinsic+json": {
              "type": "string"
            },
            "text/plain": [
              "'минимум'"
            ]
          },
          "metadata": {
            "tags": []
          }
        },
        {
          "output_type": "display_data",
          "data": {
            "text/plain": [
              "[-1]"
            ]
          },
          "metadata": {
            "tags": []
          }
        },
        {
          "output_type": "stream",
          "text": [
            "1 2.91545189504373 0.0640000000000000  so  0.3 -1.5\n"
          ],
          "name": "stdout"
        },
        {
          "output_type": "display_data",
          "data": {
            "application/vnd.google.colaboratory.intrinsic+json": {
              "type": "string"
            },
            "text/plain": [
              "'перегиб'"
            ]
          },
          "metadata": {
            "tags": []
          }
        },
        {
          "output_type": "display_data",
          "data": {
            "text/plain": [
              "[]"
            ]
          },
          "metadata": {
            "tags": []
          }
        }
      ]
    },
    {
      "cell_type": "markdown",
      "metadata": {
        "id": "wckBaFwRDhOA"
      },
      "source": [
        "### Задание 4. Точки перегиба\n",
        "Найти точки перегиба функции, график строить не нужно. \n",
        "$$\n",
        "\\left\\{\n",
        "\\begin{matrix}\n",
        "x = e^t\\\\\n",
        "y = te^{2t}\n",
        "\\end{matrix}\n",
        "\\right.\n",
        "$$"
      ]
    },
    {
      "cell_type": "code",
      "metadata": {
        "id": "1l8AVgwIDhOA"
      },
      "source": [
        ""
      ],
      "execution_count": null,
      "outputs": []
    },
    {
      "cell_type": "markdown",
      "metadata": {
        "id": "HsqjanY2DhOA"
      },
      "source": [
        "## Асимптоты параметрически заданной функции\n",
        "Пусть зависимость $y$ от $x$ задана параметрически:\n",
        "$$\n",
        "\\left\\{\n",
        "\\begin{matrix}\n",
        "x = \\varphi(t)\\\\\n",
        "y = \\psi(t)\n",
        "\\end{matrix}\n",
        "\\right.\n",
        "$$\n",
        "Сначала нужно определить, нет ли таких значений параметра $t$, при которых одна из функций $\\varphi(t)$ или $\\psi(t)$ обращается в бесконечность, а другая остается конечной. При $\\varphi(t_0) = \\infty$, а $\\psi(t_0) = c$ кривая имеет горизонтальную асимптоту  $y = c$. При  $\\psi(t_0) = \\infty$, а $\\varphi(t_0) = c$ кривая имеет вертикальную асимптоту $x = c$. \n",
        "\n",
        "Если $\\varphi(t_0) = \\psi(t_0) = \\infty$ и \n",
        "$$\n",
        "\\lim_{t\\to t_0} \\frac{\\psi(t)}{\\varphi(t)} = k;\\qquad \\lim_{t\\to t_0} [\\psi(t) - k\\varphi(t)] = b,\n",
        "$$\n",
        "то   кривая имеет наклонную асимптоту  $y = kx + b$. \n",
        "\n",
        "### Индивидуальное задание.\n",
        "Найти асимптоты параметрически заданной функции и изобразить на графике функцию и ее асимптоты."
      ]
    },
    {
      "cell_type": "code",
      "metadata": {
        "id": "txQrvxgwDhOB"
      },
      "source": [
        ""
      ],
      "execution_count": null,
      "outputs": []
    }
  ]
}