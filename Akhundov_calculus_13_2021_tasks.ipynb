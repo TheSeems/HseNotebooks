{
  "nbformat": 4,
  "nbformat_minor": 0,
  "metadata": {
    "kernelspec": {
      "display_name": "Python 3",
      "language": "python",
      "name": "python3"
    },
    "language_info": {
      "codemirror_mode": {
        "name": "ipython",
        "version": 3
      },
      "file_extension": ".py",
      "mimetype": "text/x-python",
      "name": "python",
      "nbconvert_exporter": "python",
      "pygments_lexer": "ipython3",
      "version": "3.7.3"
    },
    "colab": {
      "name": "Akhundov_calculus_13_2021_tasks.ipynb",
      "provenance": [],
      "collapsed_sections": [],
      "include_colab_link": true
    }
  },
  "cells": [
    {
      "cell_type": "markdown",
      "metadata": {
        "id": "view-in-github",
        "colab_type": "text"
      },
      "source": [
        "<a href=\"https://colab.research.google.com/github/TheSeems/HseNotebooks/blob/main/Akhundov_calculus_13_2021_tasks.ipynb\" target=\"_parent\"><img src=\"https://colab.research.google.com/assets/colab-badge.svg\" alt=\"Open In Colab\"/></a>"
      ]
    },
    {
      "cell_type": "code",
      "metadata": {
        "id": "AFN3iDOMoiMY"
      },
      "source": [
        "import numpy as np\n",
        "import sympy\n",
        "from sympy import S, Symbol, symbols, simplify, solve, solveset, diff, plot, plot_parametric, plot_implicit, latex, Integral\n",
        "from sympy import sin as Sin\n",
        "from sympy import cos as Cos\n",
        "from sympy import exp as Exp\n",
        "from sympy import log as Log\n",
        "from sympy import pi as Pi\n",
        "import matplotlib.pyplot as plt\n",
        "%matplotlib inline"
      ],
      "execution_count": 1,
      "outputs": []
    },
    {
      "cell_type": "markdown",
      "metadata": {
        "id": "LEgQGymUoiMf"
      },
      "source": [
        "## Занятие 13\n",
        "## Математический анализ\n",
        "## Применение интегралов для вычисления площади поверхности тела вращения\n",
        "### Задание 1.\n",
        "Вычислить площадь поверхности, которая образуется в результате вращения $y = \\sqrt{x}$ вокруг оси OX при $x$ от 0 до 1."
      ]
    },
    {
      "cell_type": "code",
      "metadata": {
        "colab": {
          "base_uri": "https://localhost:8080/",
          "height": 400
        },
        "id": "6JUKpuX4oiMg",
        "outputId": "be504c6e-cf64-4602-e6d9-a5cea55253c7"
      },
      "source": [
        "x = Symbol('x', positive=True)\n",
        "y = Symbol('y')\n",
        "\n",
        "Eq1 = sympy.Eq(y, sympy.sqrt(x))\n",
        "plot_implicit(Eq1, (x, 0, 1), (y, 0, 1))\n",
        "\n",
        "S_OX1 = 2*Pi*Integral(sympy.sqrt(x)*(1 + sympy.sqrt(x).diff(x)**2)**S.Half, (x, 0, 1))\n",
        "res1 = S_OX1.doit()\n",
        "display(S_OX1, res1.simplify())\n"
      ],
      "execution_count": 2,
      "outputs": [
        {
          "output_type": "display_data",
          "data": {
            "image/png": "[encoded data removed]",
            "text/plain": [
              "<Figure size 432x288 with 1 Axes>"
            ]
          },
          "metadata": {
            "tags": [],
            "needs_background": "light"
          }
        },
        {
          "output_type": "display_data",
          "data": {
            "text/latex": "$\\displaystyle 2 \\pi \\int\\limits_{0}^{1} \\sqrt{x} \\sqrt{1 + \\frac{1}{4 x}}\\, dx$",
            "text/plain": [
              "2*pi*Integral(sqrt(x)*sqrt(1 + 1/(4*x)), (x, 0, 1))"
            ]
          },
          "metadata": {
            "tags": []
          }
        },
        {
          "output_type": "display_data",
          "data": {
            "text/latex": "$\\displaystyle \\frac{\\pi \\left(-1 + 5 \\sqrt{5}\\right)}{6}$",
            "text/plain": [
              "pi*(-1 + 5*sqrt(5))/6"
            ]
          },
          "metadata": {
            "tags": []
          }
        }
      ]
    },
    {
      "cell_type": "markdown",
      "metadata": {
        "id": "9tusUHBgoiMg"
      },
      "source": [
        "###  Задание 2.\n",
        "Вычислить площадь поверхности веретена, которое образуется в результате вращения одной полуволны синусоиды $y = \\sin x$ вокруг оси OX.\n",
        "#### Указание.\n",
        "\n",
        "Для вычисления интеграла воспользоваться заменой переменных $t = \\cos(x)$, для проведения замены пользоваться методом transform класса Integral. Также воспользоваться simplify при необходимости."
      ]
    },
    {
      "cell_type": "code",
      "metadata": {
        "colab": {
          "base_uri": "https://localhost:8080/",
          "height": 472
        },
        "id": "6eaTrHkKoiMg",
        "outputId": "399677e1-c35c-4f30-d1ea-b6850eb9390a"
      },
      "source": [
        "x, y, t = symbols('x y t')\n",
        "Eq2 = sympy.Eq(y, sympy.sin(x))\n",
        "\n",
        "\n",
        "plot_implicit(Eq2, (x, 0, 2 * Pi), (y, -1, 1))\n",
        "\n",
        "\n",
        "S_OX2 = Integral(2*Pi*sympy.sin(x)*(1 + sympy.sin(x).diff(x)**2)**S.Half, (x, 0, Pi))\n",
        "display(S_OX2)\n",
        "\n",
        "S_OX2 = S_OX2.transform(sympy.cos(x), t)\n",
        "display(S_OX2)\n",
        "\n",
        "res2 = S_OX2.doit()\n",
        "display(res2.simplify())"
      ],
      "execution_count": 3,
      "outputs": [
        {
          "output_type": "display_data",
          "data": {
            "image/png": "[encoded data removed]",
            "text/plain": [
              "<Figure size 432x288 with 1 Axes>"
            ]
          },
          "metadata": {
            "tags": [],
            "needs_background": "light"
          }
        },
        {
          "output_type": "display_data",
          "data": {
            "text/latex": "$\\displaystyle \\int\\limits_{0}^{\\pi} 2 \\pi \\sqrt{\\cos^{2}{\\left(x \\right)} + 1} \\sin{\\left(x \\right)}\\, dx$",
            "text/plain": [
              "Integral(2*pi*sqrt(cos(x)**2 + 1)*sin(x), (x, 0, pi))"
            ]
          },
          "metadata": {
            "tags": []
          }
        },
        {
          "output_type": "display_data",
          "data": {
            "text/latex": "$\\displaystyle \\int\\limits_{-1}^{1} 2 \\pi \\sqrt{t^{2} + 1}\\, dt$",
            "text/plain": [
              "Integral(2*pi*sqrt(t**2 + 1), (t, -1, 1))"
            ]
          },
          "metadata": {
            "tags": []
          }
        },
        {
          "output_type": "display_data",
          "data": {
            "text/latex": "$\\displaystyle \\pi \\left(\\log{\\left(\\frac{1 + \\sqrt{2}}{-1 + \\sqrt{2}} \\right)} + 2 \\sqrt{2}\\right)$",
            "text/plain": [
              "pi*(log((1 + sqrt(2))/(-1 + sqrt(2))) + 2*sqrt(2))"
            ]
          },
          "metadata": {
            "tags": []
          }
        }
      ]
    },
    {
      "cell_type": "markdown",
      "metadata": {
        "id": "ot8jvKQroiMg"
      },
      "source": [
        "###  Задание 3.\n",
        "Вычислить площадь поверхности образованной вращением вокруг ОХ кардиоиды \n",
        "$$\n",
        "\\left\\{\n",
        "\\begin{matrix}\n",
        "x=a(2\\cos t-\\cos 2t)\\\\\n",
        "y=a(2\\sin t-\\sin 2t)\n",
        "\\end{matrix}\n",
        "\\right.\n",
        "$$\n",
        "Для облегчения расчетов упростить подынтегральную функцию с помощью simplify."
      ]
    },
    {
      "cell_type": "code",
      "metadata": {
        "colab": {
          "base_uri": "https://localhost:8080/",
          "height": 418
        },
        "id": "40BtGpCFoiMh",
        "outputId": "5c088191-6250-4ed1-dfb8-3b2757bc5d8b"
      },
      "source": [
        "t = Symbol('t')\n",
        "a = Symbol('a', positive=True)\n",
        "\n",
        "x2 = a*(2*Cos(t) - Cos(2*t))\n",
        "y2 = a*(2*Sin(t) - Sin(2*t))\n",
        "plot_parametric(x2.subs(a, 1), y2.subs(a, 1), (t, 0, 2*Pi))\n",
        "\n",
        "under = 2*Pi*(y2*(x2.diff(t)**2 + y2.diff(t)**2)**S.Half).simplify()\n",
        "under = under.simplify()\n",
        "display(under)\n",
        "\n",
        "S_OX2 = Integral(under, (t, 0, Pi))\n",
        "display(S_OX2, S_OX2.doit().simplify())"
      ],
      "execution_count": 4,
      "outputs": [
        {
          "output_type": "display_data",
          "data": {
            "image/png": "[encoded data removed]",
            "text/plain": [
              "<Figure size 432x288 with 1 Axes>"
            ]
          },
          "metadata": {
            "tags": [],
            "needs_background": "light"
          }
        },
        {
          "output_type": "display_data",
          "data": {
            "text/latex": "$\\displaystyle 4 \\pi a^{2} \\sqrt{2 - 2 \\cos{\\left(t \\right)}} \\left(2 \\sin{\\left(t \\right)} - \\sin{\\left(2 t \\right)}\\right)$",
            "text/plain": [
              "4*pi*a**2*sqrt(2 - 2*cos(t))*(2*sin(t) - sin(2*t))"
            ]
          },
          "metadata": {
            "tags": []
          }
        },
        {
          "output_type": "display_data",
          "data": {
            "text/latex": "$\\displaystyle \\int\\limits_{0}^{\\pi} 4 \\pi a^{2} \\sqrt{2 - 2 \\cos{\\left(t \\right)}} \\left(2 \\sin{\\left(t \\right)} - \\sin{\\left(2 t \\right)}\\right)\\, dt$",
            "text/plain": [
              "Integral(4*pi*a**2*sqrt(2 - 2*cos(t))*(2*sin(t) - sin(2*t)), (t, 0, pi))"
            ]
          },
          "metadata": {
            "tags": []
          }
        },
        {
          "output_type": "display_data",
          "data": {
            "text/latex": "$\\displaystyle \\frac{128 \\pi a^{2}}{5}$",
            "text/plain": [
              "128*pi*a**2/5"
            ]
          },
          "metadata": {
            "tags": []
          }
        }
      ]
    },
    {
      "cell_type": "markdown",
      "metadata": {
        "id": "6vTnqcBXoiMh"
      },
      "source": [
        "### Задание 4.\n",
        "Вычислить площадь поверхности образованной вращением лемнискаты $r^2=a^2\\cos2\\phi$ вокруг полярной оси.\n",
        "\n",
        "#### Указание.\n",
        "Построить график, определить пределы интегрирования.\n",
        "Упростить подынтегральную функцию с помощью simplify, затем с помощью display вывести полученный интерал. Замечая, что подынтегральное выражение можно упростить, если сократить, не обращать внимание, что $\\cos(2\\phi) = 0$ в $\\pi/4$, вручную составить интеграл для окончательного расчета. "
      ]
    },
    {
      "cell_type": "code",
      "metadata": {
        "colab": {
          "base_uri": "https://localhost:8080/",
          "height": 120
        },
        "id": "RAuIN7RSoiMh",
        "outputId": "31911811-15da-4532-d6d6-eea67a9de86d"
      },
      "source": [
        "phi = Symbol('phi')\n",
        "a = Symbol('a', positive=True)\n",
        "\n",
        "r = a * sympy.sqrt(sympy.cos(2 * phi))\n",
        "\n",
        "under = 2*Pi*r*Sin(phi)*(r**2 + r.diff(phi)**2)**S.Half\n",
        "under = under.simplify()\n",
        "display(under)\n",
        "\n",
        "S_p = Integral(under, (phi, 0, Pi / 4))\n",
        "Integ = Integral(sympy.sin(phi), (phi, 0, Pi / 4))\n",
        "\n",
        "Square = 4 * a**2 * Pi * Integ.doit()\n",
        "display(Square)"
      ],
      "execution_count": 10,
      "outputs": [
        {
          "output_type": "display_data",
          "data": {
            "text/latex": "$\\displaystyle 2 \\pi a^{2} \\sqrt{\\frac{1}{\\cos{\\left(2 \\phi \\right)}}} \\sin{\\left(\\phi \\right)} \\sqrt{\\cos{\\left(2 \\phi \\right)}}$",
            "text/plain": [
              "2*pi*a**2*sqrt(1/cos(2*phi))*sin(phi)*sqrt(cos(2*phi))"
            ]
          },
          "metadata": {
            "tags": []
          }
        },
        {
          "output_type": "display_data",
          "data": {
            "text/latex": "$\\displaystyle 4 \\pi a^{2} \\left(1 - \\frac{\\sqrt{2}}{2}\\right)$",
            "text/plain": [
              "4*pi*a**2*(1 - sqrt(2)/2)"
            ]
          },
          "metadata": {
            "tags": []
          }
        }
      ]
    },
    {
      "cell_type": "markdown",
      "metadata": {
        "id": "C9LkYfvwoiMi"
      },
      "source": [
        "### Индивидуальное задание \n",
        "Найти площадь поверхности, образованной вращением $y = f(x)$ около оси OX.\n",
        "\n",
        "$$\n",
        "y = \\sin\\left(\\cfrac{3x}{2}\\right), \\ \\ \\ x = 0, \\ x = \\cfrac{\\pi}{2}\n",
        "$$"
      ]
    },
    {
      "cell_type": "code",
      "metadata": {
        "colab": {
          "base_uri": "https://localhost:8080/",
          "height": 382
        },
        "id": "KPP7Qpw8oiMi",
        "outputId": "a7602f3f-2be4-4444-eb0e-570ea1421e75"
      },
      "source": [
        "x = Symbol('x', positive=True)\n",
        "Eq1 = sympy.Eq(y, sympy.sin(S(3) * x / 2))\n",
        "plot_implicit(Eq1, (x, 0, Pi / 2), (y, -1, 1))\n",
        "\n",
        "under = sympy.sin(S(3) * x / 2)*(1 + sympy.sin(S(3) * x / 2).diff(x)**2)**S.Half\n",
        "under = under.simplify()\n",
        "under = sympy.trigsimp(under)\n",
        "intee = Integral(2 * Pi * under, (x, 0, Pi / 2))\n",
        "\n",
        "display(intee.doit())\n",
        "display(intee.evalf())"
      ],
      "execution_count": 49,
      "outputs": [
        {
          "output_type": "display_data",
          "data": {
            "image/png": "[encoded data removed]",
            "text/plain": [
              "<Figure size 432x288 with 1 Axes>"
            ]
          },
          "metadata": {
            "tags": [],
            "needs_background": "light"
          }
        },
        {
          "output_type": "display_data",
          "data": {
            "text/latex": "$\\displaystyle \\frac{\\sqrt{2} \\pi \\int\\limits_{0}^{\\frac{\\pi}{2}} \\sqrt{9 \\cos{\\left(3 x \\right)} + 17} \\sin{\\left(\\frac{3 x}{2} \\right)}\\, dx}{2}$",
            "text/plain": [
              "sqrt(2)*pi*Integral(sqrt(9*cos(3*x) + 17)*sin(3*x/2), (x, 0, pi/2))/2"
            ]
          },
          "metadata": {
            "tags": []
          }
        },
        {
          "output_type": "display_data",
          "data": {
            "text/latex": "$\\displaystyle 8.89240272909732$",
            "text/plain": [
              "8.89240272909732"
            ]
          },
          "metadata": {
            "tags": []
          }
        }
      ]
    }
  ]
}