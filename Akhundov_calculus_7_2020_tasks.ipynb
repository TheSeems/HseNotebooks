{
  "nbformat": 4,
  "nbformat_minor": 0,
  "metadata": {
    "kernelspec": {
      "display_name": "Python 3",
      "language": "python",
      "name": "python3"
    },
    "language_info": {
      "codemirror_mode": {
        "name": "ipython",
        "version": 3
      },
      "file_extension": ".py",
      "mimetype": "text/x-python",
      "name": "python",
      "nbconvert_exporter": "python",
      "pygments_lexer": "ipython3",
      "version": "3.7.3"
    },
    "colab": {
      "name": "Akhundov_calculus_7_2020_tasks.ipynb",
      "provenance": [],
      "collapsed_sections": [
        "beGqoOOma_3k"
      ]
    }
  },
  "cells": [
    {
      "cell_type": "markdown",
      "metadata": {
        "id": "79PLCjg9a_3H"
      },
      "source": [
        "## Занятие 7\n",
        "## Математический анализ\n",
        "## Исследование функции с sympy.calculus.util и sympy.calculus.singularities"
      ]
    },
    {
      "cell_type": "code",
      "metadata": {
        "id": "-mCCoCokeh5U",
        "colab": {
          "base_uri": "https://localhost:8080/"
        },
        "outputId": "010d42b4-8300-4a55-e12a-d3f11f49614d"
      },
      "source": [
        "!python -m pip install sympy --upgrade\r\n",
        "!python -m pip install -U matplotlib"
      ],
      "execution_count": 1,
      "outputs": [
        {
          "output_type": "stream",
          "text": [
            "Requirement already up-to-date: sympy in /usr/local/lib/python3.6/dist-packages (1.7.1)\n",
            "Requirement already satisfied, skipping upgrade: mpmath>=0.19 in /usr/local/lib/python3.6/dist-packages (from sympy) (1.1.0)\n",
            "Requirement already up-to-date: matplotlib in /usr/local/lib/python3.6/dist-packages (3.3.4)\n",
            "Requirement already satisfied, skipping upgrade: pyparsing!=2.0.4,!=2.1.2,!=2.1.6,>=2.0.3 in /usr/local/lib/python3.6/dist-packages (from matplotlib) (2.4.7)\n",
            "Requirement already satisfied, skipping upgrade: cycler>=0.10 in /usr/local/lib/python3.6/dist-packages (from matplotlib) (0.10.0)\n",
            "Requirement already satisfied, skipping upgrade: numpy>=1.15 in /usr/local/lib/python3.6/dist-packages (from matplotlib) (1.19.5)\n",
            "Requirement already satisfied, skipping upgrade: python-dateutil>=2.1 in /usr/local/lib/python3.6/dist-packages (from matplotlib) (2.8.1)\n",
            "Requirement already satisfied, skipping upgrade: kiwisolver>=1.0.1 in /usr/local/lib/python3.6/dist-packages (from matplotlib) (1.3.1)\n",
            "Requirement already satisfied, skipping upgrade: pillow>=6.2.0 in /usr/local/lib/python3.6/dist-packages (from matplotlib) (7.0.0)\n",
            "Requirement already satisfied, skipping upgrade: six in /usr/local/lib/python3.6/dist-packages (from cycler>=0.10->matplotlib) (1.15.0)\n"
          ],
          "name": "stdout"
        }
      ]
    },
    {
      "cell_type": "code",
      "metadata": {
        "id": "2HkzVGkRa_3R"
      },
      "source": [
        "import sympy\n",
        "from sympy import S, Interval, plot\n",
        "from sympy import sin as Sin\n",
        "from sympy import cos as Cos\n",
        "from sympy import exp as Exp\n",
        "from sympy import log as Log\n",
        "from sympy import pi as Pi\n",
        "from sympy.calculus.util import continuous_domain, function_range, periodicity, stationary_points, maximum, minimum, AccumBounds\n",
        "from sympy.calculus.singularities import singularities, is_increasing, is_decreasing, is_monotonic\n",
        "from sympy.calculus.singularities import is_strictly_increasing, is_strictly_decreasing\n",
        "%matplotlib inline"
      ],
      "execution_count": 2,
      "outputs": []
    },
    {
      "cell_type": "markdown",
      "metadata": {
        "id": "HiA8z1FQa_3S"
      },
      "source": [
        "## Схема анализа функции.\n",
        "1. Область определения\n",
        "\n",
        "sympy.calculus.util.continuous_domain(f, symbol, domain)\n",
        "\n",
        "f - выражение, описывающее функцию, \n",
        "\n",
        "symbol - переменная, от которой зависит исследуемая функция,\n",
        "\n",
        "domain - область значений переменной, на которой рассматривается функция,\n",
        "\n",
        "если функция рассматривается на всей вещественной прямой, то domain=S.Reals\n",
        "\n",
        "Сингулярные точки (точки, в которых функция не существует) находятся с помощью\n",
        "\n",
        "sympy.calculus.singularities.singularities(f, symbol, domain=None)\n",
        "\n",
        "2. Область значений\n",
        "\n",
        "sympy.calculus.util.function_range(f, symbol, domain)\n",
        "\n",
        "3. Периодичность\n",
        "\n",
        "sympy.calculus.util.periodicity(f, symbol, check=False)\n",
        "\n",
        "4. Стационарные точки \n",
        "\n",
        "sympy.calculus.util.stationary_points(f, symbol, domain=Reals)\n",
        "\n",
        "5. Точки экстремума\n",
        "\n",
        "sympy.calculus.util.maximum(f, symbol, domain=Reals)\n",
        "\n",
        "sympy.calculus.util.minimum(f, symbol, domain=Reals)\n",
        "\n",
        "6. Монотонность\n",
        "\n",
        "sympy.calculus.singularities.is_decreasing(f, interval=Reals, symbol=None)\n",
        "\n",
        "sympy.calculus.singularities.is_increasing(f, interval=Reals, symbol=None)\n",
        "\n",
        "sympy.calculus.singularities.is_monotonic(f, interval=Reals, symbol=None)\n",
        "\n",
        "sympy.calculus.singularities.is_strictly_decreasing(f, interval=Reals, symbol=None)\n",
        "\n",
        "sympy.calculus.singularities.is_strictly_increasing(f, interval=Reals, symbol=None)\n",
        "\n",
        "7. Минимальное и максимальное значение функции на интервале \n",
        "\n",
        "sympy.calculus.util.AccumulationBounds(min, max)\n",
        "\n",
        "Свойства: delta, max, min, mid\n",
        "\n",
        "### Задание 1.  \n",
        "Исследовать функцию по п.1 - 5 на области определения и по п. 1 - 7 на одном периоде, построить график.\n",
        "$$\n",
        "f(x) = e^{\\sin(x)}.\n",
        "$$\n",
        "###### 1. Область определения"
      ]
    },
    {
      "cell_type": "code",
      "metadata": {
        "id": "bjyUjQIIa_3T",
        "colab": {
          "base_uri": "https://localhost:8080/",
          "height": 38
        },
        "outputId": "43437042-1e99-47cd-fabe-d2fce8d07a16"
      },
      "source": [
        "x = sympy.Symbol('x')\r\n",
        "f = sympy.E ** (Sin(x))\r\n",
        "domain = continuous_domain(f, x, S.Reals)\r\n",
        "domain"
      ],
      "execution_count": 3,
      "outputs": [
        {
          "output_type": "execute_result",
          "data": {
            "text/latex": "$\\displaystyle \\mathbb{R}$",
            "text/plain": [
              "Reals"
            ]
          },
          "metadata": {
            "tags": []
          },
          "execution_count": 3
        }
      ]
    },
    {
      "cell_type": "markdown",
      "metadata": {
        "id": "ejHvGTZOa_3U"
      },
      "source": [
        "Сингулярные точки (точки, где функция не определена)"
      ]
    },
    {
      "cell_type": "code",
      "metadata": {
        "id": "zQEx7DbAa_3U",
        "colab": {
          "base_uri": "https://localhost:8080/",
          "height": 37
        },
        "outputId": "d3588b4f-8c25-4f9c-dedc-689f5f1ddb82"
      },
      "source": [
        "singular = singularities(f, x)\r\n",
        "singular"
      ],
      "execution_count": 4,
      "outputs": [
        {
          "output_type": "execute_result",
          "data": {
            "text/latex": "$\\displaystyle \\emptyset$",
            "text/plain": [
              "EmptySet"
            ]
          },
          "metadata": {
            "tags": []
          },
          "execution_count": 4
        }
      ]
    },
    {
      "cell_type": "markdown",
      "metadata": {
        "id": "7tUBN9w5a_3V"
      },
      "source": [
        "###### 2. Область значений"
      ]
    },
    {
      "cell_type": "code",
      "metadata": {
        "id": "a_2lxZvqa_3V",
        "colab": {
          "base_uri": "https://localhost:8080/",
          "height": 38
        },
        "outputId": "1cf868fb-d731-42db-e0f5-98119833ec1d"
      },
      "source": [
        "range = function_range(f, x, S.Reals)\r\n",
        "range"
      ],
      "execution_count": 5,
      "outputs": [
        {
          "output_type": "execute_result",
          "data": {
            "text/latex": "$\\displaystyle \\left[e^{-1}, e\\right]$",
            "text/plain": [
              "Interval(exp(-1), E)"
            ]
          },
          "metadata": {
            "tags": []
          },
          "execution_count": 5
        }
      ]
    },
    {
      "cell_type": "markdown",
      "metadata": {
        "id": "1ry3Vip_a_3V"
      },
      "source": [
        "###### 3. Периодичность"
      ]
    },
    {
      "cell_type": "code",
      "metadata": {
        "id": "N7ERXgvDa_3W",
        "colab": {
          "base_uri": "https://localhost:8080/",
          "height": 38
        },
        "outputId": "77262ce7-5c05-485e-abc9-d016ac00c252"
      },
      "source": [
        "period = periodicity(f, x)\r\n",
        "period_range = sympy.Interval(0, period)\r\n",
        "period"
      ],
      "execution_count": 6,
      "outputs": [
        {
          "output_type": "execute_result",
          "data": {
            "text/latex": "$\\displaystyle 2 \\pi$",
            "text/plain": [
              "2*pi"
            ]
          },
          "metadata": {
            "tags": []
          },
          "execution_count": 6
        }
      ]
    },
    {
      "cell_type": "markdown",
      "metadata": {
        "id": "TArblZvwa_3W"
      },
      "source": [
        "###### 4. Стационарные точки"
      ]
    },
    {
      "cell_type": "code",
      "metadata": {
        "id": "hOdAUj37a_3X",
        "colab": {
          "base_uri": "https://localhost:8080/",
          "height": 58
        },
        "outputId": "a0c13e85-e24a-4a0f-c3d1-d795c2b1a8bb"
      },
      "source": [
        "station = stationary_points(f, x)\r\n",
        "station"
      ],
      "execution_count": 7,
      "outputs": [
        {
          "output_type": "execute_result",
          "data": {
            "text/latex": "$\\displaystyle \\left\\{2 n \\pi + \\frac{\\pi}{2}\\; |\\; n \\in \\mathbb{Z}\\right\\} \\cup \\left\\{2 n \\pi + \\frac{3 \\pi}{2}\\; |\\; n \\in \\mathbb{Z}\\right\\}$",
            "text/plain": [
              "Union(ImageSet(Lambda(_n, 2*_n*pi + pi/2), Integers), ImageSet(Lambda(_n, 2*_n*pi + 3*pi/2), Integers))"
            ]
          },
          "metadata": {
            "tags": []
          },
          "execution_count": 7
        }
      ]
    },
    {
      "cell_type": "markdown",
      "metadata": {
        "id": "sZuUjMG2a_3X"
      },
      "source": [
        "###### 5. Максимальное и минимальное значения функции"
      ]
    },
    {
      "cell_type": "code",
      "metadata": {
        "id": "su0CFuA8a_3X",
        "colab": {
          "base_uri": "https://localhost:8080/",
          "height": 59
        },
        "outputId": "227faaa3-2c46-4928-d758-ddacd2566891"
      },
      "source": [
        "display(maximum(f, x), minimum(f, x))"
      ],
      "execution_count": 8,
      "outputs": [
        {
          "output_type": "display_data",
          "data": {
            "text/latex": "$\\displaystyle e$",
            "text/plain": [
              "E"
            ]
          },
          "metadata": {
            "tags": []
          }
        },
        {
          "output_type": "display_data",
          "data": {
            "text/latex": "$\\displaystyle e^{-1}$",
            "text/plain": [
              "exp(-1)"
            ]
          },
          "metadata": {
            "tags": []
          }
        }
      ]
    },
    {
      "cell_type": "markdown",
      "metadata": {
        "id": "AbMeXy20a_3X"
      },
      "source": [
        "##### Исследование периодической функции на одном периоде.\n",
        "Найти пересечение с периодом области определения, множества сингулярных точек и стационарных точек.\n",
        "###### 1. Область определения"
      ]
    },
    {
      "cell_type": "code",
      "metadata": {
        "id": "sLUepVJAa_3Y",
        "colab": {
          "base_uri": "https://localhost:8080/",
          "height": 38
        },
        "outputId": "9869b0e3-c158-4045-98b4-0310dd066307"
      },
      "source": [
        "continuous_domain(f, x, period_range)"
      ],
      "execution_count": 9,
      "outputs": [
        {
          "output_type": "execute_result",
          "data": {
            "text/latex": "$\\displaystyle \\left[0, 2 \\pi\\right]$",
            "text/plain": [
              "Interval(0, 2*pi)"
            ]
          },
          "metadata": {
            "tags": []
          },
          "execution_count": 9
        }
      ]
    },
    {
      "cell_type": "markdown",
      "metadata": {
        "id": "VB1hIFvNa_3Y"
      },
      "source": [
        "Сингулярные точки (точки, где функция не определена)"
      ]
    },
    {
      "cell_type": "code",
      "metadata": {
        "id": "BtV3Vsqga_3Y",
        "colab": {
          "base_uri": "https://localhost:8080/",
          "height": 37
        },
        "outputId": "e65ba1ba-1fdc-4b6e-8902-06f7a35c1853"
      },
      "source": [
        "singularities(f, x, period_range)"
      ],
      "execution_count": 10,
      "outputs": [
        {
          "output_type": "execute_result",
          "data": {
            "text/latex": "$\\displaystyle \\emptyset$",
            "text/plain": [
              "EmptySet"
            ]
          },
          "metadata": {
            "tags": []
          },
          "execution_count": 10
        }
      ]
    },
    {
      "cell_type": "markdown",
      "metadata": {
        "id": "l6iIhP8ta_3Z"
      },
      "source": [
        "###### 2. Область значений"
      ]
    },
    {
      "cell_type": "code",
      "metadata": {
        "id": "eQXsRf4sa_3Z",
        "colab": {
          "base_uri": "https://localhost:8080/",
          "height": 38
        },
        "outputId": "3e4921e6-5973-4fbf-9f5d-80a8caaafdf7"
      },
      "source": [
        "function_range(f, x, period_range)"
      ],
      "execution_count": 11,
      "outputs": [
        {
          "output_type": "execute_result",
          "data": {
            "text/latex": "$\\displaystyle \\left[e^{-1}, e\\right]$",
            "text/plain": [
              "Interval(exp(-1), E)"
            ]
          },
          "metadata": {
            "tags": []
          },
          "execution_count": 11
        }
      ]
    },
    {
      "cell_type": "markdown",
      "metadata": {
        "id": "Qsd4mUOOa_3Z"
      },
      "source": [
        "###### 4. Стационарные точки "
      ]
    },
    {
      "cell_type": "code",
      "metadata": {
        "id": "NPNhtWRPa_3a",
        "colab": {
          "base_uri": "https://localhost:8080/",
          "height": 58
        },
        "outputId": "de221630-c94f-43c1-8bb1-3af7b351879f"
      },
      "source": [
        "stationary_points(f, x, period_range)"
      ],
      "execution_count": 12,
      "outputs": [
        {
          "output_type": "execute_result",
          "data": {
            "text/latex": "$\\displaystyle \\left\\{\\frac{\\pi}{2}, \\frac{3 \\pi}{2}\\right\\}$",
            "text/plain": [
              "FiniteSet(pi/2, 3*pi/2)"
            ]
          },
          "metadata": {
            "tags": []
          },
          "execution_count": 12
        }
      ]
    },
    {
      "cell_type": "markdown",
      "metadata": {
        "id": "2eP4lDbBa_3a"
      },
      "source": [
        "###### 5. Максимальное и минимальное значения функции"
      ]
    },
    {
      "cell_type": "code",
      "metadata": {
        "id": "98S85csAa_3a",
        "colab": {
          "base_uri": "https://localhost:8080/",
          "height": 59
        },
        "outputId": "eb9f09b7-82bb-48e5-851e-ea8df0d85348"
      },
      "source": [
        "display(maximum(f, x, period_range), maximum(f, x, period_range))"
      ],
      "execution_count": 13,
      "outputs": [
        {
          "output_type": "display_data",
          "data": {
            "text/latex": "$\\displaystyle e$",
            "text/plain": [
              "E"
            ]
          },
          "metadata": {
            "tags": []
          }
        },
        {
          "output_type": "display_data",
          "data": {
            "text/latex": "$\\displaystyle e$",
            "text/plain": [
              "E"
            ]
          },
          "metadata": {
            "tags": []
          }
        }
      ]
    },
    {
      "cell_type": "markdown",
      "metadata": {
        "id": "qT4eR6bva_3a"
      },
      "source": [
        "###### 6. Монотонность\n",
        "Исследовать на периоде открытые интервалы (Interval.open), на которые период разбивают стационарные точки."
      ]
    },
    {
      "cell_type": "code",
      "metadata": {
        "id": "l-v-ChzPa_3b",
        "colab": {
          "base_uri": "https://localhost:8080/",
          "height": 215
        },
        "outputId": "b3e000de-ef0f-439a-8527-4b0d94915b25"
      },
      "source": [
        "intervals = [Interval.open(k * Pi/2, (k + 1) * Pi/2) for k in range(4)]\r\n",
        "for interval in intervals:\r\n",
        "  display(interval)\r\n",
        "  print(is_monotonic(f, interval=interval), is_decreasing(f, interval=interval), is_increasing(f, interval=interval), is_strictly_decreasing(f, interval=interval), is_strictly_increasing(f, interval=interval))"
      ],
      "execution_count": 17,
      "outputs": [
        {
          "output_type": "error",
          "ename": "TypeError",
          "evalue": "ignored",
          "traceback": [
            "\u001b[0;31m---------------------------------------------------------------------------\u001b[0m",
            "\u001b[0;31mTypeError\u001b[0m                                 Traceback (most recent call last)",
            "\u001b[0;32m<ipython-input-17-8eb0cf5f76c0>\u001b[0m in \u001b[0;36m<module>\u001b[0;34m()\u001b[0m\n\u001b[0;32m----> 1\u001b[0;31m \u001b[0mintervals\u001b[0m \u001b[0;34m=\u001b[0m \u001b[0;34m[\u001b[0m\u001b[0mInterval\u001b[0m\u001b[0;34m.\u001b[0m\u001b[0mopen\u001b[0m\u001b[0;34m(\u001b[0m\u001b[0mk\u001b[0m \u001b[0;34m*\u001b[0m \u001b[0mPi\u001b[0m\u001b[0;34m/\u001b[0m\u001b[0;36m2\u001b[0m\u001b[0;34m,\u001b[0m \u001b[0;34m(\u001b[0m\u001b[0mk\u001b[0m \u001b[0;34m+\u001b[0m \u001b[0;36m1\u001b[0m\u001b[0;34m)\u001b[0m \u001b[0;34m*\u001b[0m \u001b[0mPi\u001b[0m\u001b[0;34m/\u001b[0m\u001b[0;36m2\u001b[0m\u001b[0;34m)\u001b[0m \u001b[0;32mfor\u001b[0m \u001b[0mk\u001b[0m \u001b[0;32min\u001b[0m \u001b[0mrange\u001b[0m\u001b[0;34m(\u001b[0m\u001b[0;36m4\u001b[0m\u001b[0;34m)\u001b[0m\u001b[0;34m]\u001b[0m\u001b[0;34m\u001b[0m\u001b[0;34m\u001b[0m\u001b[0m\n\u001b[0m\u001b[1;32m      2\u001b[0m \u001b[0;32mfor\u001b[0m \u001b[0minterval\u001b[0m \u001b[0;32min\u001b[0m \u001b[0mintervals\u001b[0m\u001b[0;34m:\u001b[0m\u001b[0;34m\u001b[0m\u001b[0;34m\u001b[0m\u001b[0m\n\u001b[1;32m      3\u001b[0m   \u001b[0mdisplay\u001b[0m\u001b[0;34m(\u001b[0m\u001b[0minterval\u001b[0m\u001b[0;34m)\u001b[0m\u001b[0;34m\u001b[0m\u001b[0;34m\u001b[0m\u001b[0m\n\u001b[1;32m      4\u001b[0m   \u001b[0mprint\u001b[0m\u001b[0;34m(\u001b[0m\u001b[0mis_monotonic\u001b[0m\u001b[0;34m(\u001b[0m\u001b[0mf\u001b[0m\u001b[0;34m,\u001b[0m \u001b[0minterval\u001b[0m\u001b[0;34m=\u001b[0m\u001b[0minterval\u001b[0m\u001b[0;34m)\u001b[0m\u001b[0;34m,\u001b[0m \u001b[0mis_decreasing\u001b[0m\u001b[0;34m(\u001b[0m\u001b[0mf\u001b[0m\u001b[0;34m,\u001b[0m \u001b[0minterval\u001b[0m\u001b[0;34m=\u001b[0m\u001b[0minterval\u001b[0m\u001b[0;34m)\u001b[0m\u001b[0;34m,\u001b[0m \u001b[0mis_increasing\u001b[0m\u001b[0;34m(\u001b[0m\u001b[0mf\u001b[0m\u001b[0;34m,\u001b[0m \u001b[0minterval\u001b[0m\u001b[0;34m=\u001b[0m\u001b[0minterval\u001b[0m\u001b[0;34m)\u001b[0m\u001b[0;34m,\u001b[0m \u001b[0mis_strictly_decreasing\u001b[0m\u001b[0;34m(\u001b[0m\u001b[0mf\u001b[0m\u001b[0;34m,\u001b[0m \u001b[0minterval\u001b[0m\u001b[0;34m=\u001b[0m\u001b[0minterval\u001b[0m\u001b[0;34m)\u001b[0m\u001b[0;34m,\u001b[0m \u001b[0mis_strictly_increasing\u001b[0m\u001b[0;34m(\u001b[0m\u001b[0mf\u001b[0m\u001b[0;34m,\u001b[0m \u001b[0minterval\u001b[0m\u001b[0;34m=\u001b[0m\u001b[0minterval\u001b[0m\u001b[0;34m)\u001b[0m\u001b[0;34m)\u001b[0m\u001b[0;34m\u001b[0m\u001b[0;34m\u001b[0m\u001b[0m\n",
            "\u001b[0;31mTypeError\u001b[0m: 'Interval' object is not callable"
          ]
        }
      ]
    },
    {
      "cell_type": "markdown",
      "metadata": {
        "id": "Ng1o4s_ma_3b"
      },
      "source": [
        "###### 7. Минимальное и максимальное значение функции на интервале \n",
        "Найти максимальное и минимальное значение функции на каждом из интервалов монотонности в пределах одного периода"
      ]
    },
    {
      "cell_type": "code",
      "metadata": {
        "id": "HXNnjdssa_3b",
        "colab": {
          "base_uri": "https://localhost:8080/",
          "height": 232
        },
        "outputId": "e584063f-68e9-4200-d259-b259da99dc23"
      },
      "source": [
        "previous = 0\r\n",
        "for k in range(4):\r\n",
        "  left_border = previous\r\n",
        "  right_border = previous + sympy.pi / 2\r\n",
        "  display(Interval.open(left_border, right_border))\r\n",
        "\r\n",
        "  f_ltor = f.subs(x, AccumBounds(left_border, right_border))\r\n",
        "  display(f_ltor, f_ltor.max, f_ltor.min, f_ltor.delta, f_ltor.mid)"
      ],
      "execution_count": 15,
      "outputs": [
        {
          "output_type": "error",
          "ename": "TypeError",
          "evalue": "ignored",
          "traceback": [
            "\u001b[0;31m---------------------------------------------------------------------------\u001b[0m",
            "\u001b[0;31mTypeError\u001b[0m                                 Traceback (most recent call last)",
            "\u001b[0;32m<ipython-input-15-9c44c6a57282>\u001b[0m in \u001b[0;36m<module>\u001b[0;34m()\u001b[0m\n\u001b[1;32m      1\u001b[0m \u001b[0mprevious\u001b[0m \u001b[0;34m=\u001b[0m \u001b[0;36m0\u001b[0m\u001b[0;34m\u001b[0m\u001b[0;34m\u001b[0m\u001b[0m\n\u001b[0;32m----> 2\u001b[0;31m \u001b[0;32mfor\u001b[0m \u001b[0mk\u001b[0m \u001b[0;32min\u001b[0m \u001b[0mrange\u001b[0m\u001b[0;34m(\u001b[0m\u001b[0;36m4\u001b[0m\u001b[0;34m)\u001b[0m\u001b[0;34m:\u001b[0m\u001b[0;34m\u001b[0m\u001b[0;34m\u001b[0m\u001b[0m\n\u001b[0m\u001b[1;32m      3\u001b[0m   \u001b[0mleft_border\u001b[0m \u001b[0;34m=\u001b[0m \u001b[0mprevious\u001b[0m\u001b[0;34m\u001b[0m\u001b[0;34m\u001b[0m\u001b[0m\n\u001b[1;32m      4\u001b[0m   \u001b[0mright_border\u001b[0m \u001b[0;34m=\u001b[0m \u001b[0mprevious\u001b[0m \u001b[0;34m+\u001b[0m \u001b[0msympy\u001b[0m\u001b[0;34m.\u001b[0m\u001b[0mpi\u001b[0m \u001b[0;34m/\u001b[0m \u001b[0;36m2\u001b[0m\u001b[0;34m\u001b[0m\u001b[0;34m\u001b[0m\u001b[0m\n\u001b[1;32m      5\u001b[0m   \u001b[0mdisplay\u001b[0m\u001b[0;34m(\u001b[0m\u001b[0mInterval\u001b[0m\u001b[0;34m.\u001b[0m\u001b[0mopen\u001b[0m\u001b[0;34m(\u001b[0m\u001b[0mleft_border\u001b[0m\u001b[0;34m,\u001b[0m \u001b[0mright_border\u001b[0m\u001b[0;34m)\u001b[0m\u001b[0;34m)\u001b[0m\u001b[0;34m\u001b[0m\u001b[0;34m\u001b[0m\u001b[0m\n",
            "\u001b[0;31mTypeError\u001b[0m: 'Interval' object is not callable"
          ]
        }
      ]
    },
    {
      "cell_type": "markdown",
      "metadata": {
        "id": "oyVp7rVOa_3b"
      },
      "source": [
        "###### График функции на одном периоде."
      ]
    },
    {
      "cell_type": "code",
      "metadata": {
        "id": "Vbrik80Oa_3c",
        "colab": {
          "base_uri": "https://localhost:8080/",
          "height": 322
        },
        "outputId": "5fd3cd0c-1255-4aa0-b5c1-548fef722b03"
      },
      "source": [
        "plot((f, (x, 0, 2 * Pi)))"
      ],
      "execution_count": 20,
      "outputs": [
        {
          "output_type": "display_data",
          "data": {
            "image/png": "[encoded data removed]",
            "text/plain": [
              "<Figure size 432x288 with 1 Axes>"
            ]
          },
          "metadata": {
            "tags": [],
            "needs_background": "light"
          }
        },
        {
          "output_type": "execute_result",
          "data": {
            "text/plain": [
              "<sympy.plotting.plot.Plot at 0x7f9945ceab70>"
            ]
          },
          "metadata": {
            "tags": []
          },
          "execution_count": 20
        }
      ]
    },
    {
      "cell_type": "markdown",
      "metadata": {
        "id": "NZljNILpa_3c"
      },
      "source": [
        "### Задание 2.  \n",
        "Исследовать функцию по п.1 - 5 на области определения и по п. 1 - 7  на одном периоде, построить график.\n",
        "$$\n",
        "f(x) = \\frac{1}{\\sin(x) + \\cos(x)}.\n",
        "$$\n",
        "###### 1. Область определения"
      ]
    },
    {
      "cell_type": "code",
      "metadata": {
        "id": "zeApyMADa_3c",
        "colab": {
          "base_uri": "https://localhost:8080/",
          "height": 58
        },
        "outputId": "20767e14-2f42-4e77-d054-12ba18ab77d1"
      },
      "source": [
        "f = 1 / (Sin(x) + Cos(x))\r\n",
        "domain = continuous_domain(f, x, S.Reals)\r\n",
        "domain"
      ],
      "execution_count": 22,
      "outputs": [
        {
          "output_type": "execute_result",
          "data": {
            "text/latex": "$\\displaystyle \\mathbb{R} \\setminus \\left(\\left\\{2 n \\pi + \\frac{3 \\pi}{4}\\; |\\; n \\in \\mathbb{Z}\\right\\} \\cup \\left\\{2 n \\pi + \\frac{7 \\pi}{4}\\; |\\; n \\in \\mathbb{Z}\\right\\}\\right)$",
            "text/plain": [
              "Complement(Reals, Union(ImageSet(Lambda(_n, 2*_n*pi + 3*pi/4), Integers), ImageSet(Lambda(_n, 2*_n*pi + 7*pi/4), Integers)))"
            ]
          },
          "metadata": {
            "tags": []
          },
          "execution_count": 22
        }
      ]
    },
    {
      "cell_type": "markdown",
      "metadata": {
        "id": "7UijyVlHa_3c"
      },
      "source": [
        "Сингулярные точки (точки, где функция не определена)"
      ]
    },
    {
      "cell_type": "code",
      "metadata": {
        "id": "u_s9jh-Fa_3d",
        "colab": {
          "base_uri": "https://localhost:8080/",
          "height": 58
        },
        "outputId": "e2262f0d-3231-4e89-c69f-01719c967214"
      },
      "source": [
        "singular = singularities(f, x)\r\n",
        "singular"
      ],
      "execution_count": 23,
      "outputs": [
        {
          "output_type": "execute_result",
          "data": {
            "text/latex": "$\\displaystyle \\left\\{2 n \\pi + \\frac{3 \\pi}{4}\\; |\\; n \\in \\mathbb{Z}\\right\\} \\cup \\left\\{2 n \\pi + \\frac{7 \\pi}{4}\\; |\\; n \\in \\mathbb{Z}\\right\\}$",
            "text/plain": [
              "Union(ImageSet(Lambda(_n, 2*_n*pi + 3*pi/4), Integers), ImageSet(Lambda(_n, 2*_n*pi + 7*pi/4), Integers))"
            ]
          },
          "metadata": {
            "tags": []
          },
          "execution_count": 23
        }
      ]
    },
    {
      "cell_type": "markdown",
      "metadata": {
        "id": "MjZb2zcha_3d"
      },
      "source": [
        "###### 2. Область значений"
      ]
    },
    {
      "cell_type": "code",
      "metadata": {
        "id": "zksxaLyya_3d",
        "colab": {
          "base_uri": "https://localhost:8080/",
          "height": 68
        },
        "outputId": "9424f583-5f1e-44dc-ffae-25acacbd36d2"
      },
      "source": [
        "range = function_range(f, x, S.Reals)\r\n",
        "range"
      ],
      "execution_count": 25,
      "outputs": [
        {
          "output_type": "execute_result",
          "data": {
            "text/latex": "$\\displaystyle \\left(-\\infty, - \\frac{\\sqrt{2}}{2}\\right] \\cup \\left[\\frac{\\sqrt{2}}{2}, \\infty\\right)$",
            "text/plain": [
              "Union(Interval(-oo, -sqrt(2)/2), Interval(sqrt(2)/2, oo))"
            ]
          },
          "metadata": {
            "tags": []
          },
          "execution_count": 25
        }
      ]
    },
    {
      "cell_type": "markdown",
      "metadata": {
        "id": "p-qIMtrSa_3d"
      },
      "source": [
        "###### 3. Периодичность"
      ]
    },
    {
      "cell_type": "code",
      "metadata": {
        "id": "Wb5uv0fja_3e",
        "colab": {
          "base_uri": "https://localhost:8080/",
          "height": 38
        },
        "outputId": "1eea63c7-d444-4152-d3e8-450a3a48f0e7"
      },
      "source": [
        "period = periodicity(f, x)\r\n",
        "period_range = Interval(0, period)\r\n",
        "period"
      ],
      "execution_count": 30,
      "outputs": [
        {
          "output_type": "execute_result",
          "data": {
            "text/latex": "$\\displaystyle 2 \\pi$",
            "text/plain": [
              "2*pi"
            ]
          },
          "metadata": {
            "tags": []
          },
          "execution_count": 30
        }
      ]
    },
    {
      "cell_type": "markdown",
      "metadata": {
        "id": "uULgwsEwa_3e"
      },
      "source": [
        "###### 4. Стационарные точки"
      ]
    },
    {
      "cell_type": "code",
      "metadata": {
        "id": "rpTZ-HPJa_3e",
        "colab": {
          "base_uri": "https://localhost:8080/",
          "height": 98
        },
        "outputId": "6cafe94d-8145-4573-8c6b-ad3dd629fd80"
      },
      "source": [
        "station = stationary_points(f, x)\r\n",
        "station"
      ],
      "execution_count": 28,
      "outputs": [
        {
          "output_type": "execute_result",
          "data": {
            "text/latex": "$\\displaystyle \\left(\\left\\{2 n \\pi + \\frac{5 \\pi}{4}\\; |\\; n \\in \\mathbb{Z}\\right\\} \\setminus \\left(\\left\\{2 n \\pi + \\frac{3 \\pi}{4}\\; |\\; n \\in \\mathbb{Z}\\right\\} \\cup \\left\\{2 n \\pi + \\frac{7 \\pi}{4}\\; |\\; n \\in \\mathbb{Z}\\right\\}\\right)\\right) \\cup \\left(\\left\\{2 n \\pi + \\frac{\\pi}{4}\\; |\\; n \\in \\mathbb{Z}\\right\\} \\setminus \\left(\\left\\{2 n \\pi + \\frac{3 \\pi}{4}\\; |\\; n \\in \\mathbb{Z}\\right\\} \\cup \\left\\{2 n \\pi + \\frac{7 \\pi}{4}\\; |\\; n \\in \\mathbb{Z}\\right\\}\\right)\\right)$",
            "text/plain": [
              "Union(Complement(ImageSet(Lambda(_n, 2*_n*pi + 5*pi/4), Integers), Union(ImageSet(Lambda(_n, 2*_n*pi + 3*pi/4), Integers), ImageSet(Lambda(_n, 2*_n*pi + 7*pi/4), Integers))), Complement(ImageSet(Lambda(_n, 2*_n*pi + pi/4), Integers), Union(ImageSet(Lambda(_n, 2*_n*pi + 3*pi/4), Integers), ImageSet(Lambda(_n, 2*_n*pi + 7*pi/4), Integers))))"
            ]
          },
          "metadata": {
            "tags": []
          },
          "execution_count": 28
        }
      ]
    },
    {
      "cell_type": "markdown",
      "metadata": {
        "id": "y9yJaDXva_3e"
      },
      "source": [
        "###### 5. Максимальное и минимальное значения функции"
      ]
    },
    {
      "cell_type": "code",
      "metadata": {
        "id": "nbWqrvQ7a_3f",
        "colab": {
          "base_uri": "https://localhost:8080/",
          "height": 57
        },
        "outputId": "6fb34305-5a9c-4dbc-dc9e-d9db1ed371d0"
      },
      "source": [
        "display(maximum(f, x), minimum(f, x))"
      ],
      "execution_count": 29,
      "outputs": [
        {
          "output_type": "display_data",
          "data": {
            "text/latex": "$\\displaystyle \\infty$",
            "text/plain": [
              "oo"
            ]
          },
          "metadata": {
            "tags": []
          }
        },
        {
          "output_type": "display_data",
          "data": {
            "text/latex": "$\\displaystyle -\\infty$",
            "text/plain": [
              "-oo"
            ]
          },
          "metadata": {
            "tags": []
          }
        }
      ]
    },
    {
      "cell_type": "markdown",
      "metadata": {
        "id": "NWbuBzf2a_3f"
      },
      "source": [
        "##### Исследование периодической функции на одном периоде.\n",
        "Найти пересечение с периодом области определения, множества сингулярных точек и стационарных точек.\n",
        "###### 1. Область определения"
      ]
    },
    {
      "cell_type": "code",
      "metadata": {
        "id": "t_tsptiTa_3f",
        "colab": {
          "base_uri": "https://localhost:8080/",
          "height": 58
        },
        "outputId": "abc18f1d-5266-4523-da14-68b31c888fac"
      },
      "source": [
        "continuous_domain(f, x, period_range)"
      ],
      "execution_count": 31,
      "outputs": [
        {
          "output_type": "execute_result",
          "data": {
            "text/latex": "$\\displaystyle \\left[0, \\frac{3 \\pi}{4}\\right) \\cup \\left(\\frac{3 \\pi}{4}, \\frac{7 \\pi}{4}\\right) \\cup \\left(\\frac{7 \\pi}{4}, 2 \\pi\\right]$",
            "text/plain": [
              "Union(Interval.Ropen(0, 3*pi/4), Interval.open(3*pi/4, 7*pi/4), Interval.Lopen(7*pi/4, 2*pi))"
            ]
          },
          "metadata": {
            "tags": []
          },
          "execution_count": 31
        }
      ]
    },
    {
      "cell_type": "markdown",
      "metadata": {
        "id": "jKaP96S9a_3f"
      },
      "source": [
        "Сингулярные точки (точки, где функция не определена)"
      ]
    },
    {
      "cell_type": "code",
      "metadata": {
        "id": "xsbKcy6Va_3g",
        "colab": {
          "base_uri": "https://localhost:8080/",
          "height": 58
        },
        "outputId": "c861b118-d375-418c-f81f-e36f4e262810"
      },
      "source": [
        "singularities(f, x, period_range)"
      ],
      "execution_count": 32,
      "outputs": [
        {
          "output_type": "execute_result",
          "data": {
            "text/latex": "$\\displaystyle \\left\\{\\frac{3 \\pi}{4}, \\frac{7 \\pi}{4}\\right\\}$",
            "text/plain": [
              "FiniteSet(3*pi/4, 7*pi/4)"
            ]
          },
          "metadata": {
            "tags": []
          },
          "execution_count": 32
        }
      ]
    },
    {
      "cell_type": "markdown",
      "metadata": {
        "id": "n0YdFglra_3g"
      },
      "source": [
        "###### 2. Область значений"
      ]
    },
    {
      "cell_type": "code",
      "metadata": {
        "id": "p_r-eT-qa_3g",
        "colab": {
          "base_uri": "https://localhost:8080/",
          "height": 68
        },
        "outputId": "449531ba-9d9d-4a5e-85cb-71709ae1e973"
      },
      "source": [
        "function_range(f, x, period_range)"
      ],
      "execution_count": 33,
      "outputs": [
        {
          "output_type": "execute_result",
          "data": {
            "text/latex": "$\\displaystyle \\left(-\\infty, - \\frac{\\sqrt{2}}{2}\\right] \\cup \\left[\\frac{\\sqrt{2}}{2}, \\infty\\right)$",
            "text/plain": [
              "Union(Interval(-oo, -sqrt(2)/2), Interval(sqrt(2)/2, oo))"
            ]
          },
          "metadata": {
            "tags": []
          },
          "execution_count": 33
        }
      ]
    },
    {
      "cell_type": "markdown",
      "metadata": {
        "id": "H7hIHG-Ga_3g"
      },
      "source": [
        "###### 4. Стационарные точки"
      ]
    },
    {
      "cell_type": "code",
      "metadata": {
        "id": "Llaoudwga_3g",
        "colab": {
          "base_uri": "https://localhost:8080/",
          "height": 58
        },
        "outputId": "5382a152-35ce-4d6b-c699-e1f6163b8aad"
      },
      "source": [
        "stationary_points(f, x, period_range)"
      ],
      "execution_count": 34,
      "outputs": [
        {
          "output_type": "execute_result",
          "data": {
            "text/latex": "$\\displaystyle \\left\\{\\frac{\\pi}{4}, \\frac{5 \\pi}{4}\\right\\}$",
            "text/plain": [
              "FiniteSet(pi/4, 5*pi/4)"
            ]
          },
          "metadata": {
            "tags": []
          },
          "execution_count": 34
        }
      ]
    },
    {
      "cell_type": "markdown",
      "metadata": {
        "id": "csv_xfN8a_3h"
      },
      "source": [
        "###### 5. Максимальное и минимальное значения функции"
      ]
    },
    {
      "cell_type": "code",
      "metadata": {
        "id": "Smg-9hK7a_3h",
        "colab": {
          "base_uri": "https://localhost:8080/",
          "height": 57
        },
        "outputId": "1fd4c7fc-9506-49e6-febf-1459cc821f1c"
      },
      "source": [
        "display(maximum(f, x, period_range), minimum(f, x, period_range))"
      ],
      "execution_count": 35,
      "outputs": [
        {
          "output_type": "display_data",
          "data": {
            "text/latex": "$\\displaystyle \\infty$",
            "text/plain": [
              "oo"
            ]
          },
          "metadata": {
            "tags": []
          }
        },
        {
          "output_type": "display_data",
          "data": {
            "text/latex": "$\\displaystyle -\\infty$",
            "text/plain": [
              "-oo"
            ]
          },
          "metadata": {
            "tags": []
          }
        }
      ]
    },
    {
      "cell_type": "markdown",
      "metadata": {
        "id": "ThwMdrDWa_3h"
      },
      "source": [
        "###### 6. Монотонность"
      ]
    },
    {
      "cell_type": "code",
      "metadata": {
        "id": "C7-F3TYRa_3h",
        "colab": {
          "base_uri": "https://localhost:8080/",
          "height": 215
        },
        "outputId": "8e25900c-d578-4bd3-b98a-77d1b4b1fd26"
      },
      "source": [
        "intervals = [Interval.open(k*Pi/4, (k + 1)*Pi/4) for k in range(8)]\r\n",
        "for interval in intervals:\r\n",
        "  display(interval)\r\n",
        "  print(is_monotonic(f, interval=interval), is_decreasing(f, interval=interval), is_increasing(f, interval=interval), is_strictly_decreasing(f, interval=interval), is_strictly_increasing(f, interval=interval))"
      ],
      "execution_count": 36,
      "outputs": [
        {
          "output_type": "error",
          "ename": "TypeError",
          "evalue": "ignored",
          "traceback": [
            "\u001b[0;31m---------------------------------------------------------------------------\u001b[0m",
            "\u001b[0;31mTypeError\u001b[0m                                 Traceback (most recent call last)",
            "\u001b[0;32m<ipython-input-36-2da3f5ec35d2>\u001b[0m in \u001b[0;36m<module>\u001b[0;34m()\u001b[0m\n\u001b[0;32m----> 1\u001b[0;31m \u001b[0mintervals\u001b[0m \u001b[0;34m=\u001b[0m \u001b[0;34m[\u001b[0m\u001b[0mInterval\u001b[0m\u001b[0;34m.\u001b[0m\u001b[0mopen\u001b[0m\u001b[0;34m(\u001b[0m\u001b[0mk\u001b[0m\u001b[0;34m*\u001b[0m\u001b[0mPi\u001b[0m\u001b[0;34m/\u001b[0m\u001b[0;36m4\u001b[0m\u001b[0;34m,\u001b[0m \u001b[0;34m(\u001b[0m\u001b[0mk\u001b[0m \u001b[0;34m+\u001b[0m \u001b[0;36m1\u001b[0m\u001b[0;34m)\u001b[0m\u001b[0;34m*\u001b[0m\u001b[0mPi\u001b[0m\u001b[0;34m/\u001b[0m\u001b[0;36m4\u001b[0m\u001b[0;34m)\u001b[0m \u001b[0;32mfor\u001b[0m \u001b[0mk\u001b[0m \u001b[0;32min\u001b[0m \u001b[0mrange\u001b[0m\u001b[0;34m(\u001b[0m\u001b[0;36m8\u001b[0m\u001b[0;34m)\u001b[0m\u001b[0;34m]\u001b[0m\u001b[0;34m\u001b[0m\u001b[0;34m\u001b[0m\u001b[0m\n\u001b[0m\u001b[1;32m      2\u001b[0m \u001b[0;32mfor\u001b[0m \u001b[0minterval\u001b[0m \u001b[0;32min\u001b[0m \u001b[0mintervals\u001b[0m\u001b[0;34m:\u001b[0m\u001b[0;34m\u001b[0m\u001b[0;34m\u001b[0m\u001b[0m\n\u001b[1;32m      3\u001b[0m   \u001b[0mdisplay\u001b[0m\u001b[0;34m(\u001b[0m\u001b[0minterval\u001b[0m\u001b[0;34m)\u001b[0m\u001b[0;34m\u001b[0m\u001b[0;34m\u001b[0m\u001b[0m\n\u001b[1;32m      4\u001b[0m   \u001b[0mprint\u001b[0m\u001b[0;34m(\u001b[0m\u001b[0mis_monotonic\u001b[0m\u001b[0;34m(\u001b[0m\u001b[0mf\u001b[0m\u001b[0;34m,\u001b[0m \u001b[0minterval\u001b[0m\u001b[0;34m=\u001b[0m\u001b[0minterval\u001b[0m\u001b[0;34m)\u001b[0m\u001b[0;34m,\u001b[0m \u001b[0mis_decreasing\u001b[0m\u001b[0;34m(\u001b[0m\u001b[0mf\u001b[0m\u001b[0;34m,\u001b[0m \u001b[0minterval\u001b[0m\u001b[0;34m=\u001b[0m\u001b[0minterval\u001b[0m\u001b[0;34m)\u001b[0m\u001b[0;34m,\u001b[0m \u001b[0mis_increasing\u001b[0m\u001b[0;34m(\u001b[0m\u001b[0mf\u001b[0m\u001b[0;34m,\u001b[0m \u001b[0minterval\u001b[0m\u001b[0;34m=\u001b[0m\u001b[0minterval\u001b[0m\u001b[0;34m)\u001b[0m\u001b[0;34m,\u001b[0m \u001b[0mis_strictly_decreasing\u001b[0m\u001b[0;34m(\u001b[0m\u001b[0mf\u001b[0m\u001b[0;34m,\u001b[0m \u001b[0minterval\u001b[0m\u001b[0;34m=\u001b[0m\u001b[0minterval\u001b[0m\u001b[0;34m)\u001b[0m\u001b[0;34m,\u001b[0m \u001b[0mis_strictly_increasing\u001b[0m\u001b[0;34m(\u001b[0m\u001b[0mf\u001b[0m\u001b[0;34m,\u001b[0m \u001b[0minterval\u001b[0m\u001b[0;34m=\u001b[0m\u001b[0minterval\u001b[0m\u001b[0;34m)\u001b[0m\u001b[0;34m)\u001b[0m\u001b[0;34m\u001b[0m\u001b[0;34m\u001b[0m\u001b[0m\n",
            "\u001b[0;31mTypeError\u001b[0m: 'Union' object is not callable"
          ]
        }
      ]
    },
    {
      "cell_type": "markdown",
      "metadata": {
        "id": "eWPxKtkMa_3i"
      },
      "source": [
        "###### 7. Минимальное и максимальное значение функции на периоде"
      ]
    },
    {
      "cell_type": "code",
      "metadata": {
        "id": "PaC0q4Bga_3j"
      },
      "source": [
        "display(maximum(f, x, period_range), minimum(f, x, period_range))"
      ],
      "execution_count": null,
      "outputs": []
    },
    {
      "cell_type": "markdown",
      "metadata": {
        "id": "1-_0mSI-a_3j"
      },
      "source": [
        "###### График"
      ]
    },
    {
      "cell_type": "code",
      "metadata": {
        "id": "YygVk2H-a_3j",
        "colab": {
          "base_uri": "https://localhost:8080/",
          "height": 322
        },
        "outputId": "1d7cf7f2-304f-402b-a447-3a5f2e7308d3"
      },
      "source": [
        "plot((f, (x, 0, 2 * Pi)))"
      ],
      "execution_count": 37,
      "outputs": [
        {
          "output_type": "display_data",
          "data": {
            "image/png": "[encoded data removed]",
            "text/plain": [
              "<Figure size 432x288 with 1 Axes>"
            ]
          },
          "metadata": {
            "tags": [],
            "needs_background": "light"
          }
        },
        {
          "output_type": "execute_result",
          "data": {
            "text/plain": [
              "<sympy.plotting.plot.Plot at 0x7f994580bf98>"
            ]
          },
          "metadata": {
            "tags": []
          },
          "execution_count": 37
        }
      ]
    },
    {
      "cell_type": "markdown",
      "metadata": {
        "id": "beGqoOOma_3k"
      },
      "source": [
        "### Индивидуальное задание.  \n",
        "Исследовать функцию $f(x)$, найти минимальное и максимальное значение на каком-нибудь конечном интервале, не содержащем точек разрыва, построить график.\n",
        "###### 1. Область определения"
      ]
    },
    {
      "cell_type": "code",
      "metadata": {
        "id": "_K2I_vXda_3k"
      },
      "source": [
        ""
      ],
      "execution_count": null,
      "outputs": []
    },
    {
      "cell_type": "markdown",
      "metadata": {
        "id": "hmkUMHhSa_3k"
      },
      "source": [
        "Сингулярные точки (точки, где функция не определена)"
      ]
    },
    {
      "cell_type": "code",
      "metadata": {
        "id": "-SJU65Q3a_3k"
      },
      "source": [
        ""
      ],
      "execution_count": null,
      "outputs": []
    },
    {
      "cell_type": "markdown",
      "metadata": {
        "id": "QZLPJRvra_3l"
      },
      "source": [
        "###### 2. Область значений"
      ]
    },
    {
      "cell_type": "code",
      "metadata": {
        "id": "ivAjLmC6a_3l"
      },
      "source": [
        ""
      ],
      "execution_count": null,
      "outputs": []
    },
    {
      "cell_type": "markdown",
      "metadata": {
        "id": "ywf_oIGqa_3l"
      },
      "source": [
        "###### 3. Периодичность"
      ]
    },
    {
      "cell_type": "code",
      "metadata": {
        "id": "sbuz5skla_3m"
      },
      "source": [
        ""
      ],
      "execution_count": null,
      "outputs": []
    },
    {
      "cell_type": "markdown",
      "metadata": {
        "id": "2DvSwQXxa_3m"
      },
      "source": [
        "###### 4. Стационарные точки"
      ]
    },
    {
      "cell_type": "code",
      "metadata": {
        "id": "M_yOYhVca_3m"
      },
      "source": [
        ""
      ],
      "execution_count": null,
      "outputs": []
    },
    {
      "cell_type": "markdown",
      "metadata": {
        "id": "oLBxAXhNa_3m"
      },
      "source": [
        "###### 5. Максимальное и минимальное значения функции"
      ]
    },
    {
      "cell_type": "code",
      "metadata": {
        "id": "T5Jo36Nia_3n"
      },
      "source": [
        ""
      ],
      "execution_count": null,
      "outputs": []
    },
    {
      "cell_type": "markdown",
      "metadata": {
        "id": "Guc6jiZCa_3n"
      },
      "source": [
        "###### 6. Монотонность  "
      ]
    },
    {
      "cell_type": "code",
      "metadata": {
        "id": "1dLdrg28a_3n"
      },
      "source": [
        ""
      ],
      "execution_count": null,
      "outputs": []
    },
    {
      "cell_type": "markdown",
      "metadata": {
        "id": "y7Y-nYvoa_3o"
      },
      "source": [
        "###### 7. Минимальное и максимальное значение функции на интервале "
      ]
    },
    {
      "cell_type": "code",
      "metadata": {
        "id": "Phj_VmPra_3o"
      },
      "source": [
        ""
      ],
      "execution_count": null,
      "outputs": []
    },
    {
      "cell_type": "markdown",
      "metadata": {
        "id": "4AjdV_Lua_3o"
      },
      "source": [
        "###### График"
      ]
    },
    {
      "cell_type": "code",
      "metadata": {
        "id": "P0GCr6N3a_3o"
      },
      "source": [
        ""
      ],
      "execution_count": null,
      "outputs": []
    }
  ]
}