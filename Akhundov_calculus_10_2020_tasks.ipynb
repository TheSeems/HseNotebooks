{
  "nbformat": 4,
  "nbformat_minor": 0,
  "metadata": {
    "kernelspec": {
      "display_name": "Python 3",
      "language": "python",
      "name": "python3"
    },
    "language_info": {
      "codemirror_mode": {
        "name": "ipython",
        "version": 3
      },
      "file_extension": ".py",
      "mimetype": "text/x-python",
      "name": "python",
      "nbconvert_exporter": "python",
      "pygments_lexer": "ipython3",
      "version": "3.7.3"
    },
    "colab": {
      "name": "Akhundov_calculus_10_2020_tasks.ipynb",
      "provenance": [],
      "collapsed_sections": [],
      "include_colab_link": true
    }
  },
  "cells": [
    {
      "cell_type": "markdown",
      "metadata": {
        "id": "view-in-github",
        "colab_type": "text"
      },
      "source": [
        "<a href=\"https://colab.research.google.com/github/TheSeems/HseNotebooks/blob/main/Akhundov_calculus_10_2020_tasks.ipynb\" target=\"_parent\"><img src=\"https://colab.research.google.com/assets/colab-badge.svg\" alt=\"Open In Colab\"/></a>"
      ]
    },
    {
      "cell_type": "markdown",
      "metadata": {
        "id": "YE2Oav5VuCKp"
      },
      "source": [
        "## Занятие 10\n",
        "## Математический анализ\n",
        "## Кусочные функции, замена переменной в интеграле"
      ]
    },
    {
      "cell_type": "code",
      "metadata": {
        "id": "6ccsuQvauCKx"
      },
      "source": [
        "import sympy\n",
        "from sympy import S, Symbol, symbols, solve, solveset, integrate, Integral, diff, plot, Piecewise, latex\n",
        "from sympy import sin as Sin\n",
        "from sympy import cos as Cos\n",
        "from sympy import exp as Exp\n",
        "from sympy import log as Log\n",
        "from sympy import pi as Pi\n",
        "%matplotlib inline"
      ],
      "execution_count": 1,
      "outputs": []
    },
    {
      "cell_type": "markdown",
      "metadata": {
        "id": "LT5cJwgNuCKy"
      },
      "source": [
        "### Задача 1\n",
        "Описать функцию $F(x,a)=\\int_a^x f(t)\\,dt$, аргументами которой служат параметр $a$, функция $f$ и верхний предел $x$.\n",
        "\n",
        "Построить на одном графике $F(x, a)$ для функции $f(t) = t^2\\sin{t}$ при $a = 1/2, 1, 2$, $x \\in [-\\pi, \\pi]$.\n",
        "\n",
        "Найти производную построенной $F(x, a)$ по $x$ и сравнить с функцией $f$."
      ]
    },
    {
      "cell_type": "code",
      "metadata": {
        "colab": {
          "base_uri": "https://localhost:8080/",
          "height": 375
        },
        "id": "WEkO4Hg6uCKz",
        "outputId": "74248e7d-01a8-4f32-a26a-6e46b9716aaf"
      },
      "source": [
        "def f(x):\n",
        "  return x**2 * Sin(x)\n",
        "\n",
        "def F(x, a):\n",
        "  return integrate(f(x), (x, a, x))\n",
        "\n",
        "x = Symbol('x')\n",
        "list_a = [S(1) / 2, 1, 2]\n",
        "\n",
        "graph = plot(F(x, S(1) / 2), F(x, 1), F(x, 2), (x, -Pi, Pi), legend= True, xlabel='x', ylabel='f(x)', show=False)\n",
        "graph[0].line_color = 'blue'\n",
        "graph[1].line_color = 'magenta'\n",
        "graph[2].line_color = 'red'\n",
        "\n",
        "graph.show()\n",
        "display(\"F(x, a)'\", diff(F(x, 1), x), \"f(x)\", f(x))"
      ],
      "execution_count": 11,
      "outputs": [
        {
          "output_type": "display_data",
          "data": {
            "image/png": "[encoded data removed]",
            "text/plain": [
              "<Figure size 432x288 with 1 Axes>"
            ]
          },
          "metadata": {
            "tags": [],
            "needs_background": "light"
          }
        },
        {
          "output_type": "display_data",
          "data": {
            "application/vnd.google.colaboratory.intrinsic+json": {
              "type": "string"
            },
            "text/plain": [
              "\"F(x, a)'\""
            ]
          },
          "metadata": {
            "tags": []
          }
        },
        {
          "output_type": "display_data",
          "data": {
            "text/latex": "$\\displaystyle x^{2} \\sin{\\left(x \\right)}$",
            "text/plain": [
              "x**2*sin(x)"
            ]
          },
          "metadata": {
            "tags": []
          }
        },
        {
          "output_type": "display_data",
          "data": {
            "application/vnd.google.colaboratory.intrinsic+json": {
              "type": "string"
            },
            "text/plain": [
              "'f(x)'"
            ]
          },
          "metadata": {
            "tags": []
          }
        },
        {
          "output_type": "display_data",
          "data": {
            "text/latex": "$\\displaystyle x^{2} \\sin{\\left(x \\right)}$",
            "text/plain": [
              "x**2*sin(x)"
            ]
          },
          "metadata": {
            "tags": []
          }
        }
      ]
    },
    {
      "cell_type": "markdown",
      "metadata": {
        "id": "ehDk6p_EuCKz"
      },
      "source": [
        "### Задача 2.\n",
        "$$\n",
        "sign(x)=\\left\\{\\begin{matrix}\n",
        "-1,\\quad x<0\\\\\n",
        "0,\\quad x=0\\\\\n",
        "1,\\quad x>0\n",
        "\\end{matrix}\\right.\n",
        "$$\n",
        "Описать кусочную функцию $sign(x)$ и функцию $F(x)=\\int_{-1}^x sign(t)\\,dt$, аргумент обеих функций $x$. Построить график $sign(x)$ красной сплошной линией и $F(x)$ зеленой в одной плоскости на интервале $[-1, 2]$."
      ]
    },
    {
      "cell_type": "code",
      "metadata": {
        "colab": {
          "base_uri": "https://localhost:8080/",
          "height": 348
        },
        "id": "mbna3SXQuCK0",
        "outputId": "23891283-db1d-4023-9fd7-704a90a61cbc"
      },
      "source": [
        "import matplotlib.pyplot as plt\n",
        "sign = Piecewise(\n",
        "    (-1, x < 0),\n",
        "    (0, x == 0),\n",
        "    (1, x > 0)\n",
        ")\n",
        "\n",
        "display(sign)\n",
        "def F(x):\n",
        "  return integrate(sign, (x, -1, x))\n",
        "\n",
        "graph = plot(sign, F(x), (x, -1, 2), legend= True, xlabel='x', ylabel='f(x)', show=False, loc='left')\n",
        "graph[0].line_color = 'red'\n",
        "graph[1].line_color = 'green'\n",
        "\n",
        "graph.show()"
      ],
      "execution_count": 28,
      "outputs": [
        {
          "output_type": "display_data",
          "data": {
            "text/latex": "$\\displaystyle \\begin{cases} -1 & \\text{for}\\: x < 0 \\\\1 & \\text{for}\\: x > 0 \\end{cases}$",
            "text/plain": [
              "Piecewise((-1, x < 0), (1, x > 0))"
            ]
          },
          "metadata": {
            "tags": []
          }
        },
        {
          "output_type": "display_data",
          "data": {
            "image/png": "[encoded data removed]",
            "text/plain": [
              "<Figure size 432x288 with 1 Axes>"
            ]
          },
          "metadata": {
            "tags": [],
            "needs_background": "light"
          }
        }
      ]
    },
    {
      "cell_type": "markdown",
      "metadata": {
        "id": "teby3niDuCK0"
      },
      "source": [
        "### Задача 3.\n",
        "Построить график зависимости  от $x$ площади под графиком функции $\\sin t$ на отрезке $[0,x]$ при $x$ из $[\\pi/2, \\pi]$.\n",
        "Подписать вертикальную ось $S(x)$."
      ]
    },
    {
      "cell_type": "code",
      "metadata": {
        "colab": {
          "base_uri": "https://localhost:8080/",
          "height": 297
        },
        "id": "24LbjOFLuCK0",
        "outputId": "dbf02c39-3282-4aaf-a455-75d78b013317"
      },
      "source": [
        "def f(x):\n",
        "  return Sin(x)\n",
        "\n",
        "def F(t):\n",
        "  return integrate(f(x), (x, 0, t))\n",
        "\n",
        "graph = plot(F(x), (x, Pi / 2, Pi), legend= True, xlabel='x', ylabel='S(x)', show=False)\n",
        "graph[0].line_color = 'red'\n",
        "\n",
        "graph.show()"
      ],
      "execution_count": 36,
      "outputs": [
        {
          "output_type": "display_data",
          "data": {
            "image/png": "[encoded data removed]",
            "text/plain": [
              "<Figure size 432x288 with 1 Axes>"
            ]
          },
          "metadata": {
            "tags": [],
            "needs_background": "light"
          }
        }
      ]
    },
    {
      "cell_type": "markdown",
      "metadata": {
        "id": "2nD_F6d9uCK0"
      },
      "source": [
        "### Задача 4.\n",
        "В неопределенном интеграле $\\int \\frac1{2\\sqrt x}e^{\\sqrt x},\\,dx$ провести замену переменной $x=u^2$, вычислить полученный интеграл, сделать обратную замену и проверить правильность полученного результата дифференцированием.\n",
        "#### Указание.\n",
        "Нужно использовать положительный символ $u$."
      ]
    },
    {
      "cell_type": "code",
      "metadata": {
        "colab": {
          "base_uri": "https://localhost:8080/",
          "height": 162
        },
        "id": "XQ8ZNlWTuCK1",
        "outputId": "d5e7d08b-8a52-4b6d-d443-d06c53acfc41"
      },
      "source": [
        "Int = Integral(1 / (2 * sympy.sqrt(x)) * sympy.exp(sympy.sqrt(x)))\n",
        "display(Int)\n",
        "\n",
        "u = Symbol('u', positive=True)\n",
        "Int_next = sympy.simplify(Int.transform(x, u ** 2))\n",
        "result = Int_next.doit().subs(u, sympy.sqrt(x))\n",
        "\n",
        "display('Got', result, 'Derived', diff(result))"
      ],
      "execution_count": 50,
      "outputs": [
        {
          "output_type": "display_data",
          "data": {
            "text/latex": "$\\displaystyle \\int \\frac{e^{\\sqrt{x}}}{2 \\sqrt{x}}\\, dx$",
            "text/plain": [
              "Integral(exp(sqrt(x))/(2*sqrt(x)), x)"
            ]
          },
          "metadata": {
            "tags": []
          }
        },
        {
          "output_type": "display_data",
          "data": {
            "application/vnd.google.colaboratory.intrinsic+json": {
              "type": "string"
            },
            "text/plain": [
              "'Got'"
            ]
          },
          "metadata": {
            "tags": []
          }
        },
        {
          "output_type": "display_data",
          "data": {
            "text/latex": "$\\displaystyle e^{\\sqrt{x}}$",
            "text/plain": [
              "exp(sqrt(x))"
            ]
          },
          "metadata": {
            "tags": []
          }
        },
        {
          "output_type": "display_data",
          "data": {
            "application/vnd.google.colaboratory.intrinsic+json": {
              "type": "string"
            },
            "text/plain": [
              "'Derived'"
            ]
          },
          "metadata": {
            "tags": []
          }
        },
        {
          "output_type": "display_data",
          "data": {
            "text/latex": "$\\displaystyle \\frac{e^{\\sqrt{x}}}{2 \\sqrt{x}}$",
            "text/plain": [
              "exp(sqrt(x))/(2*sqrt(x))"
            ]
          },
          "metadata": {
            "tags": []
          }
        }
      ]
    },
    {
      "cell_type": "markdown",
      "metadata": {
        "id": "JIb1iODquCK1"
      },
      "source": [
        "### Задача 5.\n",
        "В определенном интеграле $$\\int_1^2 (x-1)^3e^{(x-1)^4}\\,dx$$ провести замену переменной $u = (x-1)^4$ и вычислить полученный интеграл."
      ]
    },
    {
      "cell_type": "code",
      "metadata": {
        "colab": {
          "base_uri": "https://localhost:8080/",
          "height": 177
        },
        "id": "WF1Q0ijSuCK1",
        "outputId": "589f83b8-7a26-4c56-8ca7-5f3b9d2506ae"
      },
      "source": [
        "Int = Integral((x - 1)**3 * sympy.exp((x - 1)**4), (x, 1, 2))\n",
        "display(Int)\n",
        "\n",
        "Int_next = Int.transform((x - 1)**4, u)\n",
        "result = Int_next.doit()\n",
        "\n",
        "display(Int_next, result)"
      ],
      "execution_count": 55,
      "outputs": [
        {
          "output_type": "display_data",
          "data": {
            "text/latex": "$\\displaystyle \\int\\limits_{1}^{2} \\left(x - 1\\right)^{3} e^{\\left(x - 1\\right)^{4}}\\, dx$",
            "text/plain": [
              "Integral((x - 1)**3*exp((x - 1)**4), (x, 1, 2))"
            ]
          },
          "metadata": {
            "tags": []
          }
        },
        {
          "output_type": "display_data",
          "data": {
            "text/latex": "$\\displaystyle \\int\\limits_{0}^{1} \\frac{e^{u}}{4}\\, du$",
            "text/plain": [
              "Integral(exp(u)/4, (u, 0, 1))"
            ]
          },
          "metadata": {
            "tags": []
          }
        },
        {
          "output_type": "display_data",
          "data": {
            "text/latex": "$\\displaystyle - \\frac{1}{4} + \\frac{e}{4}$",
            "text/plain": [
              "-1/4 + E/4"
            ]
          },
          "metadata": {
            "tags": []
          }
        }
      ]
    },
    {
      "cell_type": "markdown",
      "metadata": {
        "id": "9wT9ZHT-uCK2"
      },
      "source": [
        "### Индивидуальное задание\n",
        "Дана функция $f(x)$, вычислить площадь $s$ под графиком $f(x)$ на $[a,b]$.\n",
        "Построить график функции $f(x)$ на $[a,b]$ с заголовком  $\\int_a^b f(x)\\,dx = s$, где $a$, $b$, $f$ нужно подставить из условия,  $s$ - вычисленная площадь. Включить в легенду подпись $f(x)$, где вместо $f(x)$ должна быть соответствующая формула из условия, например $f(x) = 2xe^{x^2}$.\n",
        "\n",
        "Для автоматического получения формулы для легенды нужно воспользоваться функцией latex пакета SymPy (mode=\n",
        "'inline').\n",
        "\n",
        "#### Вариант 4\n",
        "$f(x) = 5x^2 \\sin(x), a = 2, b = 5$"
      ]
    },
    {
      "cell_type": "code",
      "metadata": {
        "colab": {
          "base_uri": "https://localhost:8080/",
          "height": 467
        },
        "id": "cEvW1s0xuCK2",
        "outputId": "b11761d7-a632-45fc-b5ae-202031f11363"
      },
      "source": [
        "from sympy import N\n",
        "\n",
        "def f(x):\n",
        "  return 5 * x**2 * Sin(x)\n",
        "\n",
        "a = 2\n",
        "b = 5\n",
        "\n",
        "Int = Integral(f(x), (x, a, b))\n",
        "display('Integral', Int)\n",
        "print()\n",
        "\n",
        "square = integrate(f(x), (x, a, b))\n",
        "display('Square', square)\n",
        "print()\n",
        "\n",
        "plot(f(x), (x, a, b), legend= True, xlabel='x', label=latex(f(x), mode='inline'), title = latex(Int, mode='inline') + ' = ' + str(N(square)))"
      ],
      "execution_count": 81,
      "outputs": [
        {
          "output_type": "display_data",
          "data": {
            "application/vnd.google.colaboratory.intrinsic+json": {
              "type": "string"
            },
            "text/plain": [
              "'Integral'"
            ]
          },
          "metadata": {
            "tags": []
          }
        },
        {
          "output_type": "display_data",
          "data": {
            "text/latex": "$\\displaystyle \\int\\limits_{2}^{5} 5 x^{2} \\sin{\\left(x \\right)}\\, dx$",
            "text/plain": [
              "Integral(5*x**2*sin(x), (x, 2, 5))"
            ]
          },
          "metadata": {
            "tags": []
          }
        },
        {
          "output_type": "stream",
          "text": [
            "\n"
          ],
          "name": "stdout"
        },
        {
          "output_type": "display_data",
          "data": {
            "application/vnd.google.colaboratory.intrinsic+json": {
              "type": "string"
            },
            "text/plain": [
              "'Square'"
            ]
          },
          "metadata": {
            "tags": []
          }
        },
        {
          "output_type": "display_data",
          "data": {
            "text/latex": "$\\displaystyle 50 \\sin{\\left(5 \\right)} - 115 \\cos{\\left(5 \\right)} - 20 \\sin{\\left(2 \\right)} + 10 \\cos{\\left(2 \\right)}$",
            "text/plain": [
              "50*sin(5) - 115*cos(5) - 20*sin(2) + 10*cos(2)"
            ]
          },
          "metadata": {
            "tags": []
          }
        },
        {
          "output_type": "stream",
          "text": [
            "\n"
          ],
          "name": "stdout"
        },
        {
          "output_type": "display_data",
          "data": {
            "image/png": "[encoded data removed]",
            "text/plain": [
              "<Figure size 432x288 with 1 Axes>"
            ]
          },
          "metadata": {
            "tags": [],
            "needs_background": "light"
          }
        },
        {
          "output_type": "execute_result",
          "data": {
            "text/plain": [
              "<sympy.plotting.plot.Plot at 0x7f0732005bd0>"
            ]
          },
          "metadata": {
            "tags": []
          },
          "execution_count": 81
        }
      ]
    },
    {
      "cell_type": "code",
      "metadata": {
        "id": "sGZJtxJ74BNO"
      },
      "source": [
        ""
      ],
      "execution_count": null,
      "outputs": []
    }
  ]
}