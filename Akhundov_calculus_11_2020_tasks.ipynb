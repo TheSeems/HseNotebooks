{
  "nbformat": 4,
  "nbformat_minor": 0,
  "metadata": {
    "kernelspec": {
      "display_name": "Python 3",
      "language": "python",
      "name": "python3"
    },
    "language_info": {
      "codemirror_mode": {
        "name": "ipython",
        "version": 3
      },
      "file_extension": ".py",
      "mimetype": "text/x-python",
      "name": "python",
      "nbconvert_exporter": "python",
      "pygments_lexer": "ipython3",
      "version": "3.7.3"
    },
    "colab": {
      "name": "Akhundov_calculus_11_2020_tasks.ipynb",
      "provenance": [],
      "collapsed_sections": [],
      "include_colab_link": true
    }
  },
  "cells": [
    {
      "cell_type": "markdown",
      "metadata": {
        "id": "view-in-github",
        "colab_type": "text"
      },
      "source": [
        "<a href=\"https://colab.research.google.com/github/TheSeems/HseNotebooks/blob/main/Akhundov_calculus_11_2020_tasks.ipynb\" target=\"_parent\"><img src=\"https://colab.research.google.com/assets/colab-badge.svg\" alt=\"Open In Colab\"/></a>"
      ]
    },
    {
      "cell_type": "code",
      "metadata": {
        "id": "KbINy3vICHvm"
      },
      "source": [
        "import sympy\n",
        "from sympy import S, Symbol, symbols, Function, integrate, diff, Curve, plot, plot_parametric, latex, solveset, Interval\n",
        "from sympy import sin as Sin\n",
        "from sympy import cos as Cos\n",
        "from sympy import pi as Pi\n",
        "%matplotlib inline"
      ],
      "execution_count": 2,
      "outputs": []
    },
    {
      "cell_type": "markdown",
      "metadata": {
        "id": "Uq-ykM5CCHvv"
      },
      "source": [
        "## Занятие 11\n",
        "## Математический анализ\n",
        "## Применение интегралов для вычисления площади фигуры и длины дуги \n",
        "\n",
        "### Задание 1\n",
        "Вычислить площадь фигуры, ограниченной графиками функций $f = 2 + x^2$ и  $g = 2 - x^3$. Построить графики, найти точки пересечения, затем вычислить соответствующие интегралы."
      ]
    },
    {
      "cell_type": "code",
      "metadata": {
        "id": "azx3TB1RCHvv",
        "colab": {
          "base_uri": "https://localhost:8080/",
          "height": 139
        },
        "outputId": "29fd3632-804e-47b4-893e-1ae2df442e7c"
      },
      "source": [
        "x = Symbol('x')\n",
        "f = 2 + x**2\n",
        "h = 2 - x**3\n",
        "\n",
        "inter = sorted(list(solveset(sympy.Eq(f, h))))\n",
        "a, b = inter\n",
        "\n",
        "first_square = integrate(f, (x, a, b))\n",
        "second_square = integrate(h, (x, a, b))\n",
        "square = abs(first_square - second_square)\n",
        "\n",
        "# Alternative method\n",
        "square_alt = integrate(f - h, (x, a, b))\n",
        "\n",
        "display('Square', square)\n",
        "print()\n",
        "display('Alternative', square_alt)"
      ],
      "execution_count": 3,
      "outputs": [
        {
          "output_type": "display_data",
          "data": {
            "application/vnd.google.colaboratory.intrinsic+json": {
              "type": "string"
            },
            "text/plain": [
              "'Square'"
            ]
          },
          "metadata": {
            "tags": []
          }
        },
        {
          "output_type": "display_data",
          "data": {
            "text/latex": "$\\displaystyle \\frac{1}{12}$",
            "text/plain": [
              "1/12"
            ]
          },
          "metadata": {
            "tags": []
          }
        },
        {
          "output_type": "stream",
          "text": [
            "\n"
          ],
          "name": "stdout"
        },
        {
          "output_type": "display_data",
          "data": {
            "application/vnd.google.colaboratory.intrinsic+json": {
              "type": "string"
            },
            "text/plain": [
              "'Alternative'"
            ]
          },
          "metadata": {
            "tags": []
          }
        },
        {
          "output_type": "display_data",
          "data": {
            "text/latex": "$\\displaystyle \\frac{1}{12}$",
            "text/plain": [
              "1/12"
            ]
          },
          "metadata": {
            "tags": []
          }
        }
      ]
    },
    {
      "cell_type": "markdown",
      "metadata": {
        "id": "zmoSu_A3CHvw"
      },
      "source": [
        "### Задача 2.\n",
        "Вычислить площадь фигуры, ограниченной графиком функции $x = \\cos^3(t)$, $y = \\sin^3(t)$, $0 \\le t \\le 2\\pi$."
      ]
    },
    {
      "cell_type": "code",
      "metadata": {
        "id": "OFFcz_jUCHvw",
        "colab": {
          "base_uri": "https://localhost:8080/",
          "height": 51
        },
        "outputId": "ea9822a7-4ab0-4775-ad80-65aba417f647"
      },
      "source": [
        "t = Symbol('t', positive=True)\n",
        "a = 0\n",
        "b = 2 * sympy.pi\n",
        "\n",
        "xt = sympy.cos(t)**3\n",
        "yt = sympy.sin(t)**3\n",
        "\n",
        "f = yt * xt.diff(t)\n",
        "result = integrate(f, (t, b, a))\n",
        "\n",
        "# Multiply by two as we're considering the upper half of the grid, and as for the symmetry of the figure, the area at the lower half is equal to the area at the upper half\n",
        "display(result * 2)"
      ],
      "execution_count": 4,
      "outputs": [
        {
          "output_type": "display_data",
          "data": {
            "text/latex": "$\\displaystyle \\frac{3 \\pi}{4}$",
            "text/plain": [
              "3*pi/4"
            ]
          },
          "metadata": {
            "tags": []
          }
        }
      ]
    },
    {
      "cell_type": "markdown",
      "metadata": {
        "id": "n43vdmDWCHvx"
      },
      "source": [
        "### Задача 3.\n",
        "Вычислить площадь фигуры, ограниченной графиком функции $r = \\cos(2\\phi)$, $-\\frac{\\pi}{4} \\le \\phi \\le \\frac{\\pi}{4}$. "
      ]
    },
    {
      "cell_type": "code",
      "metadata": {
        "id": "_iiwuqSlCHvx",
        "colab": {
          "base_uri": "https://localhost:8080/",
          "height": 48
        },
        "outputId": "ee3614e3-1388-4a38-b938-453abb328582"
      },
      "source": [
        "phi = Symbol('\\varphi')\n",
        "a = -sympy.pi / 4\n",
        "b = sympy.pi / 4\n",
        "\n",
        "r = sympy.cos(2 * phi)\n",
        "square = integrate(r**2, (phi, a, b)) / 2\n",
        "\n",
        "\n",
        "display(square * 2)"
      ],
      "execution_count": 5,
      "outputs": [
        {
          "output_type": "display_data",
          "data": {
            "text/latex": "$\\displaystyle \\frac{\\pi}{4}$",
            "text/plain": [
              "pi/4"
            ]
          },
          "metadata": {
            "tags": []
          }
        }
      ]
    },
    {
      "cell_type": "markdown",
      "metadata": {
        "id": "6DBJg7jjCHvx"
      },
      "source": [
        "### Задача 4.\n",
        "Вычислить длину кривой, заданной уравнением $y^2 = x^3$ при $x$ от 1 до 3. (Обратите внимание, что у кривой две ветви, симметричные относительно оси OX!)"
      ]
    },
    {
      "cell_type": "code",
      "metadata": {
        "id": "pBOX3fr8CHvx",
        "colab": {
          "base_uri": "https://localhost:8080/",
          "height": 56
        },
        "outputId": "66aefc51-f6ac-40f4-915e-f726284b3c90"
      },
      "source": [
        "a = 1\n",
        "b = 3\n",
        "\n",
        "f = x**(S(3) / 2)\n",
        "length = 2 * integrate(sympy.sqrt(1 + f.diff(x)**2), (x, a, b))\n",
        "\n",
        "display(length)"
      ],
      "execution_count": 6,
      "outputs": [
        {
          "output_type": "display_data",
          "data": {
            "text/latex": "$\\displaystyle - \\frac{26 \\sqrt{13}}{27} + \\frac{62 \\sqrt{31}}{27}$",
            "text/plain": [
              "-26*sqrt(13)/27 + 62*sqrt(31)/27"
            ]
          },
          "metadata": {
            "tags": []
          }
        }
      ]
    },
    {
      "cell_type": "markdown",
      "metadata": {
        "id": "wkkKvdIpCHvy"
      },
      "source": [
        "### Задача 5.\n",
        "Вычислить длину кривой, заданной параметрически $x = \\frac{3}{2}\\cos^3 t $, $y = 3\\sin^3 t$."
      ]
    },
    {
      "cell_type": "code",
      "metadata": {
        "id": "evvOth6JCHvy",
        "colab": {
          "base_uri": "https://localhost:8080/",
          "height": 57
        },
        "outputId": "56d9e77b-16bd-4567-cdaf-247e7afa7d9a"
      },
      "source": [
        "phi = S(3) / 2 * sympy.cos(t)**3\n",
        "psi = 3 * sympy.sin(t)**3\n",
        "\n",
        "func = sympy.simplify(sympy.sqrt( (phi.diff(t))**2 + (psi.diff(t))**2 ))\n",
        "length = 2 * integrate(func, (t, 0, sympy.pi))\n",
        "\n",
        "display(length)"
      ],
      "execution_count": 11,
      "outputs": [
        {
          "output_type": "display_data",
          "data": {
            "text/latex": "$\\displaystyle 14$",
            "text/plain": [
              "14"
            ]
          },
          "metadata": {
            "tags": []
          }
        },
        {
          "output_type": "display_data",
          "data": {
            "text/latex": "$\\displaystyle 14.0$",
            "text/plain": [
              "14.0000000000000"
            ]
          },
          "metadata": {
            "tags": []
          }
        }
      ]
    },
    {
      "cell_type": "markdown",
      "metadata": {
        "id": "vEgMacbgCHvy"
      },
      "source": [
        "### Задача 6.\n",
        "Вычислить длину кривой, заданной в полярных координатах\n",
        "$r = \\phi$, $\\phi$ от 0 до $2\\pi$. Результат вычислить приближенно до 3 знаков после запятой."
      ]
    },
    {
      "cell_type": "code",
      "metadata": {
        "id": "DRR28-D7CHvy",
        "colab": {
          "base_uri": "https://localhost:8080/",
          "height": 73
        },
        "outputId": "ee1c4c9c-c39c-442e-c225-d8f08e532a21"
      },
      "source": [
        "a = 0\n",
        "b = 2 * sympy.pi\n",
        "\n",
        "phi = Symbol('\\varphi')\n",
        "r = phi\n",
        "\n",
        "result = integrate(sympy.sqrt( r**2 + (r.diff(phi))**2 ), (phi, a, b))\n",
        "display(result, result.evalf())"
      ],
      "execution_count": 9,
      "outputs": [
        {
          "output_type": "display_data",
          "data": {
            "text/latex": "$\\displaystyle \\frac{\\operatorname{asinh}{\\left(2 \\pi \\right)}}{2} + \\pi \\sqrt{1 + 4 \\pi^{2}}$",
            "text/plain": [
              "asinh(2*pi)/2 + pi*sqrt(1 + 4*pi**2)"
            ]
          },
          "metadata": {
            "tags": []
          }
        },
        {
          "output_type": "display_data",
          "data": {
            "text/latex": "$\\displaystyle 21.2562941482091$",
            "text/plain": [
              "21.2562941482091"
            ]
          },
          "metadata": {
            "tags": []
          }
        }
      ]
    },
    {
      "cell_type": "markdown",
      "metadata": {
        "id": "gNctifYXCHvz"
      },
      "source": [
        "### Индивидуальное задание\n",
        "Вычислить площадь фигуры, ограниченной графиками функций $f = 2\\sin(x)$ и  $g = \\cos(2x)$ на интервале  $[0, \\pi]$. Построить графики, найти точки пересечения (выделить корни на интервале с помощью intersect и Interval), затем вычислить соответствующие интегралы."
      ]
    },
    {
      "cell_type": "code",
      "metadata": {
        "id": "v-7BD9qLCHvz"
      },
      "source": [
        ""
      ],
      "execution_count": null,
      "outputs": []
    }
  ]
}