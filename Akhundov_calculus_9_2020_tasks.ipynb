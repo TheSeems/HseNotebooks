{
  "nbformat": 4,
  "nbformat_minor": 0,
  "metadata": {
    "kernelspec": {
      "display_name": "Python 3",
      "language": "python",
      "name": "python3"
    },
    "language_info": {
      "codemirror_mode": {
        "name": "ipython",
        "version": 3
      },
      "file_extension": ".py",
      "mimetype": "text/x-python",
      "name": "python",
      "nbconvert_exporter": "python",
      "pygments_lexer": "ipython3",
      "version": "3.7.3"
    },
    "colab": {
      "name": "Akhundov_calculus_9_2020_tasks",
      "provenance": [],
      "collapsed_sections": [],
      "include_colab_link": true
    }
  },
  "cells": [
    {
      "cell_type": "markdown",
      "metadata": {
        "id": "view-in-github",
        "colab_type": "text"
      },
      "source": [
        "<a href=\"https://colab.research.google.com/github/TheSeems/HseNotebooks/blob/main/Akhundov_calculus_9_2020_tasks.ipynb\" target=\"_parent\"><img src=\"https://colab.research.google.com/assets/colab-badge.svg\" alt=\"Open In Colab\"/></a>"
      ]
    },
    {
      "cell_type": "code",
      "metadata": {
        "id": "ZghfkQPlA4dL"
      },
      "source": [
        "import sympy\n",
        "from sympy import Symbol, symbols, S, Function, integrate, Integral, diff, solve"
      ],
      "execution_count": 70,
      "outputs": []
    },
    {
      "cell_type": "markdown",
      "metadata": {
        "id": "NNlLKbVrA4dO"
      },
      "source": [
        "## Занятие 9\n",
        "## Математический анализ\n",
        "## Интегрирование функции: первообразная и неопределенный интеграл\n",
        "https://docs.sympy.org/1.5.1/modules/integrals/integrals.html\n",
        "\n",
        "https://ru.wikipedia.org/wiki/%D0%9F%D0%B5%D1%80%D0%B2%D0%BE%D0%BE%D0%B1%D1%80%D0%B0%D0%B7%D0%BD%D0%B0%D1%8F\n",
        "\n",
        "https://ru.wikipedia.org/wiki/%D0%A1%D0%BF%D0%B8%D1%81%D0%BE%D0%BA_%D0%B8%D0%BD%D1%82%D0%B5%D0%B3%D1%80%D0%B0%D0%BB%D0%BE%D0%B2_%D1%8D%D0%BB%D0%B5%D0%BC%D0%B5%D0%BD%D1%82%D0%B0%D1%80%D0%BD%D1%8B%D1%85_%D1%84%D1%83%D0%BD%D0%BA%D1%86%D0%B8%D0%B9"
      ]
    },
    {
      "cell_type": "markdown",
      "metadata": {
        "id": "nH9sgqKaA4dO"
      },
      "source": [
        "### Задача 1.\n",
        "Вычислить определенные интегралы:\n",
        "$$\n",
        "1)\\ \\int_2^3 \\frac{1}{\\sqrt{x-2}},\\ 2) \\int_1^6 \\frac{1}{(x-1)^3},\\ 3)\\ \\int_2^\\infty \\frac{1}{(x-1)^3} \n",
        "$$"
      ]
    },
    {
      "cell_type": "code",
      "metadata": {
        "colab": {
          "base_uri": "https://localhost:8080/",
          "height": 366
        },
        "id": "aqfIE5JjA4dP",
        "outputId": "a6ee4f09-1aa1-482f-81e2-a8ab6a33e5b1"
      },
      "source": [
        "x = Symbol('x')\n",
        "statements = [\n",
        "  [1 / sympy.sqrt(x - 2), 2, 3],\n",
        "  [1 / (x - 1) ** 3, 1, 6],\n",
        "  [1 / (x - 1) ** 3, 2, sympy.oo]\n",
        "]\n",
        "\n",
        "for function, a, b in statements:\n",
        "  print(' ')\n",
        "  display(function)\n",
        "  print('integrate from', a, 'to', str(b) + ': ')\n",
        "  display(function.integrate((x, a, b)))\n",
        "  print(' ')"
      ],
      "execution_count": 71,
      "outputs": [
        {
          "output_type": "stream",
          "text": [
            " \n"
          ],
          "name": "stdout"
        },
        {
          "output_type": "display_data",
          "data": {
            "text/latex": "$\\displaystyle \\frac{1}{\\sqrt{x - 2}}$",
            "text/plain": [
              "1/sqrt(x - 2)"
            ]
          },
          "metadata": {
            "tags": []
          }
        },
        {
          "output_type": "stream",
          "text": [
            "integrate from 2 to 3: \n"
          ],
          "name": "stdout"
        },
        {
          "output_type": "display_data",
          "data": {
            "text/latex": "$\\displaystyle 2$",
            "text/plain": [
              "2"
            ]
          },
          "metadata": {
            "tags": []
          }
        },
        {
          "output_type": "stream",
          "text": [
            " \n",
            " \n"
          ],
          "name": "stdout"
        },
        {
          "output_type": "display_data",
          "data": {
            "text/latex": "$\\displaystyle \\frac{1}{\\left(x - 1\\right)^{3}}$",
            "text/plain": [
              "(x - 1)**(-3)"
            ]
          },
          "metadata": {
            "tags": []
          }
        },
        {
          "output_type": "stream",
          "text": [
            "integrate from 1 to 6: \n"
          ],
          "name": "stdout"
        },
        {
          "output_type": "display_data",
          "data": {
            "text/latex": "$\\displaystyle \\infty$",
            "text/plain": [
              "oo"
            ]
          },
          "metadata": {
            "tags": []
          }
        },
        {
          "output_type": "stream",
          "text": [
            " \n",
            " \n"
          ],
          "name": "stdout"
        },
        {
          "output_type": "display_data",
          "data": {
            "text/latex": "$\\displaystyle \\frac{1}{\\left(x - 1\\right)^{3}}$",
            "text/plain": [
              "(x - 1)**(-3)"
            ]
          },
          "metadata": {
            "tags": []
          }
        },
        {
          "output_type": "stream",
          "text": [
            "integrate from 2 to oo: \n"
          ],
          "name": "stdout"
        },
        {
          "output_type": "display_data",
          "data": {
            "text/latex": "$\\displaystyle \\frac{1}{2}$",
            "text/plain": [
              "1/2"
            ]
          },
          "metadata": {
            "tags": []
          }
        },
        {
          "output_type": "stream",
          "text": [
            " \n"
          ],
          "name": "stdout"
        }
      ]
    },
    {
      "cell_type": "markdown",
      "metadata": {
        "id": "m47hozxoA4dP"
      },
      "source": [
        "### Задача 2\n",
        "Описать функцию, находящую неопределенный интеграл $\\int f(x)\\,dx$ в виде $F(x)+C$.\n",
        "\n",
        "Использовать эту функцию для интегрирования $\\sin(3x+5)$, $x{\\rm tg}(x^2)$, $(e^{\\sin x})\\cos x$, $x^2e^{x^3}$"
      ]
    },
    {
      "cell_type": "code",
      "metadata": {
        "colab": {
          "base_uri": "https://localhost:8080/",
          "height": 378
        },
        "id": "cyf95bKRA4dQ",
        "outputId": "1764e329-d963-4b12-a42d-967a47298e44"
      },
      "source": [
        "C = Symbol('C')\n",
        "\n",
        "def implicit_integral(func):\n",
        "  return func.integrate() + C\n",
        "\n",
        "funcs = [\n",
        "    sympy.sin(3 * x + 5),\n",
        "    x * sympy.tan(x**2), sympy.exp(sympy.sin(x)) * sympy.cos(x),\n",
        "    x**2 * sympy.exp(x**3)\n",
        "]\n",
        "\n",
        "for func in funcs:\n",
        "  print('')\n",
        "  display(func, implicit_integral(func))\n",
        "  print('')"
      ],
      "execution_count": 72,
      "outputs": [
        {
          "output_type": "stream",
          "text": [
            "\n"
          ],
          "name": "stdout"
        },
        {
          "output_type": "display_data",
          "data": {
            "text/latex": "$\\displaystyle \\sin{\\left(3 x + 5 \\right)}$",
            "text/plain": [
              "sin(3*x + 5)"
            ]
          },
          "metadata": {
            "tags": []
          }
        },
        {
          "output_type": "display_data",
          "data": {
            "text/latex": "$\\displaystyle C - \\frac{\\cos{\\left(3 x + 5 \\right)}}{3}$",
            "text/plain": [
              "C - cos(3*x + 5)/3"
            ]
          },
          "metadata": {
            "tags": []
          }
        },
        {
          "output_type": "stream",
          "text": [
            "\n",
            "\n"
          ],
          "name": "stdout"
        },
        {
          "output_type": "display_data",
          "data": {
            "text/latex": "$\\displaystyle x \\tan{\\left(x^{2} \\right)}$",
            "text/plain": [
              "x*tan(x**2)"
            ]
          },
          "metadata": {
            "tags": []
          }
        },
        {
          "output_type": "display_data",
          "data": {
            "text/latex": "$\\displaystyle C + \\frac{\\log{\\left(\\tan^{2}{\\left(x^{2} \\right)} + 1 \\right)}}{4}$",
            "text/plain": [
              "C + log(tan(x**2)**2 + 1)/4"
            ]
          },
          "metadata": {
            "tags": []
          }
        },
        {
          "output_type": "stream",
          "text": [
            "\n",
            "\n"
          ],
          "name": "stdout"
        },
        {
          "output_type": "display_data",
          "data": {
            "text/latex": "$\\displaystyle e^{\\sin{\\left(x \\right)}} \\cos{\\left(x \\right)}$",
            "text/plain": [
              "exp(sin(x))*cos(x)"
            ]
          },
          "metadata": {
            "tags": []
          }
        },
        {
          "output_type": "display_data",
          "data": {
            "text/latex": "$\\displaystyle C + e^{\\sin{\\left(x \\right)}}$",
            "text/plain": [
              "C + exp(sin(x))"
            ]
          },
          "metadata": {
            "tags": []
          }
        },
        {
          "output_type": "stream",
          "text": [
            "\n",
            "\n"
          ],
          "name": "stdout"
        },
        {
          "output_type": "display_data",
          "data": {
            "text/latex": "$\\displaystyle x^{2} e^{x^{3}}$",
            "text/plain": [
              "x**2*exp(x**3)"
            ]
          },
          "metadata": {
            "tags": []
          }
        },
        {
          "output_type": "display_data",
          "data": {
            "text/latex": "$\\displaystyle C + \\frac{e^{x^{3}}}{3}$",
            "text/plain": [
              "C + exp(x**3)/3"
            ]
          },
          "metadata": {
            "tags": []
          }
        },
        {
          "output_type": "stream",
          "text": [
            "\n"
          ],
          "name": "stdout"
        }
      ]
    },
    {
      "cell_type": "markdown",
      "metadata": {
        "id": "BBpAHiOYA4dQ"
      },
      "source": [
        "### Задача 3.\n",
        "Найти первообразную функции $\\frac{x-3}{(x+1)^2}$, график которой проходит через начало координат."
      ]
    },
    {
      "cell_type": "code",
      "metadata": {
        "colab": {
          "base_uri": "https://localhost:8080/",
          "height": 52
        },
        "id": "XZfps2eEA4dR",
        "outputId": "1a3d64a1-c66b-4e03-99eb-ba38f66c4d8f"
      },
      "source": [
        "f = (x - 3) / ((x + 1) ** 2)\n",
        "FPC = implicit_integral(f)\n",
        "\n",
        "# In x=0 => f=0\n",
        "solutions = sympy.solveset(sympy.Eq(FPC.subs(x, 0), 0))\n",
        "first_solution = list(solutions)[0]\n",
        "\n",
        "# Sub for C\n",
        "display(FPC.subs(C, first_solution))"
      ],
      "execution_count": 73,
      "outputs": [
        {
          "output_type": "display_data",
          "data": {
            "text/latex": "$\\displaystyle \\log{\\left(x + 1 \\right)} - 4 + \\frac{4}{x + 1}$",
            "text/plain": [
              "log(x + 1) - 4 + 4/(x + 1)"
            ]
          },
          "metadata": {
            "tags": []
          }
        }
      ]
    },
    {
      "cell_type": "markdown",
      "metadata": {
        "id": "2Be084I5A4dR"
      },
      "source": [
        "### Задача 4.\n",
        "Описать функцию, вычисляющую неопределенный интеграл от $\\frac{1}{\\sqrt{x^2+a}}$ по формуле \"длинного логарифма\":\n",
        "$$\n",
        "\\int\\frac{1}{\\sqrt{x^2+a}} = \\ln|x + \\sqrt{x^2 + a}| + C,\\quad a \\neq 0. \n",
        "$$\n",
        "Функция возвращает $\\ln|x| + C$ при $a = 0$. Аргументы функции - переменная интегрирования $x$ и параметр $a$.\n",
        "\n",
        "Вызвать функцию при $a = 0, 1, 4$. Сравнить с результатом integrate.\n",
        "\n",
        "Проверить дифференцированием, при необходимости использовать simplyfy для того, чтобы упростить выражение.\n",
        "\n",
        "Рекомендется создавать положительные символы, чтобы не было неоднозначности."
      ]
    },
    {
      "cell_type": "code",
      "metadata": {
        "colab": {
          "base_uri": "https://localhost:8080/",
          "height": 872
        },
        "id": "wx0YfvU6A4dR",
        "outputId": "506b1578-c4cc-4c58-a895-3241a7bb1ba5"
      },
      "source": [
        "x = Symbol('x', positive=True)\n",
        "\n",
        "def long_log_integrate(a):\n",
        "  if a == 0:\n",
        "    return sympy.ln(abs(x)) + C\n",
        "  return sympy.ln(abs(x + sympy.sqrt(x ** 2 + a))) + C\n",
        "\n",
        "a_list = [0, 1, 4]\n",
        "\n",
        "for a in a_list:\n",
        "  print(' ')\n",
        "  func = 1 / sympy.sqrt(x ** 2 + a)\n",
        "  impl, lolog = implicit_integral(func), long_log_integrate(a)\n",
        "  display('function', func)\n",
        "  display('sympy integral: ', impl)\n",
        "  display('long logarithm integral: ', lolog)\n",
        "  print()\n",
        "  print('Проверка дифференцированием: ')\n",
        "  display(sympy.simplify(diff(impl - C)), sympy.simplify(diff(lolog - C)))\n",
        "  print(' ')\n"
      ],
      "execution_count": 82,
      "outputs": [
        {
          "output_type": "stream",
          "text": [
            " \n"
          ],
          "name": "stdout"
        },
        {
          "output_type": "display_data",
          "data": {
            "application/vnd.google.colaboratory.intrinsic+json": {
              "type": "string"
            },
            "text/plain": [
              "'function'"
            ]
          },
          "metadata": {
            "tags": []
          }
        },
        {
          "output_type": "display_data",
          "data": {
            "text/latex": "$\\displaystyle \\frac{1}{x}$",
            "text/plain": [
              "1/x"
            ]
          },
          "metadata": {
            "tags": []
          }
        },
        {
          "output_type": "display_data",
          "data": {
            "application/vnd.google.colaboratory.intrinsic+json": {
              "type": "string"
            },
            "text/plain": [
              "'sympy integral: '"
            ]
          },
          "metadata": {
            "tags": []
          }
        },
        {
          "output_type": "display_data",
          "data": {
            "text/latex": "$\\displaystyle C + \\log{\\left(x \\right)}$",
            "text/plain": [
              "C + log(x)"
            ]
          },
          "metadata": {
            "tags": []
          }
        },
        {
          "output_type": "display_data",
          "data": {
            "application/vnd.google.colaboratory.intrinsic+json": {
              "type": "string"
            },
            "text/plain": [
              "'long logarithm integral: '"
            ]
          },
          "metadata": {
            "tags": []
          }
        },
        {
          "output_type": "display_data",
          "data": {
            "text/latex": "$\\displaystyle C + \\log{\\left(x \\right)}$",
            "text/plain": [
              "C + log(x)"
            ]
          },
          "metadata": {
            "tags": []
          }
        },
        {
          "output_type": "stream",
          "text": [
            "\n",
            "Проверка дифференцированием: \n"
          ],
          "name": "stdout"
        },
        {
          "output_type": "display_data",
          "data": {
            "text/latex": "$\\displaystyle \\frac{1}{x}$",
            "text/plain": [
              "1/x"
            ]
          },
          "metadata": {
            "tags": []
          }
        },
        {
          "output_type": "display_data",
          "data": {
            "text/latex": "$\\displaystyle \\frac{1}{x}$",
            "text/plain": [
              "1/x"
            ]
          },
          "metadata": {
            "tags": []
          }
        },
        {
          "output_type": "stream",
          "text": [
            " \n",
            " \n"
          ],
          "name": "stdout"
        },
        {
          "output_type": "display_data",
          "data": {
            "application/vnd.google.colaboratory.intrinsic+json": {
              "type": "string"
            },
            "text/plain": [
              "'function'"
            ]
          },
          "metadata": {
            "tags": []
          }
        },
        {
          "output_type": "display_data",
          "data": {
            "text/latex": "$\\displaystyle \\frac{1}{\\sqrt{x^{2} + 1}}$",
            "text/plain": [
              "1/sqrt(x**2 + 1)"
            ]
          },
          "metadata": {
            "tags": []
          }
        },
        {
          "output_type": "display_data",
          "data": {
            "application/vnd.google.colaboratory.intrinsic+json": {
              "type": "string"
            },
            "text/plain": [
              "'sympy integral: '"
            ]
          },
          "metadata": {
            "tags": []
          }
        },
        {
          "output_type": "display_data",
          "data": {
            "text/latex": "$\\displaystyle C + \\operatorname{asinh}{\\left(x \\right)}$",
            "text/plain": [
              "C + asinh(x)"
            ]
          },
          "metadata": {
            "tags": []
          }
        },
        {
          "output_type": "display_data",
          "data": {
            "application/vnd.google.colaboratory.intrinsic+json": {
              "type": "string"
            },
            "text/plain": [
              "'long logarithm integral: '"
            ]
          },
          "metadata": {
            "tags": []
          }
        },
        {
          "output_type": "display_data",
          "data": {
            "text/latex": "$\\displaystyle C + \\log{\\left(x + \\sqrt{x^{2} + 1} \\right)}$",
            "text/plain": [
              "C + log(x + sqrt(x**2 + 1))"
            ]
          },
          "metadata": {
            "tags": []
          }
        },
        {
          "output_type": "stream",
          "text": [
            "\n",
            "Проверка дифференцированием: \n"
          ],
          "name": "stdout"
        },
        {
          "output_type": "display_data",
          "data": {
            "text/latex": "$\\displaystyle \\frac{1}{\\sqrt{x^{2} + 1}}$",
            "text/plain": [
              "1/sqrt(x**2 + 1)"
            ]
          },
          "metadata": {
            "tags": []
          }
        },
        {
          "output_type": "display_data",
          "data": {
            "text/latex": "$\\displaystyle \\frac{1}{\\sqrt{x^{2} + 1}}$",
            "text/plain": [
              "1/sqrt(x**2 + 1)"
            ]
          },
          "metadata": {
            "tags": []
          }
        },
        {
          "output_type": "stream",
          "text": [
            " \n",
            " \n"
          ],
          "name": "stdout"
        },
        {
          "output_type": "display_data",
          "data": {
            "application/vnd.google.colaboratory.intrinsic+json": {
              "type": "string"
            },
            "text/plain": [
              "'function'"
            ]
          },
          "metadata": {
            "tags": []
          }
        },
        {
          "output_type": "display_data",
          "data": {
            "text/latex": "$\\displaystyle \\frac{1}{\\sqrt{x^{2} + 4}}$",
            "text/plain": [
              "1/sqrt(x**2 + 4)"
            ]
          },
          "metadata": {
            "tags": []
          }
        },
        {
          "output_type": "display_data",
          "data": {
            "application/vnd.google.colaboratory.intrinsic+json": {
              "type": "string"
            },
            "text/plain": [
              "'sympy integral: '"
            ]
          },
          "metadata": {
            "tags": []
          }
        },
        {
          "output_type": "display_data",
          "data": {
            "text/latex": "$\\displaystyle C + \\operatorname{asinh}{\\left(\\frac{x}{2} \\right)}$",
            "text/plain": [
              "C + asinh(x/2)"
            ]
          },
          "metadata": {
            "tags": []
          }
        },
        {
          "output_type": "display_data",
          "data": {
            "application/vnd.google.colaboratory.intrinsic+json": {
              "type": "string"
            },
            "text/plain": [
              "'long logarithm integral: '"
            ]
          },
          "metadata": {
            "tags": []
          }
        },
        {
          "output_type": "display_data",
          "data": {
            "text/latex": "$\\displaystyle C + \\log{\\left(x + \\sqrt{x^{2} + 4} \\right)}$",
            "text/plain": [
              "C + log(x + sqrt(x**2 + 4))"
            ]
          },
          "metadata": {
            "tags": []
          }
        },
        {
          "output_type": "stream",
          "text": [
            "\n",
            "Проверка дифференцированием: \n"
          ],
          "name": "stdout"
        },
        {
          "output_type": "display_data",
          "data": {
            "text/latex": "$\\displaystyle \\frac{1}{\\sqrt{x^{2} + 4}}$",
            "text/plain": [
              "1/sqrt(x**2 + 4)"
            ]
          },
          "metadata": {
            "tags": []
          }
        },
        {
          "output_type": "display_data",
          "data": {
            "text/latex": "$\\displaystyle \\frac{1}{\\sqrt{x^{2} + 4}}$",
            "text/plain": [
              "1/sqrt(x**2 + 4)"
            ]
          },
          "metadata": {
            "tags": []
          }
        },
        {
          "output_type": "stream",
          "text": [
            " \n"
          ],
          "name": "stdout"
        }
      ]
    },
    {
      "cell_type": "markdown",
      "metadata": {
        "id": "82j-AEGiA4dS"
      },
      "source": [
        "### Задача 5.\n",
        "Провести замену переменной $y = x^2$ в интеграле $\\int x e^{x^2}\\,dx$."
      ]
    },
    {
      "cell_type": "code",
      "metadata": {
        "colab": {
          "base_uri": "https://localhost:8080/",
          "height": 92
        },
        "id": "OanYpMJFA4dS",
        "outputId": "8339e498-f964-47e2-df28-3ab50f3ce550"
      },
      "source": [
        "y = Symbol('y', positive=True)\n",
        "I1 = Integral(x * sympy.exp(x ** 2))\n",
        "display(I1)\n",
        "display(I1.transform(x**2, y))"
      ],
      "execution_count": 75,
      "outputs": [
        {
          "output_type": "display_data",
          "data": {
            "text/latex": "$\\displaystyle \\int x e^{x^{2}}\\, dx$",
            "text/plain": [
              "Integral(x*exp(x**2), x)"
            ]
          },
          "metadata": {
            "tags": []
          }
        },
        {
          "output_type": "display_data",
          "data": {
            "text/latex": "$\\displaystyle \\int \\frac{e^{y}}{2}\\, dy$",
            "text/plain": [
              "Integral(exp(y)/2, y)"
            ]
          },
          "metadata": {
            "tags": []
          }
        }
      ]
    },
    {
      "cell_type": "markdown",
      "metadata": {
        "id": "s6z_WCUeA4dS"
      },
      "source": [
        "### Индивидуальное задание\n",
        "Провести замену переменных в определенном интеграле, представить результат в виде двух уравнений, как в примере:\n",
        "\\begin{align*}\n",
        "\\int_1^4 \\frac{dx}{\\sqrt{x}\\left(\\sqrt{x}+1\\right)} = \\int_1^2 \\frac{2\\,dy}{y + 1}\\\\\n",
        "\\int_1^2 \\frac{2\\,dy}{y + 1} = 2(\\ln 3 - \\ln 2)\n",
        "\\end{align*}\n",
        "(с точностью до перестановки слагаемых и сомножителей)\n",
        "\n",
        "Вариант 4\n",
        "\n",
        "$$\\int\\limits_{\\frac{6^{\\frac{6}{7}} \\sqrt[7]{\\pi}}{6}}^{\\frac{2^{\\frac{5}{7}} \\sqrt[7]{\\pi}}{2}} 7 x^{6} \\cos{\\left(x^{7} \\right)}\\, dx$$\n",
        "замена $y = x^{7}$"
      ]
    },
    {
      "cell_type": "code",
      "metadata": {
        "colab": {
          "base_uri": "https://localhost:8080/",
          "height": 182
        },
        "id": "WIx-vjpiA4dT",
        "outputId": "abdf5fb4-72fd-4640-e3f4-50e40125d39a"
      },
      "source": [
        "x = Symbol('x', positive=True, real=True)\n",
        "y = Symbol('y', positive=True, real=True)\n",
        "\n",
        "# y = x^7 => x = y^(1/7)\n",
        "\n",
        "a = (6 ** (S(6) / 7) * sympy.root(sympy.pi, 7)) / 6\n",
        "b = (2 ** (S(5) / 7) * sympy.root(sympy.pi, 7)) / 2\n",
        "\n",
        "f = 7 * (x**6 * sympy.cos(x**7))\n",
        "I = Integral(f, (x, a, b))\n",
        "\n",
        "I1 = I.transform(x, y**(S(1)/7))\n",
        "display(sympy.Eq(I, I1))\n",
        "display(sympy.Eq(I1, I1.doit()))"
      ],
      "execution_count": 113,
      "outputs": [
        {
          "output_type": "display_data",
          "data": {
            "text/latex": "$\\displaystyle \\int\\limits_{\\frac{6^{\\frac{6}{7}} \\sqrt[7]{\\pi}}{6}}^{\\frac{2^{\\frac{5}{7}} \\sqrt[7]{\\pi}}{2}} 7 x^{6} \\cos{\\left(x^{7} \\right)}\\, dx = \\int\\limits_{\\frac{\\pi}{6}}^{\\frac{\\pi}{4}} \\cos{\\left(y \\right)}\\, dy$",
            "text/plain": [
              "Eq(Integral(7*x**6*cos(x**7), (x, 6**(6/7)*pi**(1/7)/6, 2**(5/7)*pi**(1/7)/2)), Integral(cos(y), (y, pi/6, pi/4)))"
            ]
          },
          "metadata": {
            "tags": []
          }
        },
        {
          "output_type": "display_data",
          "data": {
            "text/latex": "$\\displaystyle \\int\\limits_{\\frac{\\pi}{6}}^{\\frac{\\pi}{4}} \\cos{\\left(y \\right)}\\, dy = - \\frac{1}{2} + \\frac{\\sqrt{2}}{2}$",
            "text/plain": [
              "Eq(Integral(cos(y), (y, pi/6, pi/4)), -1/2 + sqrt(2)/2)"
            ]
          },
          "metadata": {
            "tags": []
          }
        }
      ]
    }
  ]
}