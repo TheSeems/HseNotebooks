{
  "nbformat": 4,
  "nbformat_minor": 0,
  "metadata": {
    "kernelspec": {
      "display_name": "Python 3",
      "language": "python",
      "name": "python3"
    },
    "language_info": {
      "codemirror_mode": {
        "name": "ipython",
        "version": 3
      },
      "file_extension": ".py",
      "mimetype": "text/x-python",
      "name": "python",
      "nbconvert_exporter": "python",
      "pygments_lexer": "ipython3",
      "version": "3.7.3"
    },
    "colab": {
      "name": "Akhundov_algebra_13_2021_tasks.ipynb",
      "provenance": [],
      "collapsed_sections": [],
      "include_colab_link": true
    }
  },
  "cells": [
    {
      "cell_type": "markdown",
      "metadata": {
        "id": "view-in-github",
        "colab_type": "text"
      },
      "source": [
        "<a href=\"https://colab.research.google.com/github/TheSeems/HseNotebooks/blob/main/Akhundov_algebra_13_2021_tasks.ipynb\" target=\"_parent\"><img src=\"https://colab.research.google.com/assets/colab-badge.svg\" alt=\"Open In Colab\"/></a>"
      ]
    },
    {
      "cell_type": "code",
      "metadata": {
        "id": "7-bkwEeQYrOw"
      },
      "source": [
        "import sympy\n",
        "from sympy import Eq, S, latex, plot_implicit, Matrix, symbols, simplify, expand, collect, solve, solveset\n",
        "from sympy import pi as Pi\n",
        "from sympy import cos as Cos\n",
        "from sympy import sin as Sin\n",
        "import matplotlib.pyplot as plt\n",
        "%matplotlib inline"
      ],
      "execution_count": 2,
      "outputs": []
    },
    {
      "cell_type": "markdown",
      "metadata": {
        "id": "ap8OFauzYrO6"
      },
      "source": [
        "# Занятие 13\n",
        "# Алгебра\n",
        "### Задание 1.\n",
        "Составить матрицу квадратичной формы $7x^2+10\\sqrt{3}xy-3y^2−20z^2$, проверить, что она определяет именно заданное уравнение. Найти и вывести на экран собственные числа и собственные векторы матрицы квадратичной формы. "
      ]
    },
    {
      "cell_type": "code",
      "metadata": {
        "colab": {
          "base_uri": "https://localhost:8080/",
          "height": 57
        },
        "id": "UcR7XIe7YrO7",
        "outputId": "1c3aba74-f1e6-43d2-9540-fab9fd894ca5"
      },
      "source": [
        "x, y, z = symbols('x y z')\n",
        "\n",
        "u = 7*x**2 + 10*sympy.sqrt(3)*x*y - 3*y**2 - 20*z**2\n",
        "A = Matrix([\n",
        "  [7,  10*sympy.sqrt(3)/2, 0],\n",
        "  [10*sympy.sqrt(3)/2, -3, 0],\n",
        "  [0, 0, -20]\n",
        "])\n",
        "\n",
        "X = Matrix([x, y, z])\n",
        "res = simplify(expand(X.T*A*X))\n",
        "\n",
        "display(*res)\n",
        "display(res[0] - u == 0)"
      ],
      "execution_count": 6,
      "outputs": [
        {
          "output_type": "display_data",
          "data": {
            "text/latex": "$\\displaystyle 7 x^{2} + 10 \\sqrt{3} x y - 3 y^{2} - 20 z^{2}$",
            "text/plain": [
              "7*x**2 + 10*sqrt(3)*x*y - 3*y**2 - 20*z**2"
            ]
          },
          "metadata": {
            "tags": []
          }
        },
        {
          "output_type": "display_data",
          "data": {
            "text/plain": [
              "True"
            ]
          },
          "metadata": {
            "tags": []
          }
        }
      ]
    },
    {
      "cell_type": "markdown",
      "metadata": {
        "id": "e4-jroW1YrO7"
      },
      "source": [
        "### Задание 2.\n",
        "Привести квадратичную форму Примера 1 к каноническому виду с помощью перехода к новому базису из собственных векторов."
      ]
    },
    {
      "cell_type": "code",
      "metadata": {
        "colab": {
          "base_uri": "https://localhost:8080/",
          "height": 39
        },
        "id": "Eajme-81YrO8",
        "outputId": "408c5a77-fbb4-40ab-e6ff-1741db06e60f"
      },
      "source": [
        "def to_canon(A):\n",
        "  ev = A.eigenvects()\n",
        "  P = Matrix([])\n",
        "  for item in ev:\n",
        "    degree = item[1]\n",
        "    for i in range(degree):\n",
        "      e_i = item[2][i]\n",
        "      P = P.row_join(e_i.normalized())\n",
        "\n",
        "  return sympy.simplify(P.T * A * P)\n",
        "\n",
        "def expand_quad(A, X = Matrix([x, y, z])):\n",
        "  return collect(simplify(expand(X.T * A * X)[0]), list(X))\n",
        "\n",
        "canon = to_canon(A)\n",
        "display(expand_quad(canon))"
      ],
      "execution_count": 7,
      "outputs": [
        {
          "output_type": "display_data",
          "data": {
            "text/latex": "$\\displaystyle - 20 x^{2} - 8 y^{2} + 12 z^{2}$",
            "text/plain": [
              "-20*x**2 - 8*y**2 + 12*z**2"
            ]
          },
          "metadata": {
            "tags": []
          }
        }
      ]
    },
    {
      "cell_type": "markdown",
      "metadata": {
        "id": "2gFSldFrYrO8"
      },
      "source": [
        "### Задание 3.\n",
        "Определить тип кривой второго порядка, заданной уравнением\n",
        "$$\n",
        "97x^2 - 144xy + 97y^2 + 482x - 532y = 3452\n",
        "$$\n",
        "Построить в одной координатной плоскости график заданного уравнения и канонического уравнения соответствующей кривой, каноническое уравнение сделать названием графика. "
      ]
    },
    {
      "cell_type": "code",
      "metadata": {
        "colab": {
          "base_uri": "https://localhost:8080/",
          "height": 444
        },
        "id": "4c3-McoIYrO8",
        "outputId": "55f96df0-2101-4160-8a18-c002d976eb42"
      },
      "source": [
        "A = Matrix([\n",
        "            [97, S(-144) / 2, S(482) / 2],\n",
        "            [S(-144) / 2, 97, S(-532) / 2],\n",
        "            [S(482) / 2, S(-532) / 2, -3452]\n",
        "])\n",
        "\n",
        "Xt = Matrix([x, y, 1])\n",
        "u = 97*x**2 - 144*x*y + 97*y**2 + 482*x - 532*y - 3452\n",
        "test = simplify(expand(Xt.transpose() * A * Xt))[0]\n",
        "\n",
        "print(test - u == 0)\n",
        "\n",
        "alpha = sympy.acot((A[0, 0] - A[1, 1])/(2*A[0, 1]))/2\n",
        "P = Matrix([[Cos(alpha), -Sin(alpha), 0], [Sin(alpha), Cos(alpha), 0], [0, 0, 1]])\n",
        "\n",
        "A = simplify(expand((P.transpose() * A * P)))\n",
        "\n",
        "from sympy.abc import X, Y, Z\n",
        "Xt = Matrix((X, Y, 1))\n",
        "simplify(expand((Xt.T*A*Xt)[0]))\n",
        "\n",
        "X3_new = Matrix((X - A[0, 2]/A[0, 0], Y - A[1, 2]/A[1, 1], 1))\n",
        "eq3_new = simplify(expand(X3_new.T*A*X3_new))[0]\n",
        "display(X3_new, eq3_new)\n",
        "\n",
        "free = eq3_new.subs({X: 0, Y: 0})\n",
        "eq3_last = eq3_new/(-free) + 1\n",
        "\n",
        "eq3_last_xy = Eq(eq3_last.subs({X: x, Y: y}), 1)\n",
        "display(eq3_last_xy)\n",
        "\n",
        "# Получаем эллипс\n",
        "\n",
        "p = plot_implicit(u, line_color='g', aspect_ratio=(1, 1), xlabel='$x$', ylabel='$y$',\n",
        " title=latex(eq3_last_xy, mode='inline') + '\\n', adaptive=False, show=False)\n",
        "p.extend(plot_implicit(eq3_last_xy, line_color='m', aspect_ratio=(1, 1), adaptive=False, show=False))\n",
        "p.show()\n"
      ],
      "execution_count": 11,
      "outputs": [
        {
          "output_type": "stream",
          "text": [
            "True\n"
          ],
          "name": "stdout"
        },
        {
          "output_type": "display_data",
          "data": {
            "text/latex": "$\\displaystyle \\left[\\begin{matrix}X + \\frac{\\sqrt{2}}{2}\\\\Y + \\frac{3 \\sqrt{2}}{2}\\\\1\\end{matrix}\\right]$",
            "text/plain": [
              "Matrix([\n",
              "[  X + sqrt(2)/2],\n",
              "[Y + 3*sqrt(2)/2],\n",
              "[              1]])"
            ]
          },
          "metadata": {
            "tags": []
          }
        },
        {
          "output_type": "display_data",
          "data": {
            "text/latex": "$\\displaystyle 25 X^{2} + 169 Y^{2} - 4225$",
            "text/plain": [
              "25*X**2 + 169*Y**2 - 4225"
            ]
          },
          "metadata": {
            "tags": []
          }
        },
        {
          "output_type": "display_data",
          "data": {
            "text/latex": "$\\displaystyle \\frac{x^{2}}{169} + \\frac{y^{2}}{25} = 1$",
            "text/plain": [
              "Eq(x**2/169 + y**2/25, 1)"
            ]
          },
          "metadata": {
            "tags": []
          }
        },
        {
          "output_type": "display_data",
          "data": {
            "image/png": "[encoded data removed]",
            "text/plain": [
              "<Figure size 432x288 with 1 Axes>"
            ]
          },
          "metadata": {
            "tags": [],
            "needs_background": "light"
          }
        }
      ]
    },
    {
      "cell_type": "markdown",
      "metadata": {
        "id": "AN02wwnxYrO8"
      },
      "source": [
        "### Задание 4.\n",
        "Определить тип кривой второго порядка, заданной уравнением\n",
        "$$\n",
        "x^2+2xy+y^2-4x+4y=4\n",
        "$$\n",
        "Построить в одной координатной плоскости график заданного уравнения и канонического уравнения соответствующей кривой, каноническое уравнение сделать названием графика. \n",
        "\n",
        "Указание: каноническое уравнение параболы $y^2 = 2px$ или $x^2 = 2py$; для того, чтобы выразить $x$ или $y$ можно воспользоваться solve или solveset."
      ]
    },
    {
      "cell_type": "code",
      "metadata": {
        "id": "dIHpD748YrO9",
        "colab": {
          "base_uri": "https://localhost:8080/",
          "height": 315
        },
        "outputId": "783cd708-af76-44ae-8ab2-460680d1539f"
      },
      "source": [
        "u = x**2 + 2*x*y + y**2 - 4*x + 4*y - 4\n",
        "\n",
        "A = Matrix([\n",
        "    [1, 1, -2],\n",
        "    [1, 1, 2],\n",
        "    [-2, 2, -4],\n",
        "])\n",
        "\n",
        "X = Matrix([x, y, 1])\n",
        "test = simplify(expand(X.transpose() * A * X))[0]\n",
        "print(test - u == 0)\n",
        "\n",
        "ang = sympy.acot((A[0,0] - A[1,1]) / (2 * A[0,1])) / 2\n",
        "T = Matrix([\n",
        "        [sympy.cos(ang), -sympy.sin(ang), 0],\n",
        "        [sympy.sin(ang), sympy.cos(ang), 0],\n",
        "        [0, 0, 1],\n",
        "    ])\n",
        "\n",
        "A = T.inv() * A * T\n",
        "x1, y1 = symbols(\"x1 y1\")\n",
        "quad = expand_quad(A, X) / 2 + 2\n",
        "\n",
        "p = plot_implicit(quad, line_color='g', aspect_ratio=(1,1), title=latex(quad, mode='inline')+'\\n', show=False)\n",
        "p.extend(plot_implicit(\n",
        "    u,\n",
        "    line_color='m',\n",
        "    show=False\n",
        "))\n",
        "p.show()\n"
      ],
      "execution_count": 23,
      "outputs": [
        {
          "output_type": "stream",
          "text": [
            "True\n"
          ],
          "name": "stdout"
        },
        {
          "output_type": "display_data",
          "data": {
            "image/png": "[encoded data removed]",
            "text/plain": [
              "<Figure size 432x288 with 1 Axes>"
            ]
          },
          "metadata": {
            "tags": [],
            "needs_background": "light"
          }
        }
      ]
    },
    {
      "cell_type": "markdown",
      "metadata": {
        "id": "KSU76_HnYrO9"
      },
      "source": [
        "###  Индивидуальное задание\n",
        "Составить матрицу квадратичной формы и привести ее к каноническому виду с помощью перехода к новому базису из собственных векторов. Векторы выводить на экран не нужно. Вывести на экран матрицу в исходном виде и канонической форме, а также саму квадратичную форму в каноническом виде.\n",
        "\n",
        "$$Q = - 667 x^{2} + 136 \\sqrt{6} x y - 1066 \\sqrt{3} x z - 632 y^{2} - 408 \\sqrt{2} y z + 399 z^{2}$$"
      ]
    },
    {
      "cell_type": "code",
      "metadata": {
        "id": "NQcyxl40YrO-",
        "colab": {
          "base_uri": "https://localhost:8080/",
          "height": 164
        },
        "outputId": "3b482b6d-36ac-4031-9e53-2e2afda099bf"
      },
      "source": [
        "u = -667*x**2 + 136*sympy.sqrt(6) * x*y - 1066 * sympy.sqrt(3) * x * z - 632 * y**2 - 408 * sympy.sqrt(2) * y*z + 399 * z**2\n",
        "a = 136*sympy.sqrt(6)\n",
        "b = -1066 * sympy.sqrt(3)\n",
        "c = -408 * sympy.sqrt(2)\n",
        "\n",
        "x, y, z = symbols(\"x y z\")\n",
        "X = Matrix([x, y, z])\n",
        "\n",
        "A = Matrix([\n",
        "            [-667, a/2, b/2],\n",
        "            [a/2, -632, c/2],\n",
        "            [b/2, c/2, 399]\n",
        "])\n",
        "\n",
        "# Source\n",
        "display(A)\n",
        "A = to_canon(A)\n",
        "\n",
        "# Canonical\n",
        "display(A)\n",
        "display(expand_quad(A))"
      ],
      "execution_count": 41,
      "outputs": [
        {
          "output_type": "display_data",
          "data": {
            "text/latex": "$\\displaystyle \\left[\\begin{matrix}-667 & 68 \\sqrt{6} & - 533 \\sqrt{3}\\\\68 \\sqrt{6} & -632 & - 204 \\sqrt{2}\\\\- 533 \\sqrt{3} & - 204 \\sqrt{2} & 399\\end{matrix}\\right]$",
            "text/plain": [
              "Matrix([\n",
              "[        -667,   68*sqrt(6), -533*sqrt(3)],\n",
              "[  68*sqrt(6),         -632, -204*sqrt(2)],\n",
              "[-533*sqrt(3), -204*sqrt(2),          399]])"
            ]
          },
          "metadata": {
            "tags": []
          }
        },
        {
          "output_type": "display_data",
          "data": {
            "text/latex": "$\\displaystyle \\left[\\begin{matrix}-1200 & 0 & 0\\\\0 & -700 & 0\\\\0 & 0 & 1000\\end{matrix}\\right]$",
            "text/plain": [
              "Matrix([\n",
              "[-1200,    0,    0],\n",
              "[    0, -700,    0],\n",
              "[    0,    0, 1000]])"
            ]
          },
          "metadata": {
            "tags": []
          }
        },
        {
          "output_type": "display_data",
          "data": {
            "text/latex": "$\\displaystyle - 1200 x^{2} - 700 y^{2} + 1000 z^{2}$",
            "text/plain": [
              "-1200*x**2 - 700*y**2 + 1000*z**2"
            ]
          },
          "metadata": {
            "tags": []
          }
        }
      ]
    }
  ]
}