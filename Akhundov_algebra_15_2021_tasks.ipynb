{
  "nbformat": 4,
  "nbformat_minor": 0,
  "metadata": {
    "kernelspec": {
      "display_name": "Python 3",
      "language": "python",
      "name": "python3"
    },
    "language_info": {
      "codemirror_mode": {
        "name": "ipython",
        "version": 3
      },
      "file_extension": ".py",
      "mimetype": "text/x-python",
      "name": "python",
      "nbconvert_exporter": "python",
      "pygments_lexer": "ipython3",
      "version": "3.7.3"
    },
    "colab": {
      "name": "Akhundov_algebra_15_2021_tasks.ipynb",
      "provenance": [],
      "collapsed_sections": [],
      "include_colab_link": true
    }
  },
  "cells": [
    {
      "cell_type": "markdown",
      "metadata": {
        "id": "view-in-github",
        "colab_type": "text"
      },
      "source": [
        "<a href=\"https://colab.research.google.com/github/TheSeems/HseNotebooks/blob/main/Akhundov_algebra_15_2021_tasks.ipynb\" target=\"_parent\"><img src=\"https://colab.research.google.com/assets/colab-badge.svg\" alt=\"Open In Colab\"/></a>"
      ]
    },
    {
      "cell_type": "code",
      "metadata": {
        "id": "n3TtiCO3CDvT"
      },
      "source": [
        "import numpy as np\n",
        "import sympy\n",
        "from sympy import Expr, Eq, latex, plot_implicit, tan, cot\n",
        "from sympy.core import S, pi, sympify\n",
        "from sympy.core.logic import fuzzy_bool\n",
        "from sympy.core.numbers import Rational, oo\n",
        "from sympy.core.compatibility import ordered\n",
        "from sympy.core.symbol import Dummy, _uniquely_named_symbol, _symbol\n",
        "from sympy.simplify import simplify, trigsimp\n",
        "from sympy.functions.elementary.miscellaneous import sqrt, Max\n",
        "from sympy.functions.elementary.trigonometric import cos, sin\n",
        "from sympy.functions.special.elliptic_integrals import elliptic_e\n",
        "from sympy.geometry.exceptions import GeometryError\n",
        "from sympy.geometry.line import Ray2D, Segment2D, Line2D, LinearEntity3D\n",
        "from sympy.polys import DomainError, Poly, PolynomialError\n",
        "from sympy.polys.polyutils import _not_a_coeff, _nsort\n",
        "from sympy.solvers import solve\n",
        "from sympy.solvers.solveset import linear_coeffs\n",
        "from sympy.utilities.misc import filldedent, func_name\n",
        "from sympy.geometry.entity import GeometryEntity, GeometrySet\n",
        "from sympy.geometry.point import Point, Point2D, Point3D\n",
        "from sympy.geometry.line import Line, Segment\n",
        "from sympy.geometry.util import idiff\n",
        "import matplotlib.pyplot as plt\n",
        "%matplotlib inline"
      ],
      "execution_count": 1,
      "outputs": []
    },
    {
      "cell_type": "markdown",
      "metadata": {
        "id": "vtTLX0McCDvf"
      },
      "source": [
        "# Занятие 15\n",
        "# Алгебра\n",
        "## Кривые второго порядка на плоскости: гипербола"
      ]
    },
    {
      "cell_type": "code",
      "metadata": {
        "id": "qoGzee3LCDvi"
      },
      "source": [
        "class Hyperbola(GeometrySet):\n",
        "    \"\"\"\n",
        "     Attributes\n",
        "    ==========\n",
        "    center\n",
        "    hradius\n",
        "    vradius\n",
        "    eccentricity\n",
        "    periapsis\n",
        "    focus_distance\n",
        "    foci\n",
        "    ==========\n",
        "    конструктор __new__\n",
        "    скопирован из Эллипса,\n",
        "    изменена формула для  hradius и vradius через эсцентриситет\n",
        "    \"\"\"\n",
        "    def __new__(\n",
        "        cls, center=None, hradius=None, vradius=None, eccentricity=None, **kwargs):\n",
        "        hradius = sympify(hradius)\n",
        "        vradius = sympify(vradius)\n",
        "\n",
        "        eccentricity = sympify(eccentricity)\n",
        "\n",
        "        if center is None:\n",
        "            center = Point(0, 0)\n",
        "        else:\n",
        "            center = Point(center, dim=2)\n",
        "\n",
        "        if len(center) != 2:\n",
        "            raise ValueError('The center of \"{0}\" must be a two dimensional point'.format(cls))\n",
        "\n",
        "        if len(list(filter(lambda x: x is not None, (hradius, vradius, eccentricity)))) != 2:\n",
        "            raise ValueError(filldedent('''\n",
        "                Exactly two arguments of \"hradius\", \"vradius\", and\n",
        "                \"eccentricity\" must not be None.'''))\n",
        "\n",
        "        if eccentricity is not None:\n",
        "            if hradius is None:\n",
        "                hradius = vradius/sqrt( eccentricity**2 - 1)\n",
        "            elif vradius is None:\n",
        "                vradius = hradius*sqrt( eccentricity**2 - 1)\n",
        "\n",
        "        if hradius == 0:\n",
        "            return \"Line\"\n",
        "        if vradius == 0:\n",
        "            return \"Rays\"\n",
        "        return GeometryEntity.__new__(cls, center, hradius, vradius, **kwargs)\n",
        "    \n",
        "    @property\n",
        "    def ambient_dimension(self):\n",
        "        return 2\n",
        "    \n",
        "    @property\n",
        "    def center(self):\n",
        "        return self.args[0]\n",
        "\n",
        "    @property\n",
        "    def hradius(self):\n",
        "        return self.args[1]\n",
        "    \n",
        "    @property\n",
        "    def vradius(self):\n",
        "        return self.args[2]\n",
        "    @property\n",
        "    def focus_distance(self):\n",
        "        return sqrt(self.hradius**2 + self.vradius**2)\n",
        "    \n",
        "    @property\n",
        "    def eccentricity(self):\n",
        "        \"\"\"The eccentricity of the ellipse.\"\"\"\n",
        "        return self.focus_distance/self.hradius\n",
        "    \n",
        "    @property\n",
        "    def periapsis(self):\n",
        "        \"\"\"The apoapsis of the hyperbola.\n",
        "        The smallest distance between the focus and the contour.\"\"\"\n",
        "        return self.focus_distance-self.hradius\n",
        "    @property\n",
        "    def foci(self):\n",
        "        return (self.center + Point(-self.focus_distance, 0), self.center + Point(self.focus_distance, 0))\n",
        "    \n",
        "    @property\n",
        "    def major(self):\n",
        "        return self.hradius\n",
        "    \n",
        "    @property\n",
        "    def minor(self):\n",
        "        return self.vradius\n",
        "\n",
        "    def asymptote(self, x='x', y='y', _angle=None, equation=False):\n",
        "      x = _symbol(x, real=True)\n",
        "      y = _symbol(y, real=True)\n",
        "\n",
        "      dx = x - self.center.x\n",
        "      a = self.hradius\n",
        "      b = self.vradius\n",
        "\n",
        "      if _angle is not None:\n",
        "        k1 = (b + a * sympy.tan(_angle)) / (a - b * sympy.tan(_angle))\n",
        "        k2 = (-b + a * sympy.tan(_angle)) / (a + b * sympy.tan(_angle))\n",
        "        return wrap_to_eq(\n",
        "            equation=equation,\n",
        "            lhs=[y, y],\n",
        "            rhs=[\n",
        "                 self.center.y + k1 * dx,\n",
        "                 self.center.y + k2 * dx\n",
        "            ]\n",
        "        )\n",
        "\n",
        "      return wrap_to_eq(\n",
        "          equation=equation,\n",
        "          lhs=[y, y],\n",
        "          rhs=[self.center.y + b / a * dx, self.center.y - b / a * dx]\n",
        "      )\n",
        "\n",
        "    def directrix(self, x='x', y='y', _angle=None, equation=False):\n",
        "      x = _symbol(x, real=True)\n",
        "      y = _symbol(y, real=True)\n",
        "      a = self.hradius\n",
        "      c = self.focus_distance\n",
        "\n",
        "      if _angle is not None:\n",
        "        dx = x - self.center.x\n",
        "        return wrap_to_eq(\n",
        "            equation=equation,\n",
        "            lhs=[y, y],\n",
        "            rhs=[\n",
        "                 self.center.y - sympy.cot(_angle)*dx + a**2/c * sympy.sqrt(1 + sympy.cot(_angle)),\n",
        "                 self.center.y - sympy.cot(_angle)*dx - a**2/c * sympy.sqrt(1 + sympy.cot(_angle))\n",
        "            ]\n",
        "        )\n",
        "\n",
        "      return wrap_to_eq(\n",
        "          equation=equation,\n",
        "          lhs=[x, x],\n",
        "          rhs=[self.center.x + a**2 / c, self.center.x - a**2 / c]\n",
        "      )\n",
        "      \n",
        "    \n",
        "    def equation(self, x='x', y='y', _slope=None, equation=False):\n",
        "        \"\"\"\n",
        "        Returns the equation of a hyperbola aligned with the x and y axes;\n",
        "        when slope is given, the equation returned corresponds to a hyperbola \n",
        "        with a major axis having that slope.\n",
        "        Parameters\n",
        "        ==========\n",
        "        x : str, optional\n",
        "            Label for the x-axis. Default value is 'x'.\n",
        "        y : str, optional\n",
        "            Label for the y-axis. Default value is 'y'.\n",
        "        _slope : Expr, optional\n",
        "                The slope of the major axis. Ignored when 'None'.\n",
        "        Returns\n",
        "        =======\n",
        "        equation : sympy expression   \"\"\"\n",
        "\n",
        "        x = _symbol(x, real=True)\n",
        "        y = _symbol(y, real=True)\n",
        "\n",
        "        dx = x - self.center.x\n",
        "        dy = y - self.center.y\n",
        "\n",
        "        if _slope is not None:\n",
        "            L = (dy - _slope*dx)**2\n",
        "            l = (_slope*dy + dx)**2\n",
        "            h = 1 + _slope**2\n",
        "            a = h*self.major**2\n",
        "            b = h*self.minor**2\n",
        "            res= l/a - L/b \n",
        "\n",
        "        else:\n",
        "            t1 = (dx/self.hradius)**2\n",
        "            t2 = (dy/self.vradius)**2\n",
        "            res = t1 - t2 \n",
        "        if not equation:\n",
        "            return res - 1\n",
        "        else:\n",
        "            return Eq(res, 1)       "
      ],
      "execution_count": 14,
      "outputs": []
    },
    {
      "cell_type": "code",
      "metadata": {
        "id": "stxur49Do8bX"
      },
      "source": [
        "from collections.abc import Iterable\n",
        "\n",
        "def display_props(props):\n",
        "  for title, value in props.items():\n",
        "    print(title)\n",
        "\n",
        "    if isinstance(value, Iterable):\n",
        "      display(*value)\n",
        "    else:\n",
        "      display(value)\n",
        "\n",
        "    print()\n",
        "\n",
        "def display_hyperbola(hyperbola: Hyperbola, p = None, others=[], angles=[], show=True):\n",
        "  if angles == []:\n",
        "    angles = [0] * (len(others) + 1)\n",
        "\n",
        "  hyp_eq = hyperbola.equation(x='x', y='y', _slope=sympy.tan(angles[0]))\n",
        "\n",
        "  dict_free = {str(q): q for q in hyp_eq.free_symbols}\n",
        "\n",
        "  if p:\n",
        "    p.extend(plot_implicit(hyp_eq,\n",
        "                    (dict_free['x'], -20, 20),\n",
        "                    (dict_free['y'], -20, 20),\n",
        "                    line_color='green',\n",
        "                    label=sympy.latex(hyp_eq),\n",
        "                    aspect_ratio=(1, 1), show=False, adaptive=False))\n",
        "  else:\n",
        "    p = plot_implicit(hyp_eq,\n",
        "                    (dict_free['x'], -20, 20),\n",
        "                    (dict_free['y'], -20, 20),\n",
        "                    line_color='green',\n",
        "                    aspect_ratio=(1, 1), show=False, adaptive=False)\n",
        "\n",
        "  for ind, other in enumerate(others):\n",
        "    other_eq = other.equation(x='x', y='y', _slope=sympy.tan(angles[ind + 1]))\n",
        "    p.extend(plot_implicit(other_eq,\n",
        "                           (dict_free['x'], -20, 20),\n",
        "                           (dict_free['y'], -20, 20),\n",
        "                           line_color='red',\n",
        "                           aspect_ratio=(1, 1), show=False, adaptive=False))\n",
        "  \n",
        "  if show:\n",
        "    p.show()\n",
        "  return p, dict_free\n",
        "\n",
        "def wrap_to_eq(lhs, rhs, equation=False):\n",
        "  if equation:\n",
        "    return [sympy.Eq(lhs[i], rhs[i]) for i in range(len(lhs))]\n",
        "  return [lhs[i] - rhs[i] for i in range(len(lhs))]"
      ],
      "execution_count": 15,
      "outputs": []
    },
    {
      "cell_type": "markdown",
      "metadata": {
        "id": "g09Mub5dCDvm"
      },
      "source": [
        "# Занятие 15\n",
        "# Алгебра\n",
        "### Задание 1.\n",
        "Построить гиперболу с центром в точке А(1, 2), полуосями 12 и 5. Вывести на экран эксцентриситет, фокусное расстояние, фокусы (с координатами), periapsis и уравнение гиперболы."
      ]
    },
    {
      "cell_type": "code",
      "metadata": {
        "id": "SSOc3rl0CDvp",
        "colab": {
          "base_uri": "https://localhost:8080/",
          "height": 348
        },
        "outputId": "e7566078-756b-41d8-9715-99e8b5ce3aae"
      },
      "source": [
        "A = Point(1, 2)\n",
        "hyp = Hyperbola(A, hradius=12, vradius=5)\n",
        "\n",
        "display_props({\n",
        "    'Эксцентриситент': hyp.eccentricity,\n",
        "    'Фокусное расстояние': hyp.focus_distance,\n",
        "    'Фокусы': hyp.foci,\n",
        "    'Periapsis': hyp.periapsis,\n",
        "    'Уравнение': hyp.equation()\n",
        "})"
      ],
      "execution_count": 16,
      "outputs": [
        {
          "output_type": "stream",
          "text": [
            "Эксцентриситент\n"
          ],
          "name": "stdout"
        },
        {
          "output_type": "display_data",
          "data": {
            "text/latex": "$\\displaystyle \\frac{13}{12}$",
            "text/plain": [
              "13/12"
            ]
          },
          "metadata": {
            "tags": []
          }
        },
        {
          "output_type": "stream",
          "text": [
            "\n",
            "Фокусное расстояние\n"
          ],
          "name": "stdout"
        },
        {
          "output_type": "display_data",
          "data": {
            "text/latex": "$\\displaystyle 13$",
            "text/plain": [
              "13"
            ]
          },
          "metadata": {
            "tags": []
          }
        },
        {
          "output_type": "stream",
          "text": [
            "\n",
            "Фокусы\n"
          ],
          "name": "stdout"
        },
        {
          "output_type": "display_data",
          "data": {
            "text/latex": "$\\displaystyle Point2D\\left(-12, 2\\right)$",
            "text/plain": [
              "Point2D(-12, 2)"
            ]
          },
          "metadata": {
            "tags": []
          }
        },
        {
          "output_type": "display_data",
          "data": {
            "text/latex": "$\\displaystyle Point2D\\left(14, 2\\right)$",
            "text/plain": [
              "Point2D(14, 2)"
            ]
          },
          "metadata": {
            "tags": []
          }
        },
        {
          "output_type": "stream",
          "text": [
            "\n",
            "Periapsis\n"
          ],
          "name": "stdout"
        },
        {
          "output_type": "display_data",
          "data": {
            "text/latex": "$\\displaystyle 1$",
            "text/plain": [
              "1"
            ]
          },
          "metadata": {
            "tags": []
          }
        },
        {
          "output_type": "stream",
          "text": [
            "\n",
            "Уравнение\n"
          ],
          "name": "stdout"
        },
        {
          "output_type": "display_data",
          "data": {
            "text/latex": "$\\displaystyle \\left(\\frac{x}{12} - \\frac{1}{12}\\right)^{2} - \\left(\\frac{y}{5} - \\frac{2}{5}\\right)^{2} - 1$",
            "text/plain": [
              "(x/12 - 1/12)**2 - (y/5 - 2/5)**2 - 1"
            ]
          },
          "metadata": {
            "tags": []
          }
        },
        {
          "output_type": "stream",
          "text": [
            "\n"
          ],
          "name": "stdout"
        }
      ]
    },
    {
      "cell_type": "markdown",
      "metadata": {
        "id": "IXufojW2CDvr"
      },
      "source": [
        "### Задание 2.\n",
        "Добавить в описание класса гипербол методы \n",
        "\n",
        "asymptote(self, x='x', y='y', equation=False)\n",
        "\n",
        "directrix(self, x='x', equation=False)\n",
        "\n",
        "Для гиперболы Задания 1 вывести на экран уравнения асимптот и директрис."
      ]
    },
    {
      "cell_type": "code",
      "metadata": {
        "id": "Nns4uMoVCDvt",
        "colab": {
          "base_uri": "https://localhost:8080/",
          "height": 223
        },
        "outputId": "2b4bfa84-ea8f-4c9f-a75c-02133e6a5d5e"
      },
      "source": [
        "display_props({\n",
        "    'Ассимптоты': hyp.asymptote(equation=True),\n",
        "    'Директрисы': hyp.directrix(equation=True)\n",
        "})"
      ],
      "execution_count": 17,
      "outputs": [
        {
          "output_type": "stream",
          "text": [
            "Ассимптоты\n"
          ],
          "name": "stdout"
        },
        {
          "output_type": "display_data",
          "data": {
            "text/latex": "$\\displaystyle y = \\frac{5 x}{12} + \\frac{19}{12}$",
            "text/plain": [
              "Eq(y, 5*x/12 + 19/12)"
            ]
          },
          "metadata": {
            "tags": []
          }
        },
        {
          "output_type": "display_data",
          "data": {
            "text/latex": "$\\displaystyle y = \\frac{29}{12} - \\frac{5 x}{12}$",
            "text/plain": [
              "Eq(y, 29/12 - 5*x/12)"
            ]
          },
          "metadata": {
            "tags": []
          }
        },
        {
          "output_type": "stream",
          "text": [
            "\n",
            "Директрисы\n"
          ],
          "name": "stdout"
        },
        {
          "output_type": "display_data",
          "data": {
            "text/latex": "$\\displaystyle x = \\frac{157}{13}$",
            "text/plain": [
              "Eq(x, 157/13)"
            ]
          },
          "metadata": {
            "tags": []
          }
        },
        {
          "output_type": "display_data",
          "data": {
            "text/latex": "$\\displaystyle x = - \\frac{131}{13}$",
            "text/plain": [
              "Eq(x, -131/13)"
            ]
          },
          "metadata": {
            "tags": []
          }
        },
        {
          "output_type": "stream",
          "text": [
            "\n"
          ],
          "name": "stdout"
        }
      ]
    },
    {
      "cell_type": "markdown",
      "metadata": {
        "id": "AiM4Ld0rCDvu"
      },
      "source": [
        "### Задание 3.\n",
        "Вывести на экран уравнение гиперболы из задания 1 с поворотом на 30 градусов против часовой стрелки относительно ее центра.\n",
        "Изобразить повернутую гиперболу с помощью plot_implicit."
      ]
    },
    {
      "cell_type": "code",
      "metadata": {
        "id": "_XGBg68ICDvv",
        "colab": {
          "base_uri": "https://localhost:8080/",
          "height": 314
        },
        "outputId": "aac9f3c3-04da-4a53-f517-de5392fe0cfd"
      },
      "source": [
        "display_hyperbola(hyp, others=[hyp], angles=[0, sympy.pi / 6])"
      ],
      "execution_count": 18,
      "outputs": [
        {
          "output_type": "display_data",
          "data": {
            "image/png": "[encoded data removed]",
            "text/plain": [
              "<Figure size 432x288 with 1 Axes>"
            ]
          },
          "metadata": {
            "tags": [],
            "needs_background": "light"
          }
        },
        {
          "output_type": "execute_result",
          "data": {
            "text/plain": [
              "(<sympy.plotting.plot.Plot at 0x7faf6cbbd510>, {'x': x, 'y': y})"
            ]
          },
          "metadata": {
            "tags": []
          },
          "execution_count": 18
        }
      ]
    },
    {
      "cell_type": "markdown",
      "metadata": {
        "id": "hzDi5KWpCDvw"
      },
      "source": [
        "## Уравнения директрис и асимптот при повороте на угол $\\alpha$\n",
        "Пусть  $a$ - горизонтальная полуось, $c$ - фокусное расстояние, $x_0$ - горизонтальная координата центра гиперболы, тогда уравнение директрис \n",
        "$$\n",
        "x = x_0 \\pm \\frac{a^2}{c}\n",
        "$$\n",
        "При повороте на угол $\\alpha$ получается уравнение\n",
        "$$\n",
        "y = y_0 -{\\rm ctg} \\alpha(x - x_0) \\pm \\frac{a^2}{c}\\sqrt{1 + {\\rm ctg} \\alpha}\n",
        "$$\n",
        "Уравнение асимптоты\n",
        "$$\n",
        "y = y_0 \\pm \\frac{b}{a}(x - x_0)\n",
        "$$\n",
        "При повороте на угол $\\alpha$ получаются уравнения\n",
        "\\begin{align*}\n",
        "y_1 = y_0 + k_1(x - x_0), \\quad \n",
        "y_2 = y_0 + k_2(x - x_0), \\\\ \n",
        "k_1 = \\frac{b + a{\\rm tg} \\alpha}{a - b{\\rm tg} \\alpha},\\quad \n",
        "k_2 = \\frac{-b + a{\\rm tg} \\alpha}{a + b{\\rm tg} \\alpha}\n",
        "\\end{align*}\n",
        "### Задание 4.\n",
        "Изобразить гиперболу Задания 3 (т.е. повернутую на угол) и ее асимптоты и директрисы на одном графике plot_implicit."
      ]
    },
    {
      "cell_type": "code",
      "metadata": {
        "id": "qxhgFotCCDvy",
        "colab": {
          "base_uri": "https://localhost:8080/",
          "height": 483
        },
        "outputId": "25a797b5-aade-4fba-fa80-a09681fd7c03"
      },
      "source": [
        "from sympy.plotting.plot import Plot\n",
        "\n",
        "alpha = sympy.pi / 6\n",
        "\n",
        "plotting = Plot(xlabel='x', ylabel='y')\n",
        "plotting, dict_free = display_hyperbola(hyp, p = plotting, angles=[alpha], show=False)\n",
        "\n",
        "asymps = hyp.asymptote(_angle = alpha, equation=True, x=dict_free['x'], y=dict_free['y'])\n",
        "directx = hyp.directrix(_angle = alpha, equation=True, x=dict_free['x'], y=dict_free['y'])\n",
        "\n",
        "a = hyp.hradius\n",
        "b = hyp.vradius\n",
        "c = hyp.focus_distance\n",
        "\n",
        "display(*list(map(sympy.simplify, asymps)))\n",
        "display(*list(map(sympy.simplify, directx)))\n",
        "for a in asymps:\n",
        "  plotting.extend(plot_implicit(sympy.simplify(a),\n",
        "                    (dict_free['x'], -20, 20),\n",
        "                    (dict_free['y'], -20, 20),\n",
        "                    line_color='red',\n",
        "                    aspect_ratio=(1, 1), show=False, adaptive=False))\n",
        "for a in directx:\n",
        "  plotting.extend(plot_implicit(sympy.simplify(a),\n",
        "                    (dict_free['x'], -20, 20),\n",
        "                    (dict_free['y'], -20, 20),\n",
        "                    line_color='blue',\n",
        "                    aspect_ratio=(1, 1), show=False, adaptive=False))\n",
        "\n",
        "plotting.show()"
      ],
      "execution_count": 19,
      "outputs": [
        {
          "output_type": "display_data",
          "data": {
            "text/latex": "$\\displaystyle x \\left(- \\frac{169 \\sqrt{3}}{407} - \\frac{240}{407}\\right) + y = \\frac{574}{407} - \\frac{169 \\sqrt{3}}{407}$",
            "text/plain": [
              "Eq(x*(-169*sqrt(3)/407 - 240/407) + y, 574/407 - 169*sqrt(3)/407)"
            ]
          },
          "metadata": {
            "tags": []
          }
        },
        {
          "output_type": "display_data",
          "data": {
            "text/latex": "$\\displaystyle x \\left(\\frac{240}{407} - \\frac{169 \\sqrt{3}}{407}\\right) + y = \\frac{1054}{407} - \\frac{169 \\sqrt{3}}{407}$",
            "text/plain": [
              "Eq(x*(240/407 - 169*sqrt(3)/407) + y, 1054/407 - 169*sqrt(3)/407)"
            ]
          },
          "metadata": {
            "tags": []
          }
        },
        {
          "output_type": "display_data",
          "data": {
            "text/latex": "$\\displaystyle \\sqrt{3} x + y = \\sqrt{3} + 2 + \\frac{144 \\sqrt{1 + \\sqrt{3}}}{13}$",
            "text/plain": [
              "Eq(sqrt(3)*x + y, sqrt(3) + 2 + 144*sqrt(1 + sqrt(3))/13)"
            ]
          },
          "metadata": {
            "tags": []
          }
        },
        {
          "output_type": "display_data",
          "data": {
            "text/latex": "$\\displaystyle \\sqrt{3} x + y = - \\frac{144 \\sqrt{1 + \\sqrt{3}}}{13} + \\sqrt{3} + 2$",
            "text/plain": [
              "Eq(sqrt(3)*x + y, -144*sqrt(1 + sqrt(3))/13 + sqrt(3) + 2)"
            ]
          },
          "metadata": {
            "tags": []
          }
        },
        {
          "output_type": "display_data",
          "data": {
            "image/png": "[encoded data removed]",
            "text/plain": [
              "<Figure size 432x288 with 1 Axes>"
            ]
          },
          "metadata": {
            "tags": [],
            "needs_background": "light"
          }
        }
      ]
    },
    {
      "cell_type": "markdown",
      "metadata": {
        "id": "jibp-2IiCDvz"
      },
      "source": [
        "###  Индивидуальное задание\n",
        "Определить гиперболу с центром в точке $O$, полуосями $a$ и $b$.  Вывести на экран эксцентриситет, фокусное расстояние, фокусы (с координатами), periapsis, уравнение гиперболы, уравнения асимптот и директрис. \n",
        "\n",
        "Изобразить гиперболу, повернутую на $\\alpha$ градусов против часовой стрелки относительно ее центра, соответствующие асимптоты и директрисы. Вывести на экран уравнения повернутой гиперболы, соответствующих асимптот и директрис."
      ]
    },
    {
      "cell_type": "code",
      "metadata": {
        "id": "GDex6Gs2CDv0",
        "colab": {
          "base_uri": "https://localhost:8080/",
          "height": 1000
        },
        "outputId": "9ba76520-3763-4ecb-d763-0a41b73f7c2f"
      },
      "source": [
        "O = Point(3, 3)\n",
        "a = 6\n",
        "b = 3\n",
        "alpha = sympy.pi / 3\n",
        "\n",
        "hyp = Hyperbola(O, hradius=a, vradius=b)\n",
        "display_props({\n",
        "    'Эксцентриситент': hyp.eccentricity,\n",
        "    'Фокусное расстояние': hyp.focus_distance,\n",
        "    'Фокусы': hyp.foci,\n",
        "    'Periapsis': hyp.periapsis,\n",
        "    'Уравнение': hyp.equation(),\n",
        "    'Ассимптоты': hyp.asymptote(),\n",
        "    'Директрисы': hyp.directrix()\n",
        "})\n",
        "\n",
        "print('График повернутой гиперболы')\n",
        "\n",
        "plotting = Plot(xlabel='x', ylabel='y')\n",
        "plotting, dict_free = display_hyperbola(hyp, p = plotting, angles=[alpha], show=False)\n",
        "\n",
        "asymps = hyp.asymptote(_angle = alpha, equation=True, x=dict_free['x'], y=dict_free['y'])\n",
        "directx = hyp.directrix(_angle = alpha, equation=True, x=dict_free['x'], y=dict_free['y'])\n",
        "\n",
        "a = hyp.hradius\n",
        "b = hyp.vradius\n",
        "c = hyp.focus_distance\n",
        "\n",
        "display(*list(map(sympy.simplify, asymps)))\n",
        "display(*list(map(sympy.simplify, directx)))\n",
        "for a in asymps:\n",
        "  plotting.extend(plot_implicit(sympy.simplify(a),\n",
        "                    (dict_free['x'], -20, 20),\n",
        "                    (dict_free['y'], -20, 20),\n",
        "                    line_color='red',\n",
        "                    aspect_ratio=(1, 1), show=False, adaptive=False))\n",
        "for a in directx:\n",
        "  plotting.extend(plot_implicit(sympy.simplify(a),\n",
        "                    (dict_free['x'], -20, 20),\n",
        "                    (dict_free['y'], -20, 20),\n",
        "                    line_color='blue',\n",
        "                    aspect_ratio=(1, 1), show=False, adaptive=False))\n",
        "\n",
        "plotting.show()\n",
        "\n",
        "display_props({\n",
        "    'Уравнение': hyp.equation(_slope=sympy.tan(alpha), equation=True),\n",
        "    'Ассимптоты': asymps,\n",
        "    'Директрисы': directx\n",
        "})"
      ],
      "execution_count": 21,
      "outputs": [
        {
          "output_type": "stream",
          "text": [
            "Эксцентриситент\n"
          ],
          "name": "stdout"
        },
        {
          "output_type": "display_data",
          "data": {
            "text/latex": "$\\displaystyle \\frac{\\sqrt{5}}{2}$",
            "text/plain": [
              "sqrt(5)/2"
            ]
          },
          "metadata": {
            "tags": []
          }
        },
        {
          "output_type": "stream",
          "text": [
            "\n",
            "Фокусное расстояние\n"
          ],
          "name": "stdout"
        },
        {
          "output_type": "display_data",
          "data": {
            "text/latex": "$\\displaystyle 3 \\sqrt{5}$",
            "text/plain": [
              "3*sqrt(5)"
            ]
          },
          "metadata": {
            "tags": []
          }
        },
        {
          "output_type": "stream",
          "text": [
            "\n",
            "Фокусы\n"
          ],
          "name": "stdout"
        },
        {
          "output_type": "display_data",
          "data": {
            "text/latex": "$\\displaystyle Point2D\\left(3 - 3 \\sqrt{5}, 3\\right)$",
            "text/plain": [
              "Point2D(3 - 3*sqrt(5), 3)"
            ]
          },
          "metadata": {
            "tags": []
          }
        },
        {
          "output_type": "display_data",
          "data": {
            "text/latex": "$\\displaystyle Point2D\\left(3 + 3 \\sqrt{5}, 3\\right)$",
            "text/plain": [
              "Point2D(3 + 3*sqrt(5), 3)"
            ]
          },
          "metadata": {
            "tags": []
          }
        },
        {
          "output_type": "stream",
          "text": [
            "\n",
            "Periapsis\n"
          ],
          "name": "stdout"
        },
        {
          "output_type": "display_data",
          "data": {
            "text/latex": "$\\displaystyle -6 + 3 \\sqrt{5}$",
            "text/plain": [
              "-6 + 3*sqrt(5)"
            ]
          },
          "metadata": {
            "tags": []
          }
        },
        {
          "output_type": "stream",
          "text": [
            "\n",
            "Уравнение\n"
          ],
          "name": "stdout"
        },
        {
          "output_type": "display_data",
          "data": {
            "text/latex": "$\\displaystyle \\left(\\frac{x}{6} - \\frac{1}{2}\\right)^{2} - \\left(\\frac{y}{3} - 1\\right)^{2} - 1$",
            "text/plain": [
              "(x/6 - 1/2)**2 - (y/3 - 1)**2 - 1"
            ]
          },
          "metadata": {
            "tags": []
          }
        },
        {
          "output_type": "stream",
          "text": [
            "\n",
            "Ассимптоты\n"
          ],
          "name": "stdout"
        },
        {
          "output_type": "display_data",
          "data": {
            "text/latex": "$\\displaystyle - \\frac{x}{2} + y - \\frac{3}{2}$",
            "text/plain": [
              "-x/2 + y - 3/2"
            ]
          },
          "metadata": {
            "tags": []
          }
        },
        {
          "output_type": "display_data",
          "data": {
            "text/latex": "$\\displaystyle \\frac{x}{2} + y - \\frac{9}{2}$",
            "text/plain": [
              "x/2 + y - 9/2"
            ]
          },
          "metadata": {
            "tags": []
          }
        },
        {
          "output_type": "stream",
          "text": [
            "\n",
            "Директрисы\n"
          ],
          "name": "stdout"
        },
        {
          "output_type": "display_data",
          "data": {
            "text/latex": "$\\displaystyle x - \\frac{12 \\sqrt{5}}{5} - 3$",
            "text/plain": [
              "x - 12*sqrt(5)/5 - 3"
            ]
          },
          "metadata": {
            "tags": []
          }
        },
        {
          "output_type": "display_data",
          "data": {
            "text/latex": "$\\displaystyle x - 3 + \\frac{12 \\sqrt{5}}{5}$",
            "text/plain": [
              "x - 3 + 12*sqrt(5)/5"
            ]
          },
          "metadata": {
            "tags": []
          }
        },
        {
          "output_type": "stream",
          "text": [
            "\n",
            "График повернутой гиперболы\n"
          ],
          "name": "stdout"
        },
        {
          "output_type": "display_data",
          "data": {
            "text/latex": "$\\displaystyle x \\left(- 5 \\sqrt{3} - 8\\right) + y = - 15 \\sqrt{3} - 21$",
            "text/plain": [
              "Eq(x*(-5*sqrt(3) - 8) + y, -15*sqrt(3) - 21)"
            ]
          },
          "metadata": {
            "tags": []
          }
        },
        {
          "output_type": "display_data",
          "data": {
            "text/latex": "$\\displaystyle x \\left(8 - 5 \\sqrt{3}\\right) + y = 27 - 15 \\sqrt{3}$",
            "text/plain": [
              "Eq(x*(8 - 5*sqrt(3)) + y, 27 - 15*sqrt(3))"
            ]
          },
          "metadata": {
            "tags": []
          }
        },
        {
          "output_type": "display_data",
          "data": {
            "text/latex": "$\\displaystyle \\frac{\\sqrt{3} x}{3} + y = \\sqrt{3} + 3 + \\frac{4 \\sqrt{15 \\sqrt{3} + 45}}{5}$",
            "text/plain": [
              "Eq(sqrt(3)*x/3 + y, sqrt(3) + 3 + 4*sqrt(15*sqrt(3) + 45)/5)"
            ]
          },
          "metadata": {
            "tags": []
          }
        },
        {
          "output_type": "display_data",
          "data": {
            "text/latex": "$\\displaystyle \\frac{\\sqrt{3} x}{3} + y = - \\frac{4 \\sqrt{15 \\sqrt{3} + 45}}{5} + \\sqrt{3} + 3$",
            "text/plain": [
              "Eq(sqrt(3)*x/3 + y, -4*sqrt(15*sqrt(3) + 45)/5 + sqrt(3) + 3)"
            ]
          },
          "metadata": {
            "tags": []
          }
        },
        {
          "output_type": "display_data",
          "data": {
            "image/png": "[encoded data removed]",
            "text/plain": [
              "<Figure size 432x288 with 1 Axes>"
            ]
          },
          "metadata": {
            "tags": [],
            "needs_background": "light"
          }
        },
        {
          "output_type": "stream",
          "text": [
            "Уравнение\n"
          ],
          "name": "stdout"
        },
        {
          "output_type": "display_data",
          "data": {
            "text/latex": "$\\displaystyle \\frac{\\left(x + \\sqrt{3} \\left(y - 3\\right) - 3\\right)^{2}}{144} - \\frac{\\left(y - \\sqrt{3} \\left(x - 3\\right) - 3\\right)^{2}}{36} = 1$",
            "text/plain": [
              "Eq((x + sqrt(3)*(y - 3) - 3)**2/144 - (y - sqrt(3)*(x - 3) - 3)**2/36, 1)"
            ]
          },
          "metadata": {
            "tags": []
          }
        },
        {
          "output_type": "stream",
          "text": [
            "\n",
            "Ассимптоты\n"
          ],
          "name": "stdout"
        },
        {
          "output_type": "display_data",
          "data": {
            "text/latex": "$\\displaystyle y = \\frac{\\left(3 + 6 \\sqrt{3}\\right) \\left(x - 3\\right)}{6 - 3 \\sqrt{3}} + 3$",
            "text/plain": [
              "Eq(y, (3 + 6*sqrt(3))*(x - 3)/(6 - 3*sqrt(3)) + 3)"
            ]
          },
          "metadata": {
            "tags": []
          }
        },
        {
          "output_type": "display_data",
          "data": {
            "text/latex": "$\\displaystyle y = \\frac{\\left(-3 + 6 \\sqrt{3}\\right) \\left(x - 3\\right)}{3 \\sqrt{3} + 6} + 3$",
            "text/plain": [
              "Eq(y, (-3 + 6*sqrt(3))*(x - 3)/(3*sqrt(3) + 6) + 3)"
            ]
          },
          "metadata": {
            "tags": []
          }
        },
        {
          "output_type": "stream",
          "text": [
            "\n",
            "Директрисы\n"
          ],
          "name": "stdout"
        },
        {
          "output_type": "display_data",
          "data": {
            "text/latex": "$\\displaystyle y = - \\frac{\\sqrt{3} \\left(x - 3\\right)}{3} + 3 + \\frac{12 \\sqrt{5} \\sqrt{\\frac{\\sqrt{3}}{3} + 1}}{5}$",
            "text/plain": [
              "Eq(y, -sqrt(3)*(x - 3)/3 + 3 + 12*sqrt(5)*sqrt(sqrt(3)/3 + 1)/5)"
            ]
          },
          "metadata": {
            "tags": []
          }
        },
        {
          "output_type": "display_data",
          "data": {
            "text/latex": "$\\displaystyle y = - \\frac{\\sqrt{3} \\left(x - 3\\right)}{3} - \\frac{12 \\sqrt{5} \\sqrt{\\frac{\\sqrt{3}}{3} + 1}}{5} + 3$",
            "text/plain": [
              "Eq(y, -sqrt(3)*(x - 3)/3 - 12*sqrt(5)*sqrt(sqrt(3)/3 + 1)/5 + 3)"
            ]
          },
          "metadata": {
            "tags": []
          }
        },
        {
          "output_type": "stream",
          "text": [
            "\n"
          ],
          "name": "stdout"
        }
      ]
    },
    {
      "cell_type": "code",
      "metadata": {
        "id": "T28Jvdyf5k3x"
      },
      "source": [
        ""
      ],
      "execution_count": 20,
      "outputs": []
    }
  ]
}