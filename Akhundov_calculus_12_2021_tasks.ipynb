{
  "nbformat": 4,
  "nbformat_minor": 0,
  "metadata": {
    "kernelspec": {
      "display_name": "Python 3",
      "language": "python",
      "name": "python3"
    },
    "language_info": {
      "codemirror_mode": {
        "name": "ipython",
        "version": 3
      },
      "file_extension": ".py",
      "mimetype": "text/x-python",
      "name": "python",
      "nbconvert_exporter": "python",
      "pygments_lexer": "ipython3",
      "version": "3.7.3"
    },
    "colab": {
      "name": "Akhundov_calculus_12_2021_tasks.ipynb",
      "provenance": [],
      "collapsed_sections": [],
      "include_colab_link": true
    }
  },
  "cells": [
    {
      "cell_type": "markdown",
      "metadata": {
        "id": "view-in-github",
        "colab_type": "text"
      },
      "source": [
        "<a href=\"https://colab.research.google.com/github/TheSeems/HseNotebooks/blob/main/Akhundov_calculus_12_2021_tasks.ipynb\" target=\"_parent\"><img src=\"https://colab.research.google.com/assets/colab-badge.svg\" alt=\"Open In Colab\"/></a>"
      ]
    },
    {
      "cell_type": "code",
      "metadata": {
        "id": "wegf2yT6IHiS"
      },
      "source": [
        "import numpy as np\n",
        "import sympy\n",
        "from sympy import S, Symbol, symbols, solveset, integrate, Integral, diff, intersection, Interval, plot_parametric, plot_implicit, And, E, latex, plot\n",
        "from sympy import sin as Sin\n",
        "from sympy import cos as Cos\n",
        "from sympy import exp as Exp\n",
        "from sympy import log as Log\n",
        "from sympy import pi as Pi\n",
        "import matplotlib.pyplot as plt"
      ],
      "execution_count": 3,
      "outputs": []
    },
    {
      "cell_type": "markdown",
      "metadata": {
        "id": "b2uUzuDaIHiU"
      },
      "source": [
        "## Занятие 12\n",
        "## Математический анализ\n",
        "## Применение интегралов для вычисления объема тела вращения\n",
        "### Задание 1\n",
        "Вычислить объем тела вращения около оси ОX фигуры, ограниченной графиком $y = \\sin x$, $0 \\le x \\le \\pi$ и осью ОХ. Построить график с помощью plot из sympy, названием графика (title) сделать формулу для вычисления объема по образцу Примера 1, например\n",
        "$$\n",
        "\\pi\\int\\limits_0^1 (x - x^2)^2\\,dx = \\frac{\\pi}{30},\n",
        "$$\n",
        "только формула должна соответствовать Заданию 1. Использовать latex, mode='inline'."
      ]
    },
    {
      "cell_type": "code",
      "metadata": {
        "colab": {
          "base_uri": "https://localhost:8080/",
          "height": 446
        },
        "id": "0U5w3nN9IHiV",
        "outputId": "8709fbd7-7ac8-4fb6-a575-52a5e41ba9c1"
      },
      "source": [
        "x = Symbol('x')\n",
        "\n",
        "a = 0\n",
        "b = sympy.pi\n",
        "f = sympy.sin(x)\n",
        "\n",
        "vol = sympy.pi * Integral(f**2, (x, a, b))\n",
        "\n",
        "display(vol)\n",
        "print()\n",
        "display(vol.doit())\n",
        "print()\n",
        "\n",
        "plot(f, (x, a, b), title=latex(vol, mode='inline'))"
      ],
      "execution_count": null,
      "outputs": [
        {
          "output_type": "display_data",
          "data": {
            "text/latex": "$\\displaystyle \\pi \\int\\limits_{0}^{\\pi} \\sin^{2}{\\left(x \\right)}\\, dx$",
            "text/plain": [
              "pi*Integral(sin(x)**2, (x, 0, pi))"
            ]
          },
          "metadata": {
            "tags": []
          }
        },
        {
          "output_type": "stream",
          "text": [
            "\n"
          ],
          "name": "stdout"
        },
        {
          "output_type": "display_data",
          "data": {
            "text/latex": "$\\displaystyle \\frac{\\pi^{2}}{2}$",
            "text/plain": [
              "pi**2/2"
            ]
          },
          "metadata": {
            "tags": []
          }
        },
        {
          "output_type": "stream",
          "text": [
            "\n"
          ],
          "name": "stdout"
        },
        {
          "output_type": "display_data",
          "data": {
            "image/png": "[encoded data removed]",
            "text/plain": [
              "<Figure size 432x288 with 1 Axes>"
            ]
          },
          "metadata": {
            "tags": [],
            "needs_background": "light"
          }
        },
        {
          "output_type": "execute_result",
          "data": {
            "text/plain": [
              "<sympy.plotting.plot.Plot at 0x7f5cac32af50>"
            ]
          },
          "metadata": {
            "tags": []
          },
          "execution_count": 19
        }
      ]
    },
    {
      "cell_type": "markdown",
      "metadata": {
        "id": "2sIU4kVEIHiV"
      },
      "source": [
        "### Задание 2.\n",
        "Вычислить объем тела, получающегося вращением вокруг ОХ астроиды \n",
        "$$\n",
        "\\left\\{\n",
        "\\begin{matrix}\n",
        "x = \\cos^3 t\\\\\n",
        "y = \\sin^3 t\n",
        "\\end{matrix}\n",
        "\\right.\n",
        "$$\n",
        "\n",
        "###### Указание.\n",
        "Пределы интегрирования $\\pi, 0$, поскольку $\\cos^3 t$ убывает на $[0, \\pi]$."
      ]
    },
    {
      "cell_type": "code",
      "metadata": {
        "id": "wV2WXQkaIHiW",
        "colab": {
          "base_uri": "https://localhost:8080/",
          "height": 131
        },
        "outputId": "373a0d3c-3c8d-4521-dc0f-86085d344996"
      },
      "source": [
        "t = Symbol('t')\n",
        "phi = sympy.cos(t)**3\n",
        "psi = sympy.sin(t)**3\n",
        "\n",
        "v = sympy.pi * Integral(psi**2 * phi.diff(t), (t, sympy.pi, 0))\n",
        "\n",
        "display(v)\n",
        "print()\n",
        "display(v.doit())"
      ],
      "execution_count": 4,
      "outputs": [
        {
          "output_type": "display_data",
          "data": {
            "text/latex": "$\\displaystyle \\pi \\int\\limits_{\\pi}^{0} \\left(- 3 \\sin^{7}{\\left(t \\right)} \\cos^{2}{\\left(t \\right)}\\right)\\, dt$",
            "text/plain": [
              "pi*Integral(-3*sin(t)**7*cos(t)**2, (t, pi, 0))"
            ]
          },
          "metadata": {
            "tags": []
          }
        },
        {
          "output_type": "stream",
          "text": [
            "\n"
          ],
          "name": "stdout"
        },
        {
          "output_type": "display_data",
          "data": {
            "text/latex": "$\\displaystyle \\frac{32 \\pi}{105}$",
            "text/plain": [
              "32*pi/105"
            ]
          },
          "metadata": {
            "tags": []
          }
        }
      ]
    },
    {
      "cell_type": "markdown",
      "metadata": {
        "id": "Rd9JeahJIHiW"
      },
      "source": [
        "### Задание 3.\n",
        "Найти объем тела, которое получается вращением кривой $r = a\\cos^2\\phi$, $0 \\le \\phi \\le \\pi$, вокруг полярной оси.\n",
        "Построить график при $a = 1$ в полярной системе координат, воспользоваться функцией polar из matplotlib.pyplot."
      ]
    },
    {
      "cell_type": "code",
      "metadata": {
        "id": "U3Md5bFBIHiW",
        "colab": {
          "base_uri": "https://localhost:8080/",
          "height": 469
        },
        "outputId": "287524d3-68b8-4714-b10c-95076d89ee0b"
      },
      "source": [
        "phi = Symbol('\\\\varphi')\n",
        "phi_from = 0\n",
        "phi_to = sympy.pi\n",
        "\n",
        "a = Symbol('a')\n",
        "r = a * sympy.cos(phi)**2\n",
        "\n",
        "v = S(2) / 3 * sympy.pi * Integral(r ** 3 * sympy.sin(phi), (phi, phi_from, phi_to))\n",
        "\n",
        "display(v)\n",
        "print()\n",
        "display(v.doit(), v.doit().subs(a, 1))\n",
        "print()\n",
        "\n",
        "space = np.linspace(0, np.pi, 256)\n",
        "plt.polar(space, 1 * np.cos(space)**2, color='green', lw=3)"
      ],
      "execution_count": 7,
      "outputs": [
        {
          "output_type": "display_data",
          "data": {
            "text/latex": "$\\displaystyle \\frac{2 \\pi \\int\\limits_{0}^{\\pi} a^{3} \\sin{\\left(\\varphi \\right)} \\cos^{6}{\\left(\\varphi \\right)}\\, d\\varphi}{3}$",
            "text/plain": [
              "2*pi*Integral(a**3*sin(\\varphi)*cos(\\varphi)**6, (\\varphi, 0, pi))/3"
            ]
          },
          "metadata": {
            "tags": []
          }
        },
        {
          "output_type": "stream",
          "text": [
            "\n"
          ],
          "name": "stdout"
        },
        {
          "output_type": "display_data",
          "data": {
            "text/latex": "$\\displaystyle \\frac{4 \\pi a^{3}}{21}$",
            "text/plain": [
              "4*pi*a**3/21"
            ]
          },
          "metadata": {
            "tags": []
          }
        },
        {
          "output_type": "display_data",
          "data": {
            "text/latex": "$\\displaystyle \\frac{4 \\pi}{21}$",
            "text/plain": [
              "4*pi/21"
            ]
          },
          "metadata": {
            "tags": []
          }
        },
        {
          "output_type": "stream",
          "text": [
            "\n"
          ],
          "name": "stdout"
        },
        {
          "output_type": "execute_result",
          "data": {
            "text/plain": [
              "[<matplotlib.lines.Line2D at 0x7fd0027b7290>]"
            ]
          },
          "metadata": {
            "tags": []
          },
          "execution_count": 7
        },
        {
          "output_type": "display_data",
          "data": {
            "image/png": "[encoded data removed]",
            "text/plain": [
              "<Figure size 432x288 with 1 Axes>"
            ]
          },
          "metadata": {
            "tags": [],
            "needs_background": "light"
          }
        }
      ]
    },
    {
      "cell_type": "markdown",
      "metadata": {
        "id": "56BoCcyXIHiX"
      },
      "source": [
        "### Задание 4.\n",
        "Вычислить объем тела, образованного вращением около оси ОY фигуры, ограниченной \n",
        "параболой $y^2 = 2px$, прямой $x=\\frac{p}{2}$, $p > 0$ - параметр и осью ОY. Изобразить вращаемую фигуру с помощью plot_implicit.\n",
        "\n",
        "###### Указание.\n",
        "Вращаемая фигура симметрична относительно оси OX, поэтому можно вычислить объем фигуры, получающейся вращением верхней ветви параболы, а затем этот объем удвоить."
      ]
    },
    {
      "cell_type": "code",
      "metadata": {
        "id": "9oQSWhbTIHiX",
        "colab": {
          "base_uri": "https://localhost:8080/",
          "height": 418
        },
        "outputId": "4bd982d0-7f4c-4e24-df49-221c5fb4ece3"
      },
      "source": [
        "x, y = symbols('x y')\n",
        "p = Symbol('p', positive=True)\n",
        "\n",
        "y = sympy.sqrt(2 * p * x)\n",
        "v = 4 * Pi * Integral(x * y, (x, 0, S(1) / 2 * p))\n",
        "\n",
        "display(v, v.doit())\n",
        "plot(y.subs(p, 1), color='green')"
      ],
      "execution_count": 10,
      "outputs": [
        {
          "output_type": "display_data",
          "data": {
            "text/latex": "$\\displaystyle 4 \\pi \\int\\limits_{0}^{\\frac{p}{2}} \\sqrt{2} \\sqrt{p} x^{\\frac{3}{2}}\\, dx$",
            "text/plain": [
              "4*pi*Integral(sqrt(2)*sqrt(p)*x**(3/2), (x, 0, p/2))"
            ]
          },
          "metadata": {
            "tags": []
          }
        },
        {
          "output_type": "display_data",
          "data": {
            "text/latex": "$\\displaystyle \\frac{2 \\pi p^{3}}{5}$",
            "text/plain": [
              "2*pi*p**3/5"
            ]
          },
          "metadata": {
            "tags": []
          }
        },
        {
          "output_type": "display_data",
          "data": {
            "image/png": "[encoded data removed]",
            "text/plain": [
              "<Figure size 432x288 with 1 Axes>"
            ]
          },
          "metadata": {
            "tags": [],
            "needs_background": "light"
          }
        },
        {
          "output_type": "execute_result",
          "data": {
            "text/plain": [
              "<sympy.plotting.plot.Plot at 0x7fd002791050>"
            ]
          },
          "metadata": {
            "tags": []
          },
          "execution_count": 10
        }
      ]
    },
    {
      "cell_type": "markdown",
      "metadata": {
        "id": "S7__w1u3IHiX"
      },
      "source": [
        "### Задание 5.\n",
        "Вычислить объем тела, образованного вращением около оси ОY фигуры, ограниченной $y = e^x$, прямой $y=e$, и прямой $y = e^2$. "
      ]
    },
    {
      "cell_type": "code",
      "metadata": {
        "id": "wvW0G5PIIHiX",
        "colab": {
          "base_uri": "https://localhost:8080/",
          "height": 104
        },
        "outputId": "e5386de7-cbc7-4c0e-f0ab-699a0d4fc1a9"
      },
      "source": [
        "xt = sympy.log(y)\n",
        "v = sympy.pi * Integral(xt**2, (y, sympy.E, sympy.E**2))\n",
        "display(v, sympy.simplify(v.doit()))"
      ],
      "execution_count": 18,
      "outputs": [
        {
          "output_type": "display_data",
          "data": {
            "text/latex": "$\\displaystyle \\pi \\int\\limits_{e}^{e^{2}} \\log{\\left(y \\right)}^{2}\\, dy$",
            "text/plain": [
              "pi*Integral(log(y)**2, (y, E, exp(2)))"
            ]
          },
          "metadata": {
            "tags": []
          }
        },
        {
          "output_type": "display_data",
          "data": {
            "text/latex": "$\\displaystyle e \\pi \\left(-1 + 2 e\\right)$",
            "text/plain": [
              "E*pi*(-1 + 2*E)"
            ]
          },
          "metadata": {
            "tags": []
          }
        }
      ]
    },
    {
      "cell_type": "markdown",
      "metadata": {
        "id": "6T_Xg2_8IHiY"
      },
      "source": [
        "### Индивидуальное задание\n",
        "Вычислить объем тела, образованного при вращении области между графиками функций \n",
        "$f_1(x)$ и  $f_2(x)$. \n",
        "$$\n",
        "f(x) = 3 \\cos (x)\n",
        "$$\n",
        "$$\n",
        "g(x) = 3 \\cos (3x)\n",
        "$$"
      ]
    },
    {
      "cell_type": "code",
      "metadata": {
        "id": "hXDXtt-pIHiY",
        "colab": {
          "base_uri": "https://localhost:8080/",
          "height": 39
        },
        "outputId": "7a5b6133-7485-4020-9b41-3bf989c90702"
      },
      "source": [
        "f = 3 * sympy.cos(x)\n",
        "h = 3 * sympy.cos(3*x)\n",
        "\n",
        "solist = list(sympy.solveset(sympy.Eq(f, h), domain=Interval(0, sympy.pi)))\n",
        "\n",
        "V_OY = 2*Pi*Integral(y2 ** 2 - y1 ** 2, (x, 0, solist[1]))\n",
        "display(abs(sympy.simplify(V_OY.doit())))"
      ],
      "execution_count": 53,
      "outputs": [
        {
          "output_type": "display_data",
          "data": {
            "text/latex": "$\\displaystyle 9 \\pi^{2}$",
            "text/plain": [
              "9*pi**2"
            ]
          },
          "metadata": {
            "tags": []
          }
        }
      ]
    }
  ]
}