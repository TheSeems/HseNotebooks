{
  "nbformat": 4,
  "nbformat_minor": 0,
  "metadata": {
    "kernelspec": {
      "display_name": "Python 3",
      "language": "python",
      "name": "python3"
    },
    "language_info": {
      "codemirror_mode": {
        "name": "ipython",
        "version": 3
      },
      "file_extension": ".py",
      "mimetype": "text/x-python",
      "name": "python",
      "nbconvert_exporter": "python",
      "pygments_lexer": "ipython3",
      "version": "3.8.5"
    },
    "colab": {
      "name": "Alg_7_2020_tasks.ipynb",
      "provenance": []
    }
  },
  "cells": [
    {
      "cell_type": "code",
      "metadata": {
        "colab": {
          "base_uri": "https://localhost:8080/"
        },
        "id": "Kb4YklZA7Wer",
        "outputId": "d44c965d-e419-4347-dff0-4cde83e7e88d"
      },
      "source": [
        "# Modern versions of packages\r\n",
        "!python -m pip install sympy --upgrade\r\n",
        "!python -m pip install -U matplotlib\r\n",
        "!pip install numpy==1.19.0"
      ],
      "execution_count": 46,
      "outputs": [
        {
          "output_type": "stream",
          "text": [
            "Requirement already up-to-date: sympy in /usr/local/lib/python3.6/dist-packages (1.7.1)\n",
            "Requirement already satisfied, skipping upgrade: mpmath>=0.19 in /usr/local/lib/python3.6/dist-packages (from sympy) (1.1.0)\n",
            "Requirement already up-to-date: matplotlib in /usr/local/lib/python3.6/dist-packages (3.3.4)\n",
            "Requirement already satisfied, skipping upgrade: kiwisolver>=1.0.1 in /usr/local/lib/python3.6/dist-packages (from matplotlib) (1.3.1)\n",
            "Requirement already satisfied, skipping upgrade: numpy>=1.15 in /usr/local/lib/python3.6/dist-packages (from matplotlib) (1.19.0)\n",
            "Requirement already satisfied, skipping upgrade: pillow>=6.2.0 in /usr/local/lib/python3.6/dist-packages (from matplotlib) (7.0.0)\n",
            "Requirement already satisfied, skipping upgrade: pyparsing!=2.0.4,!=2.1.2,!=2.1.6,>=2.0.3 in /usr/local/lib/python3.6/dist-packages (from matplotlib) (2.4.7)\n",
            "Requirement already satisfied, skipping upgrade: python-dateutil>=2.1 in /usr/local/lib/python3.6/dist-packages (from matplotlib) (2.8.1)\n",
            "Requirement already satisfied, skipping upgrade: cycler>=0.10 in /usr/local/lib/python3.6/dist-packages (from matplotlib) (0.10.0)\n",
            "Requirement already satisfied, skipping upgrade: six>=1.5 in /usr/local/lib/python3.6/dist-packages (from python-dateutil>=2.1->matplotlib) (1.15.0)\n",
            "Requirement already satisfied: numpy==1.19.0 in /usr/local/lib/python3.6/dist-packages (1.19.0)\n"
          ],
          "name": "stdout"
        }
      ]
    },
    {
      "cell_type": "code",
      "metadata": {
        "id": "Bi2D6UV867AW"
      },
      "source": [
        "import sympy\n",
        "from sympy import  Point, Line, Plane, Point3D, solve, solveset"
      ],
      "execution_count": 47,
      "outputs": []
    },
    {
      "cell_type": "markdown",
      "metadata": {
        "id": "PdFHAQhy67Ac"
      },
      "source": [
        "# Лабораторная работа 7\n",
        "# Алгебра\n",
        "https://docs.sympy.org/latest/search.html?q=geometry\n",
        "\n",
        "## Прямые и плоскости в пространстве. Модуль Geometry\n",
        "### Задание 1.\n",
        "Даны точки: $A(3, -2, 3)$,  $B(-2, 3, 1)$, $C(1, -8, 6)$, $D(1, 2, 4)$, $F(-7, 8, -1)$.\n",
        "\n",
        "Проверить, различны ли прямые $AB$ и $AF$, $BC$ и $CD$, $ABC$ и $ACF$, $ABC$ и $ACD$. "
      ]
    },
    {
      "cell_type": "code",
      "metadata": {
        "colab": {
          "base_uri": "https://localhost:8080/",
          "height": 265
        },
        "id": "ODS6k0IM67Ad",
        "outputId": "eb641913-d2a1-42d6-86db-7573237e3ca4"
      },
      "source": [
        "A, B, C, D, F = [\n",
        "    Point(3, -2, 3),\n",
        "    Point(-2, 3, 1),\n",
        "    Point(1, -8, 6),\n",
        "    Point(1, 2, 4),\n",
        "    Point(-7, 8, -1)\n",
        "]\n",
        "\n",
        "primitives = [\n",
        "    Line(A, B), Line(A, F),\n",
        "    Line(B, C), Line(C, D),\n",
        "    Plane(A, B, C), Plane(A, C, F),\n",
        "    Plane(A, B, C), Plane(A, C, D)\n",
        "]\n",
        "\n",
        "for i in range(0, len(primitives), 2):\n",
        "    first, second = primitives[i], primitives[i + 1]\n",
        "    display(first, second, first.equals(second))"
      ],
      "execution_count": 48,
      "outputs": [
        {
          "output_type": "display_data",
          "data": {
            "text/latex": "$\\displaystyle Line3D\\left(Point3D\\left(3, -2, 3\\right), Point3D\\left(-2, 3, 1\\right)\\right)$",
            "text/plain": [
              "Line3D(Point3D(3, -2, 3), Point3D(-2, 3, 1))"
            ]
          },
          "metadata": {
            "tags": []
          }
        },
        {
          "output_type": "display_data",
          "data": {
            "text/latex": "$\\displaystyle Line3D\\left(Point3D\\left(3, -2, 3\\right), Point3D\\left(-7, 8, -1\\right)\\right)$",
            "text/plain": [
              "Line3D(Point3D(3, -2, 3), Point3D(-7, 8, -1))"
            ]
          },
          "metadata": {
            "tags": []
          }
        },
        {
          "output_type": "display_data",
          "data": {
            "text/plain": [
              "True"
            ]
          },
          "metadata": {
            "tags": []
          }
        },
        {
          "output_type": "display_data",
          "data": {
            "text/latex": "$\\displaystyle Line3D\\left(Point3D\\left(-2, 3, 1\\right), Point3D\\left(1, -8, 6\\right)\\right)$",
            "text/plain": [
              "Line3D(Point3D(-2, 3, 1), Point3D(1, -8, 6))"
            ]
          },
          "metadata": {
            "tags": []
          }
        },
        {
          "output_type": "display_data",
          "data": {
            "text/latex": "$\\displaystyle Line3D\\left(Point3D\\left(1, -8, 6\\right), Point3D\\left(1, 2, 4\\right)\\right)$",
            "text/plain": [
              "Line3D(Point3D(1, -8, 6), Point3D(1, 2, 4))"
            ]
          },
          "metadata": {
            "tags": []
          }
        },
        {
          "output_type": "display_data",
          "data": {
            "text/plain": [
              "False"
            ]
          },
          "metadata": {
            "tags": []
          }
        },
        {
          "output_type": "display_data",
          "data": {
            "text/latex": "$\\displaystyle Plane\\left(Point3D\\left(3, -2, 3\\right), \\left( 3, \\  19, \\  40\\right)\\right)$",
            "text/plain": [
              "Plane(Point3D(3, -2, 3), (3, 19, 40))"
            ]
          },
          "metadata": {
            "tags": []
          }
        },
        {
          "output_type": "display_data",
          "data": {
            "text/latex": "$\\displaystyle Plane\\left(Point3D\\left(3, -2, 3\\right), \\left( -6, \\  -38, \\  -80\\right)\\right)$",
            "text/plain": [
              "Plane(Point3D(3, -2, 3), (-6, -38, -80))"
            ]
          },
          "metadata": {
            "tags": []
          }
        },
        {
          "output_type": "display_data",
          "data": {
            "text/plain": [
              "True"
            ]
          },
          "metadata": {
            "tags": []
          }
        },
        {
          "output_type": "display_data",
          "data": {
            "text/latex": "$\\displaystyle Plane\\left(Point3D\\left(3, -2, 3\\right), \\left( 3, \\  19, \\  40\\right)\\right)$",
            "text/plain": [
              "Plane(Point3D(3, -2, 3), (3, 19, 40))"
            ]
          },
          "metadata": {
            "tags": []
          }
        },
        {
          "output_type": "display_data",
          "data": {
            "text/latex": "$\\displaystyle Plane\\left(Point3D\\left(3, -2, 3\\right), \\left( -18, \\  -4, \\  -20\\right)\\right)$",
            "text/plain": [
              "Plane(Point3D(3, -2, 3), (-18, -4, -20))"
            ]
          },
          "metadata": {
            "tags": []
          }
        },
        {
          "output_type": "display_data",
          "data": {
            "text/plain": [
              "False"
            ]
          },
          "metadata": {
            "tags": []
          }
        }
      ]
    },
    {
      "cell_type": "markdown",
      "metadata": {
        "id": "t0Mju6Z667Ae"
      },
      "source": [
        "###  Задание 2\n",
        "Вывести на экран уравнение обеих биссектрис двугранных углов, образованных при пересечении плоскостей АВС и АСD.\n",
        "\n",
        "Указание: расстояние от любой точки на биссектрисе до каждой из плоскостей АВС и АСD одинаково, полученное из этого уравнение описывает обе биссектрисы, упрощать его не нужно."
      ]
    },
    {
      "cell_type": "code",
      "metadata": {
        "colab": {
          "base_uri": "https://localhost:8080/",
          "height": 69
        },
        "id": "agTkhwCb67Ae",
        "outputId": "c251c805-01ed-4a45-c490-322b2a849cfe"
      },
      "source": [
        "ABC = Plane(A, B, C)\n",
        "ACD = Plane(A, C, D)\n",
        "\n",
        "x, y, z = sympy.symbols('x y z')\n",
        "xpoint = Point(x, y, z)\n",
        "eq = sympy.Eq(ABC.distance(xpoint), ACD.distance(xpoint))\n",
        "\n",
        "display(eq)"
      ],
      "execution_count": null,
      "outputs": [
        {
          "output_type": "display_data",
          "data": {
            "text/latex": "$\\displaystyle \\left|{\\frac{3 \\sqrt{1970} \\left(x - 3\\right)}{1970} + \\frac{19 \\sqrt{1970} \\left(y + 2\\right)}{1970} + \\frac{4 \\sqrt{1970} \\left(z - 3\\right)}{197}}\\right| = \\left|{\\frac{9 \\sqrt{185} \\left(x - 3\\right)}{185} + \\frac{2 \\sqrt{185} \\left(y + 2\\right)}{185} + \\frac{2 \\sqrt{185} \\left(z - 3\\right)}{37}}\\right|$",
            "text/plain": [
              "Eq(Abs(3*sqrt(1970)*(x - 3)/1970 + 19*sqrt(1970)*(y + 2)/1970 + 4*sqrt(1970)*(z - 3)/197), Abs(9*sqrt(185)*(x - 3)/185 + 2*sqrt(185)*(y + 2)/185 + 2*sqrt(185)*(z - 3)/37))"
            ]
          },
          "metadata": {
            "tags": []
          }
        }
      ]
    },
    {
      "cell_type": "markdown",
      "metadata": {
        "id": "GJpG9LEQ67Af"
      },
      "source": [
        "###  Задание 3\n",
        "Построить плоскость, перпендикулярную плоскости АВС, проходящую через D и начало координат. Найти линию пересечения АВС и этой плоскости."
      ]
    },
    {
      "cell_type": "code",
      "metadata": {
        "colab": {
          "base_uri": "https://localhost:8080/",
          "height": 56
        },
        "id": "7HZ58XzE67Af",
        "outputId": "c79a1de1-df75-4a25-ae7b-b35e5af6a8a3"
      },
      "source": [
        "alternate_plane = ABC.perpendicular_plane(D, Point(0, 0, 0))\n",
        "display(alternate_plane, ABC.intersection(alternate_plane))"
      ],
      "execution_count": null,
      "outputs": [
        {
          "output_type": "display_data",
          "data": {
            "text/latex": "$\\displaystyle Plane\\left(Point3D\\left(1, 2, 4\\right), \\left( -4, \\  28, \\  -13\\right)\\right)$",
            "text/plain": [
              "Plane(Point3D(1, 2, 4), (-4, 28, -13))"
            ]
          },
          "metadata": {
            "tags": []
          }
        },
        {
          "output_type": "display_data",
          "data": {
            "text/plain": [
              "[Line3D(Point3D(637/40, 91/40, 0), Point3D(-54043/40, -4749/40, 160))]"
            ]
          },
          "metadata": {
            "tags": []
          }
        }
      ]
    },
    {
      "cell_type": "markdown",
      "metadata": {
        "id": "2Tr0P67k67Af"
      },
      "source": [
        "###  Задание 4\n",
        "Найти пересечение плоскости АВС и прямой DK, где K(3,-2, 3)."
      ]
    },
    {
      "cell_type": "code",
      "metadata": {
        "colab": {
          "base_uri": "https://localhost:8080/",
          "height": 35
        },
        "id": "75tcq9ht67Af",
        "outputId": "5f443ca8-2101-4f56-f57b-1e79075b6629"
      },
      "source": [
        "K = Point(3, -2, 3)\n",
        "isec_result = ABC.intersection(Line(D, K))\n",
        "display(isec_result)"
      ],
      "execution_count": null,
      "outputs": [
        {
          "output_type": "display_data",
          "data": {
            "text/plain": [
              "[Point3D(3, -2, 3)]"
            ]
          },
          "metadata": {
            "tags": []
          }
        }
      ]
    },
    {
      "cell_type": "markdown",
      "metadata": {
        "id": "BDU2GYu967Ag"
      },
      "source": [
        "###  Задание 5\n",
        "Проверить, что точка пересечения из Задания 4 лежит в плоскости AFC."
      ]
    },
    {
      "cell_type": "code",
      "metadata": {
        "colab": {
          "base_uri": "https://localhost:8080/",
          "height": 37
        },
        "id": "hXnq8uaM67Ag",
        "outputId": "80915db3-7cd0-4f04-df58-c3ffd0d9ebb1"
      },
      "source": [
        "AFC = Plane(A, F, C)\n",
        "AFC.distance(isec_result[0]) # Равно нулю, значит лежит в AFC"
      ],
      "execution_count": null,
      "outputs": [
        {
          "output_type": "execute_result",
          "data": {
            "text/latex": "$\\displaystyle 0$",
            "text/plain": [
              "0"
            ]
          },
          "metadata": {
            "tags": []
          },
          "execution_count": 7
        }
      ]
    },
    {
      "cell_type": "markdown",
      "metadata": {
        "id": "Vt4yRrIl67Ah"
      },
      "source": [
        "###  Задание 6\n",
        "Даны точки: A(3, -2, 3),  B(-2, 3, 1), C(1, -8, 6), D(1, 2, 4), F(-7, 8, -1).\n",
        "\n",
        "Составить словарь всех прямых (в нем должны быть и прямая АВ, и ВА!), каждая из которых проходит хотя бы через две заданные точки, ключ - сама прямая (Line), значение - список из имен ВСЕХ точек, лежащих на этой прямой. Вывести на экран имена только тех прямых, на которых лежит не менее трех точек из условия, а также список точек, лежащих на прямой."
      ]
    },
    {
      "cell_type": "code",
      "metadata": {
        "id": "SovCuMEG67Ah",
        "colab": {
          "base_uri": "https://localhost:8080/"
        },
        "outputId": "e7e5f5a7-e75d-49e9-c524-61ad9bc0a93a"
      },
      "source": [
        "A, B, C, D, F = [\n",
        "    Point(3, -2, 3),\n",
        "    Point(-2, 3, 1),\n",
        "    Point(1, -8, 6),\n",
        "    Point(1, 2, 4),\n",
        "    Point(-7, 8, -1)\n",
        "]\n",
        "\n",
        "points = {'A': A, 'B': B, 'C': C, 'D': D, 'F': F}\n",
        "lines = {}\n",
        "\n",
        "for i in range(len(points)):\n",
        "  for j in range(i + 1, len(points)):\n",
        "    keys = list(points.keys())\n",
        "    dotA, dotB = keys[i], keys[j]\n",
        "    lines[dotA + dotB] = set([dotA, dotB])\n",
        "\n",
        "for point_name in points:\n",
        "  point = points[point_name]\n",
        "  for line_name in lines:\n",
        "    line = Line(points[line_name[0]], points[line_name[1]])\n",
        "    if line.distance(point) == 0:\n",
        "      lines[line_name].add(point_name)\n",
        "\n",
        "for key in lines:\n",
        "  if len(lines[key]) >= 3:\n",
        "    print(key)"
      ],
      "execution_count": 42,
      "outputs": [
        {
          "output_type": "stream",
          "text": [
            "AB\n",
            "AF\n",
            "BF\n"
          ],
          "name": "stdout"
        }
      ]
    },
    {
      "cell_type": "markdown",
      "metadata": {
        "id": "4YWnznVX67Ah"
      },
      "source": [
        "### Индивидуальное задание\n",
        "\n",
        "Даны точки: $A(3, 2, 1)$,  $B(2, -3, 1)$, $C(0, -4, 6)$, $D(4, 7, 1)$, $F(1, -8, 1)$.\n",
        "\n",
        "Составить список lines_list, состоящий из  tuple из троек прямых, каждая из которых проходит через две (или более) заданные точки, причем все прямые пересекаются в одной точке. Совпадающие прямые не учитывать. "
      ]
    },
    {
      "cell_type": "markdown",
      "metadata": {
        "id": "OEoxFwUlBVmV"
      },
      "source": [
        "Вариант N4\r\n",
        "\r\n",
        "Точки: $A(10, 4, -5)$, $H(7, 0, -6)$, $P(23/2, 5, -9/2)$, $U(16, 10, -3)$ и $W(13, 6, -4)$."
      ]
    },
    {
      "cell_type": "code",
      "metadata": {
        "id": "nbh7lvwf67Ah",
        "colab": {
          "base_uri": "https://localhost:8080/",
          "height": 225
        },
        "outputId": "af3efc48-df7e-4453-92f1-2ba9df8424ec"
      },
      "source": [
        "points = [\r\n",
        "  Point(10, 4, -5),\r\n",
        "  Point(7, 0, -6),\r\n",
        "  Point(23 / 2, 5, -9 / 2),\r\n",
        "  Point(16, 10, -3),\r\n",
        "  Point(13, 6, -4)\r\n",
        "]\r\n",
        "lines = []\r\n",
        "\r\n",
        "def put(value):\r\n",
        "  for element in lines:\r\n",
        "    if element.equals(value):\r\n",
        "      return\r\n",
        "  lines.append(value)\r\n",
        "\r\n",
        "for i, dotA in enumerate(points):\r\n",
        "  for dotB in points[i + 1:]:\r\n",
        "    put(Line(dotA, dotB))\r\n",
        "\r\n",
        "lines_list = []\r\n",
        "for i, lineA in enumerate(lines):\r\n",
        "  for j, lineB in enumerate(lines[i+1:]):\r\n",
        "    for lineC in lines[i+j+2:]:\r\n",
        "      if Line.are_concurrent(lineA, lineB, lineC):\r\n",
        "        lines_list.append((lineA, lineB, lineC))\r\n",
        "\r\n",
        "display(lines_list)"
      ],
      "execution_count": 45,
      "outputs": [
        {
          "output_type": "display_data",
          "data": {
            "text/plain": [
              "[(Line3D(Point3D(10, 4, -5), Point3D(7, 0, -6)),\n",
              "  Line3D(Point3D(10, 4, -5), Point3D(23/2, 5, -9/2)),\n",
              "  Line3D(Point3D(10, 4, -5), Point3D(16, 10, -3))),\n",
              " (Line3D(Point3D(10, 4, -5), Point3D(7, 0, -6)),\n",
              "  Line3D(Point3D(7, 0, -6), Point3D(23/2, 5, -9/2)),\n",
              "  Line3D(Point3D(7, 0, -6), Point3D(13, 6, -4))),\n",
              " (Line3D(Point3D(10, 4, -5), Point3D(23/2, 5, -9/2)),\n",
              "  Line3D(Point3D(7, 0, -6), Point3D(13, 6, -4)),\n",
              "  Line3D(Point3D(16, 10, -3), Point3D(13, 6, -4))),\n",
              " (Line3D(Point3D(10, 4, -5), Point3D(16, 10, -3)),\n",
              "  Line3D(Point3D(7, 0, -6), Point3D(23/2, 5, -9/2)),\n",
              "  Line3D(Point3D(16, 10, -3), Point3D(13, 6, -4)))]"
            ]
          },
          "metadata": {
            "tags": []
          }
        }
      ]
    }
  ]
}